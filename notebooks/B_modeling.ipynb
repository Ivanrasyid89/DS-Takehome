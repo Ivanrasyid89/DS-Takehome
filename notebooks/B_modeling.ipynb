{
  "nbformat": 4,
  "nbformat_minor": 0,
  "metadata": {
    "colab": {
      "provenance": []
    },
    "kernelspec": {
      "name": "python3",
      "display_name": "Python 3"
    },
    "language_info": {
      "name": "python"
    }
  },
  "cells": [
    {
      "cell_type": "markdown",
      "source": [
        "# **IMPORT LIBRARY**"
      ],
      "metadata": {
        "id": "jFgZcG8b2msi"
      }
    },
    {
      "cell_type": "code",
      "execution_count": 1,
      "metadata": {
        "id": "OoE_oWAD2jLD"
      },
      "outputs": [],
      "source": [
        "import pandas as pd\n",
        "import numpy as np\n",
        "import matplotlib.pyplot as plt\n",
        "import seaborn as sns\n",
        "import warnings\n",
        "warnings.filterwarnings('ignore')\n",
        "# TRAIN TEST SPLIT\n",
        "from sklearn.model_selection import train_test_split\n",
        "# STANDARDIZATION\n",
        "from sklearn.preprocessing import StandardScaler\n",
        "# SMOTE\n",
        "from imblearn.over_sampling import SMOTE\n",
        "# LOGISTIC REGRESSION\n",
        "from sklearn.linear_model import LogisticRegression\n",
        "# GRADIENT BOOSTING CLASSIFIER\n",
        "from sklearn.ensemble import GradientBoostingClassifier\n",
        "# EVALUATION METRIX\n",
        "from sklearn.metrics import accuracy_score, classification_report, confusion_matrix, precision_score, recall_score, f1_score, roc_curve, auc, roc_auc_score\n",
        "# HYPERPARAMETER TUNING\n",
        "from sklearn.model_selection import GridSearchCV\n",
        "# Pipeline\n",
        "from sklearn.pipeline import Pipeline"
      ]
    },
    {
      "cell_type": "markdown",
      "source": [
        "Melakukan import library yang dibutuhkan untuk analisis dan pemodelan"
      ],
      "metadata": {
        "id": "rM46iJ1Sg395"
      }
    },
    {
      "cell_type": "markdown",
      "source": [
        "# **IMPORT DATA**"
      ],
      "metadata": {
        "id": "UUf0f38v3jqA"
      }
    },
    {
      "cell_type": "code",
      "source": [
        "data = pd.read_csv('credit_scoring.csv')\n",
        "data"
      ],
      "metadata": {
        "colab": {
          "base_uri": "https://localhost:8080/",
          "height": 423
        },
        "id": "pbVw6tE03mKQ",
        "outputId": "228f0588-10e4-4586-e538-439a0410225c"
      },
      "execution_count": 2,
      "outputs": [
        {
          "output_type": "execute_result",
          "data": {
            "text/plain": [
              "      application_id  age  monthly_income  loan_amount  previous_defaults  \\\n",
              "0             501000   41        13995609      5982664                  0   \n",
              "1             501001   58        13683833      3711198                  0   \n",
              "2             501002   33         9417391      7172332                  0   \n",
              "3             501003   45         6861811      8661056                  0   \n",
              "4             501004   22         5640742      4520669                  1   \n",
              "...              ...  ...             ...          ...                ...   \n",
              "5995          506995   26        18253018      3690565                  2   \n",
              "5996          506996   40         9944385      4082038                  1   \n",
              "5997          506997   28         9048532     14760384                  0   \n",
              "5998          506998   51         6843160     11774594                  0   \n",
              "5999          506999   35        12715733      8006387                  0   \n",
              "\n",
              "      credit_score  default  leak_col_good  leak_col_subtle  \n",
              "0              624        0              0           -0.040  \n",
              "1              809        0              0            0.001  \n",
              "2              647        0              0            0.077  \n",
              "3              450        0              0            0.038  \n",
              "4              816        0              0            0.020  \n",
              "...            ...      ...            ...              ...  \n",
              "5995           729        0              0            0.008  \n",
              "5996           477        0              0            0.017  \n",
              "5997           450        0              0           -0.054  \n",
              "5998           561        0              0            0.026  \n",
              "5999           774        0              0            0.008  \n",
              "\n",
              "[6000 rows x 9 columns]"
            ],
            "text/html": [
              "\n",
              "  <div id=\"df-c3857e2a-a7d6-4985-aac0-89061717b405\" class=\"colab-df-container\">\n",
              "    <div>\n",
              "<style scoped>\n",
              "    .dataframe tbody tr th:only-of-type {\n",
              "        vertical-align: middle;\n",
              "    }\n",
              "\n",
              "    .dataframe tbody tr th {\n",
              "        vertical-align: top;\n",
              "    }\n",
              "\n",
              "    .dataframe thead th {\n",
              "        text-align: right;\n",
              "    }\n",
              "</style>\n",
              "<table border=\"1\" class=\"dataframe\">\n",
              "  <thead>\n",
              "    <tr style=\"text-align: right;\">\n",
              "      <th></th>\n",
              "      <th>application_id</th>\n",
              "      <th>age</th>\n",
              "      <th>monthly_income</th>\n",
              "      <th>loan_amount</th>\n",
              "      <th>previous_defaults</th>\n",
              "      <th>credit_score</th>\n",
              "      <th>default</th>\n",
              "      <th>leak_col_good</th>\n",
              "      <th>leak_col_subtle</th>\n",
              "    </tr>\n",
              "  </thead>\n",
              "  <tbody>\n",
              "    <tr>\n",
              "      <th>0</th>\n",
              "      <td>501000</td>\n",
              "      <td>41</td>\n",
              "      <td>13995609</td>\n",
              "      <td>5982664</td>\n",
              "      <td>0</td>\n",
              "      <td>624</td>\n",
              "      <td>0</td>\n",
              "      <td>0</td>\n",
              "      <td>-0.040</td>\n",
              "    </tr>\n",
              "    <tr>\n",
              "      <th>1</th>\n",
              "      <td>501001</td>\n",
              "      <td>58</td>\n",
              "      <td>13683833</td>\n",
              "      <td>3711198</td>\n",
              "      <td>0</td>\n",
              "      <td>809</td>\n",
              "      <td>0</td>\n",
              "      <td>0</td>\n",
              "      <td>0.001</td>\n",
              "    </tr>\n",
              "    <tr>\n",
              "      <th>2</th>\n",
              "      <td>501002</td>\n",
              "      <td>33</td>\n",
              "      <td>9417391</td>\n",
              "      <td>7172332</td>\n",
              "      <td>0</td>\n",
              "      <td>647</td>\n",
              "      <td>0</td>\n",
              "      <td>0</td>\n",
              "      <td>0.077</td>\n",
              "    </tr>\n",
              "    <tr>\n",
              "      <th>3</th>\n",
              "      <td>501003</td>\n",
              "      <td>45</td>\n",
              "      <td>6861811</td>\n",
              "      <td>8661056</td>\n",
              "      <td>0</td>\n",
              "      <td>450</td>\n",
              "      <td>0</td>\n",
              "      <td>0</td>\n",
              "      <td>0.038</td>\n",
              "    </tr>\n",
              "    <tr>\n",
              "      <th>4</th>\n",
              "      <td>501004</td>\n",
              "      <td>22</td>\n",
              "      <td>5640742</td>\n",
              "      <td>4520669</td>\n",
              "      <td>1</td>\n",
              "      <td>816</td>\n",
              "      <td>0</td>\n",
              "      <td>0</td>\n",
              "      <td>0.020</td>\n",
              "    </tr>\n",
              "    <tr>\n",
              "      <th>...</th>\n",
              "      <td>...</td>\n",
              "      <td>...</td>\n",
              "      <td>...</td>\n",
              "      <td>...</td>\n",
              "      <td>...</td>\n",
              "      <td>...</td>\n",
              "      <td>...</td>\n",
              "      <td>...</td>\n",
              "      <td>...</td>\n",
              "    </tr>\n",
              "    <tr>\n",
              "      <th>5995</th>\n",
              "      <td>506995</td>\n",
              "      <td>26</td>\n",
              "      <td>18253018</td>\n",
              "      <td>3690565</td>\n",
              "      <td>2</td>\n",
              "      <td>729</td>\n",
              "      <td>0</td>\n",
              "      <td>0</td>\n",
              "      <td>0.008</td>\n",
              "    </tr>\n",
              "    <tr>\n",
              "      <th>5996</th>\n",
              "      <td>506996</td>\n",
              "      <td>40</td>\n",
              "      <td>9944385</td>\n",
              "      <td>4082038</td>\n",
              "      <td>1</td>\n",
              "      <td>477</td>\n",
              "      <td>0</td>\n",
              "      <td>0</td>\n",
              "      <td>0.017</td>\n",
              "    </tr>\n",
              "    <tr>\n",
              "      <th>5997</th>\n",
              "      <td>506997</td>\n",
              "      <td>28</td>\n",
              "      <td>9048532</td>\n",
              "      <td>14760384</td>\n",
              "      <td>0</td>\n",
              "      <td>450</td>\n",
              "      <td>0</td>\n",
              "      <td>0</td>\n",
              "      <td>-0.054</td>\n",
              "    </tr>\n",
              "    <tr>\n",
              "      <th>5998</th>\n",
              "      <td>506998</td>\n",
              "      <td>51</td>\n",
              "      <td>6843160</td>\n",
              "      <td>11774594</td>\n",
              "      <td>0</td>\n",
              "      <td>561</td>\n",
              "      <td>0</td>\n",
              "      <td>0</td>\n",
              "      <td>0.026</td>\n",
              "    </tr>\n",
              "    <tr>\n",
              "      <th>5999</th>\n",
              "      <td>506999</td>\n",
              "      <td>35</td>\n",
              "      <td>12715733</td>\n",
              "      <td>8006387</td>\n",
              "      <td>0</td>\n",
              "      <td>774</td>\n",
              "      <td>0</td>\n",
              "      <td>0</td>\n",
              "      <td>0.008</td>\n",
              "    </tr>\n",
              "  </tbody>\n",
              "</table>\n",
              "<p>6000 rows × 9 columns</p>\n",
              "</div>\n",
              "    <div class=\"colab-df-buttons\">\n",
              "\n",
              "  <div class=\"colab-df-container\">\n",
              "    <button class=\"colab-df-convert\" onclick=\"convertToInteractive('df-c3857e2a-a7d6-4985-aac0-89061717b405')\"\n",
              "            title=\"Convert this dataframe to an interactive table.\"\n",
              "            style=\"display:none;\">\n",
              "\n",
              "  <svg xmlns=\"http://www.w3.org/2000/svg\" height=\"24px\" viewBox=\"0 -960 960 960\">\n",
              "    <path d=\"M120-120v-720h720v720H120Zm60-500h600v-160H180v160Zm220 220h160v-160H400v160Zm0 220h160v-160H400v160ZM180-400h160v-160H180v160Zm440 0h160v-160H620v160ZM180-180h160v-160H180v160Zm440 0h160v-160H620v160Z\"/>\n",
              "  </svg>\n",
              "    </button>\n",
              "\n",
              "  <style>\n",
              "    .colab-df-container {\n",
              "      display:flex;\n",
              "      gap: 12px;\n",
              "    }\n",
              "\n",
              "    .colab-df-convert {\n",
              "      background-color: #E8F0FE;\n",
              "      border: none;\n",
              "      border-radius: 50%;\n",
              "      cursor: pointer;\n",
              "      display: none;\n",
              "      fill: #1967D2;\n",
              "      height: 32px;\n",
              "      padding: 0 0 0 0;\n",
              "      width: 32px;\n",
              "    }\n",
              "\n",
              "    .colab-df-convert:hover {\n",
              "      background-color: #E2EBFA;\n",
              "      box-shadow: 0px 1px 2px rgba(60, 64, 67, 0.3), 0px 1px 3px 1px rgba(60, 64, 67, 0.15);\n",
              "      fill: #174EA6;\n",
              "    }\n",
              "\n",
              "    .colab-df-buttons div {\n",
              "      margin-bottom: 4px;\n",
              "    }\n",
              "\n",
              "    [theme=dark] .colab-df-convert {\n",
              "      background-color: #3B4455;\n",
              "      fill: #D2E3FC;\n",
              "    }\n",
              "\n",
              "    [theme=dark] .colab-df-convert:hover {\n",
              "      background-color: #434B5C;\n",
              "      box-shadow: 0px 1px 3px 1px rgba(0, 0, 0, 0.15);\n",
              "      filter: drop-shadow(0px 1px 2px rgba(0, 0, 0, 0.3));\n",
              "      fill: #FFFFFF;\n",
              "    }\n",
              "  </style>\n",
              "\n",
              "    <script>\n",
              "      const buttonEl =\n",
              "        document.querySelector('#df-c3857e2a-a7d6-4985-aac0-89061717b405 button.colab-df-convert');\n",
              "      buttonEl.style.display =\n",
              "        google.colab.kernel.accessAllowed ? 'block' : 'none';\n",
              "\n",
              "      async function convertToInteractive(key) {\n",
              "        const element = document.querySelector('#df-c3857e2a-a7d6-4985-aac0-89061717b405');\n",
              "        const dataTable =\n",
              "          await google.colab.kernel.invokeFunction('convertToInteractive',\n",
              "                                                    [key], {});\n",
              "        if (!dataTable) return;\n",
              "\n",
              "        const docLinkHtml = 'Like what you see? Visit the ' +\n",
              "          '<a target=\"_blank\" href=https://colab.research.google.com/notebooks/data_table.ipynb>data table notebook</a>'\n",
              "          + ' to learn more about interactive tables.';\n",
              "        element.innerHTML = '';\n",
              "        dataTable['output_type'] = 'display_data';\n",
              "        await google.colab.output.renderOutput(dataTable, element);\n",
              "        const docLink = document.createElement('div');\n",
              "        docLink.innerHTML = docLinkHtml;\n",
              "        element.appendChild(docLink);\n",
              "      }\n",
              "    </script>\n",
              "  </div>\n",
              "\n",
              "\n",
              "    <div id=\"df-8bc258bb-54a7-4e54-97c6-f0226b85ff80\">\n",
              "      <button class=\"colab-df-quickchart\" onclick=\"quickchart('df-8bc258bb-54a7-4e54-97c6-f0226b85ff80')\"\n",
              "                title=\"Suggest charts\"\n",
              "                style=\"display:none;\">\n",
              "\n",
              "<svg xmlns=\"http://www.w3.org/2000/svg\" height=\"24px\"viewBox=\"0 0 24 24\"\n",
              "     width=\"24px\">\n",
              "    <g>\n",
              "        <path d=\"M19 3H5c-1.1 0-2 .9-2 2v14c0 1.1.9 2 2 2h14c1.1 0 2-.9 2-2V5c0-1.1-.9-2-2-2zM9 17H7v-7h2v7zm4 0h-2V7h2v10zm4 0h-2v-4h2v4z\"/>\n",
              "    </g>\n",
              "</svg>\n",
              "      </button>\n",
              "\n",
              "<style>\n",
              "  .colab-df-quickchart {\n",
              "      --bg-color: #E8F0FE;\n",
              "      --fill-color: #1967D2;\n",
              "      --hover-bg-color: #E2EBFA;\n",
              "      --hover-fill-color: #174EA6;\n",
              "      --disabled-fill-color: #AAA;\n",
              "      --disabled-bg-color: #DDD;\n",
              "  }\n",
              "\n",
              "  [theme=dark] .colab-df-quickchart {\n",
              "      --bg-color: #3B4455;\n",
              "      --fill-color: #D2E3FC;\n",
              "      --hover-bg-color: #434B5C;\n",
              "      --hover-fill-color: #FFFFFF;\n",
              "      --disabled-bg-color: #3B4455;\n",
              "      --disabled-fill-color: #666;\n",
              "  }\n",
              "\n",
              "  .colab-df-quickchart {\n",
              "    background-color: var(--bg-color);\n",
              "    border: none;\n",
              "    border-radius: 50%;\n",
              "    cursor: pointer;\n",
              "    display: none;\n",
              "    fill: var(--fill-color);\n",
              "    height: 32px;\n",
              "    padding: 0;\n",
              "    width: 32px;\n",
              "  }\n",
              "\n",
              "  .colab-df-quickchart:hover {\n",
              "    background-color: var(--hover-bg-color);\n",
              "    box-shadow: 0 1px 2px rgba(60, 64, 67, 0.3), 0 1px 3px 1px rgba(60, 64, 67, 0.15);\n",
              "    fill: var(--button-hover-fill-color);\n",
              "  }\n",
              "\n",
              "  .colab-df-quickchart-complete:disabled,\n",
              "  .colab-df-quickchart-complete:disabled:hover {\n",
              "    background-color: var(--disabled-bg-color);\n",
              "    fill: var(--disabled-fill-color);\n",
              "    box-shadow: none;\n",
              "  }\n",
              "\n",
              "  .colab-df-spinner {\n",
              "    border: 2px solid var(--fill-color);\n",
              "    border-color: transparent;\n",
              "    border-bottom-color: var(--fill-color);\n",
              "    animation:\n",
              "      spin 1s steps(1) infinite;\n",
              "  }\n",
              "\n",
              "  @keyframes spin {\n",
              "    0% {\n",
              "      border-color: transparent;\n",
              "      border-bottom-color: var(--fill-color);\n",
              "      border-left-color: var(--fill-color);\n",
              "    }\n",
              "    20% {\n",
              "      border-color: transparent;\n",
              "      border-left-color: var(--fill-color);\n",
              "      border-top-color: var(--fill-color);\n",
              "    }\n",
              "    30% {\n",
              "      border-color: transparent;\n",
              "      border-left-color: var(--fill-color);\n",
              "      border-top-color: var(--fill-color);\n",
              "      border-right-color: var(--fill-color);\n",
              "    }\n",
              "    40% {\n",
              "      border-color: transparent;\n",
              "      border-right-color: var(--fill-color);\n",
              "      border-top-color: var(--fill-color);\n",
              "    }\n",
              "    60% {\n",
              "      border-color: transparent;\n",
              "      border-right-color: var(--fill-color);\n",
              "    }\n",
              "    80% {\n",
              "      border-color: transparent;\n",
              "      border-right-color: var(--fill-color);\n",
              "      border-bottom-color: var(--fill-color);\n",
              "    }\n",
              "    90% {\n",
              "      border-color: transparent;\n",
              "      border-bottom-color: var(--fill-color);\n",
              "    }\n",
              "  }\n",
              "</style>\n",
              "\n",
              "      <script>\n",
              "        async function quickchart(key) {\n",
              "          const quickchartButtonEl =\n",
              "            document.querySelector('#' + key + ' button');\n",
              "          quickchartButtonEl.disabled = true;  // To prevent multiple clicks.\n",
              "          quickchartButtonEl.classList.add('colab-df-spinner');\n",
              "          try {\n",
              "            const charts = await google.colab.kernel.invokeFunction(\n",
              "                'suggestCharts', [key], {});\n",
              "          } catch (error) {\n",
              "            console.error('Error during call to suggestCharts:', error);\n",
              "          }\n",
              "          quickchartButtonEl.classList.remove('colab-df-spinner');\n",
              "          quickchartButtonEl.classList.add('colab-df-quickchart-complete');\n",
              "        }\n",
              "        (() => {\n",
              "          let quickchartButtonEl =\n",
              "            document.querySelector('#df-8bc258bb-54a7-4e54-97c6-f0226b85ff80 button');\n",
              "          quickchartButtonEl.style.display =\n",
              "            google.colab.kernel.accessAllowed ? 'block' : 'none';\n",
              "        })();\n",
              "      </script>\n",
              "    </div>\n",
              "\n",
              "  <div id=\"id_d8eecb42-a288-4424-bdc8-944cd3191e2b\">\n",
              "    <style>\n",
              "      .colab-df-generate {\n",
              "        background-color: #E8F0FE;\n",
              "        border: none;\n",
              "        border-radius: 50%;\n",
              "        cursor: pointer;\n",
              "        display: none;\n",
              "        fill: #1967D2;\n",
              "        height: 32px;\n",
              "        padding: 0 0 0 0;\n",
              "        width: 32px;\n",
              "      }\n",
              "\n",
              "      .colab-df-generate:hover {\n",
              "        background-color: #E2EBFA;\n",
              "        box-shadow: 0px 1px 2px rgba(60, 64, 67, 0.3), 0px 1px 3px 1px rgba(60, 64, 67, 0.15);\n",
              "        fill: #174EA6;\n",
              "      }\n",
              "\n",
              "      [theme=dark] .colab-df-generate {\n",
              "        background-color: #3B4455;\n",
              "        fill: #D2E3FC;\n",
              "      }\n",
              "\n",
              "      [theme=dark] .colab-df-generate:hover {\n",
              "        background-color: #434B5C;\n",
              "        box-shadow: 0px 1px 3px 1px rgba(0, 0, 0, 0.15);\n",
              "        filter: drop-shadow(0px 1px 2px rgba(0, 0, 0, 0.3));\n",
              "        fill: #FFFFFF;\n",
              "      }\n",
              "    </style>\n",
              "    <button class=\"colab-df-generate\" onclick=\"generateWithVariable('data')\"\n",
              "            title=\"Generate code using this dataframe.\"\n",
              "            style=\"display:none;\">\n",
              "\n",
              "  <svg xmlns=\"http://www.w3.org/2000/svg\" height=\"24px\"viewBox=\"0 0 24 24\"\n",
              "       width=\"24px\">\n",
              "    <path d=\"M7,19H8.4L18.45,9,17,7.55,7,17.6ZM5,21V16.75L18.45,3.32a2,2,0,0,1,2.83,0l1.4,1.43a1.91,1.91,0,0,1,.58,1.4,1.91,1.91,0,0,1-.58,1.4L9.25,21ZM18.45,9,17,7.55Zm-12,3A5.31,5.31,0,0,0,4.9,8.1,5.31,5.31,0,0,0,1,6.5,5.31,5.31,0,0,0,4.9,4.9,5.31,5.31,0,0,0,6.5,1,5.31,5.31,0,0,0,8.1,4.9,5.31,5.31,0,0,0,12,6.5,5.46,5.46,0,0,0,6.5,12Z\"/>\n",
              "  </svg>\n",
              "    </button>\n",
              "    <script>\n",
              "      (() => {\n",
              "      const buttonEl =\n",
              "        document.querySelector('#id_d8eecb42-a288-4424-bdc8-944cd3191e2b button.colab-df-generate');\n",
              "      buttonEl.style.display =\n",
              "        google.colab.kernel.accessAllowed ? 'block' : 'none';\n",
              "\n",
              "      buttonEl.onclick = () => {\n",
              "        google.colab.notebook.generateWithVariable('data');\n",
              "      }\n",
              "      })();\n",
              "    </script>\n",
              "  </div>\n",
              "\n",
              "    </div>\n",
              "  </div>\n"
            ],
            "application/vnd.google.colaboratory.intrinsic+json": {
              "type": "dataframe",
              "variable_name": "data",
              "summary": "{\n  \"name\": \"data\",\n  \"rows\": 6000,\n  \"fields\": [\n    {\n      \"column\": \"application_id\",\n      \"properties\": {\n        \"dtype\": \"number\",\n        \"std\": 1732,\n        \"min\": 501000,\n        \"max\": 506999,\n        \"num_unique_values\": 6000,\n        \"samples\": [\n          502782,\n          504917,\n          501221\n        ],\n        \"semantic_type\": \"\",\n        \"description\": \"\"\n      }\n    },\n    {\n      \"column\": \"age\",\n      \"properties\": {\n        \"dtype\": \"number\",\n        \"std\": 11,\n        \"min\": 21,\n        \"max\": 59,\n        \"num_unique_values\": 39,\n        \"samples\": [\n          30,\n          23,\n          22\n        ],\n        \"semantic_type\": \"\",\n        \"description\": \"\"\n      }\n    },\n    {\n      \"column\": \"monthly_income\",\n      \"properties\": {\n        \"dtype\": \"number\",\n        \"std\": 4912598,\n        \"min\": 3000310,\n        \"max\": 19986217,\n        \"num_unique_values\": 6000,\n        \"samples\": [\n          3909561,\n          10596339,\n          4011673\n        ],\n        \"semantic_type\": \"\",\n        \"description\": \"\"\n      }\n    },\n    {\n      \"column\": \"loan_amount\",\n      \"properties\": {\n        \"dtype\": \"number\",\n        \"std\": 4071785,\n        \"min\": 1000794,\n        \"max\": 14998580,\n        \"num_unique_values\": 6000,\n        \"samples\": [\n          11329862,\n          8270524,\n          13085276\n        ],\n        \"semantic_type\": \"\",\n        \"description\": \"\"\n      }\n    },\n    {\n      \"column\": \"previous_defaults\",\n      \"properties\": {\n        \"dtype\": \"number\",\n        \"std\": 0,\n        \"min\": 0,\n        \"max\": 3,\n        \"num_unique_values\": 4,\n        \"samples\": [\n          1,\n          3,\n          0\n        ],\n        \"semantic_type\": \"\",\n        \"description\": \"\"\n      }\n    },\n    {\n      \"column\": \"credit_score\",\n      \"properties\": {\n        \"dtype\": \"number\",\n        \"std\": 158,\n        \"min\": 300,\n        \"max\": 849,\n        \"num_unique_values\": 550,\n        \"samples\": [\n          849,\n          534,\n          846\n        ],\n        \"semantic_type\": \"\",\n        \"description\": \"\"\n      }\n    },\n    {\n      \"column\": \"default\",\n      \"properties\": {\n        \"dtype\": \"number\",\n        \"std\": 0,\n        \"min\": 0,\n        \"max\": 1,\n        \"num_unique_values\": 2,\n        \"samples\": [\n          1,\n          0\n        ],\n        \"semantic_type\": \"\",\n        \"description\": \"\"\n      }\n    },\n    {\n      \"column\": \"leak_col_good\",\n      \"properties\": {\n        \"dtype\": \"number\",\n        \"std\": 0,\n        \"min\": 0,\n        \"max\": 1,\n        \"num_unique_values\": 2,\n        \"samples\": [\n          1,\n          0\n        ],\n        \"semantic_type\": \"\",\n        \"description\": \"\"\n      }\n    },\n    {\n      \"column\": \"leak_col_subtle\",\n      \"properties\": {\n        \"dtype\": \"number\",\n        \"std\": 0.11394650750528089,\n        \"min\": -0.119,\n        \"max\": 1.092,\n        \"num_unique_values\": 239,\n        \"samples\": [\n          0.094,\n          -0.033\n        ],\n        \"semantic_type\": \"\",\n        \"description\": \"\"\n      }\n    }\n  ]\n}"
            }
          },
          "metadata": {},
          "execution_count": 2
        }
      ]
    },
    {
      "cell_type": "markdown",
      "source": [
        "Melalui output di atas, diketahui bahwa data credit scoring terdiri dari 6000 baris dan 9 kolom. Di mana, 9 kolom ini sebagai variabelnya.\n",
        "\n",
        "Variabel Respon (Y)\n",
        "- Default: Memiliki 2 kategori/biner (1: Gagal Bayar; 0: Tidak Gagal Bayar)\n",
        "\n",
        "Variabel Prediktor (X)\n",
        "- Age: Usia nasabah\n",
        "- Monthly Income: Pendapatan bulanan nasabah (dalam rupiah)\n",
        "- Loan Amount: Pinjaman yang diajukan nasabah (dalam rupiah)\n",
        "- Previous Default: Jumlah kejadian nasabah yang \"Gagal Bayar\" pinjaman\n",
        "- Leak Col Good: Data Leakage\n",
        "- Leak Col Subtle: Data Leakage"
      ],
      "metadata": {
        "id": "yeFpj1d8hKob"
      }
    },
    {
      "cell_type": "code",
      "source": [
        "data.info()"
      ],
      "metadata": {
        "colab": {
          "base_uri": "https://localhost:8080/"
        },
        "id": "6wZbUmUz308z",
        "outputId": "20e035a4-b165-4a4d-de82-5d0bb861ec05"
      },
      "execution_count": 3,
      "outputs": [
        {
          "output_type": "stream",
          "name": "stdout",
          "text": [
            "<class 'pandas.core.frame.DataFrame'>\n",
            "RangeIndex: 6000 entries, 0 to 5999\n",
            "Data columns (total 9 columns):\n",
            " #   Column             Non-Null Count  Dtype  \n",
            "---  ------             --------------  -----  \n",
            " 0   application_id     6000 non-null   int64  \n",
            " 1   age                6000 non-null   int64  \n",
            " 2   monthly_income     6000 non-null   int64  \n",
            " 3   loan_amount        6000 non-null   int64  \n",
            " 4   previous_defaults  6000 non-null   int64  \n",
            " 5   credit_score       6000 non-null   int64  \n",
            " 6   default            6000 non-null   int64  \n",
            " 7   leak_col_good      6000 non-null   int64  \n",
            " 8   leak_col_subtle    6000 non-null   float64\n",
            "dtypes: float64(1), int64(8)\n",
            "memory usage: 422.0 KB\n"
          ]
        }
      ]
    },
    {
      "cell_type": "markdown",
      "source": [
        "Melalui output di atas, diketahui bahwa tidak ada data yang hilang \"missing\" pada keseluruhan variabel. Oleh sebab itu, tidak perlu dilakukan pemeriksaan \"missing values\" kembali."
      ],
      "metadata": {
        "id": "uZVOaoaai3Ho"
      }
    },
    {
      "cell_type": "markdown",
      "source": [
        "# **EXPLORATORY DATA ANALYSIS (EDA)**"
      ],
      "metadata": {
        "id": "4NiG2s474DmT"
      }
    },
    {
      "cell_type": "markdown",
      "source": [
        "Langkah awal sebelum melakukan analisis lebih lanjut adalah melakukan eksplorasi data. Tujuannya untuk mengetahui informasi dari data yang digunakan (secara visual/ilustratif)."
      ],
      "metadata": {
        "id": "gNRvq5aMjKtL"
      }
    },
    {
      "cell_type": "markdown",
      "source": [
        "## **Descriptive Statistics**"
      ],
      "metadata": {
        "id": "m8GMkOCm4IqW"
      }
    },
    {
      "cell_type": "code",
      "source": [
        "data.describe()"
      ],
      "metadata": {
        "colab": {
          "base_uri": "https://localhost:8080/",
          "height": 320
        },
        "id": "XhfW-f2o4Mb0",
        "outputId": "f2c32fd6-f8d6-441e-b176-7fffee3dfa13"
      },
      "execution_count": 4,
      "outputs": [
        {
          "output_type": "execute_result",
          "data": {
            "text/plain": [
              "       application_id          age  monthly_income   loan_amount  \\\n",
              "count     6000.000000  6000.000000    6.000000e+03  6.000000e+03   \n",
              "mean    503999.500000    40.321500    1.140386e+07  8.001122e+06   \n",
              "std       1732.195139    11.300697    4.912598e+06  4.071786e+06   \n",
              "min     501000.000000    21.000000    3.000310e+06  1.000794e+06   \n",
              "25%     502499.750000    31.000000    7.163379e+06  4.440939e+06   \n",
              "50%     503999.500000    41.000000    1.129945e+07  7.982304e+06   \n",
              "75%     505499.250000    50.000000    1.573705e+07  1.153144e+07   \n",
              "max     506999.000000    59.000000    1.998622e+07  1.499858e+07   \n",
              "\n",
              "       previous_defaults  credit_score      default  leak_col_good  \\\n",
              "count        6000.000000   6000.000000  6000.000000    6000.000000   \n",
              "mean            0.243667    575.979833     0.012167       0.012167   \n",
              "std             0.484767    158.328931     0.109639       0.109639   \n",
              "min             0.000000    300.000000     0.000000       0.000000   \n",
              "25%             0.000000    438.750000     0.000000       0.000000   \n",
              "50%             0.000000    577.500000     0.000000       0.000000   \n",
              "75%             0.000000    713.000000     0.000000       0.000000   \n",
              "max             3.000000    849.000000     1.000000       1.000000   \n",
              "\n",
              "       leak_col_subtle  \n",
              "count      6000.000000  \n",
              "mean          0.011945  \n",
              "std           0.113947  \n",
              "min          -0.119000  \n",
              "25%          -0.020000  \n",
              "50%           0.000000  \n",
              "75%           0.021000  \n",
              "max           1.092000  "
            ],
            "text/html": [
              "\n",
              "  <div id=\"df-ce06c265-11b9-42d4-be47-3d08e18dd0b1\" class=\"colab-df-container\">\n",
              "    <div>\n",
              "<style scoped>\n",
              "    .dataframe tbody tr th:only-of-type {\n",
              "        vertical-align: middle;\n",
              "    }\n",
              "\n",
              "    .dataframe tbody tr th {\n",
              "        vertical-align: top;\n",
              "    }\n",
              "\n",
              "    .dataframe thead th {\n",
              "        text-align: right;\n",
              "    }\n",
              "</style>\n",
              "<table border=\"1\" class=\"dataframe\">\n",
              "  <thead>\n",
              "    <tr style=\"text-align: right;\">\n",
              "      <th></th>\n",
              "      <th>application_id</th>\n",
              "      <th>age</th>\n",
              "      <th>monthly_income</th>\n",
              "      <th>loan_amount</th>\n",
              "      <th>previous_defaults</th>\n",
              "      <th>credit_score</th>\n",
              "      <th>default</th>\n",
              "      <th>leak_col_good</th>\n",
              "      <th>leak_col_subtle</th>\n",
              "    </tr>\n",
              "  </thead>\n",
              "  <tbody>\n",
              "    <tr>\n",
              "      <th>count</th>\n",
              "      <td>6000.000000</td>\n",
              "      <td>6000.000000</td>\n",
              "      <td>6.000000e+03</td>\n",
              "      <td>6.000000e+03</td>\n",
              "      <td>6000.000000</td>\n",
              "      <td>6000.000000</td>\n",
              "      <td>6000.000000</td>\n",
              "      <td>6000.000000</td>\n",
              "      <td>6000.000000</td>\n",
              "    </tr>\n",
              "    <tr>\n",
              "      <th>mean</th>\n",
              "      <td>503999.500000</td>\n",
              "      <td>40.321500</td>\n",
              "      <td>1.140386e+07</td>\n",
              "      <td>8.001122e+06</td>\n",
              "      <td>0.243667</td>\n",
              "      <td>575.979833</td>\n",
              "      <td>0.012167</td>\n",
              "      <td>0.012167</td>\n",
              "      <td>0.011945</td>\n",
              "    </tr>\n",
              "    <tr>\n",
              "      <th>std</th>\n",
              "      <td>1732.195139</td>\n",
              "      <td>11.300697</td>\n",
              "      <td>4.912598e+06</td>\n",
              "      <td>4.071786e+06</td>\n",
              "      <td>0.484767</td>\n",
              "      <td>158.328931</td>\n",
              "      <td>0.109639</td>\n",
              "      <td>0.109639</td>\n",
              "      <td>0.113947</td>\n",
              "    </tr>\n",
              "    <tr>\n",
              "      <th>min</th>\n",
              "      <td>501000.000000</td>\n",
              "      <td>21.000000</td>\n",
              "      <td>3.000310e+06</td>\n",
              "      <td>1.000794e+06</td>\n",
              "      <td>0.000000</td>\n",
              "      <td>300.000000</td>\n",
              "      <td>0.000000</td>\n",
              "      <td>0.000000</td>\n",
              "      <td>-0.119000</td>\n",
              "    </tr>\n",
              "    <tr>\n",
              "      <th>25%</th>\n",
              "      <td>502499.750000</td>\n",
              "      <td>31.000000</td>\n",
              "      <td>7.163379e+06</td>\n",
              "      <td>4.440939e+06</td>\n",
              "      <td>0.000000</td>\n",
              "      <td>438.750000</td>\n",
              "      <td>0.000000</td>\n",
              "      <td>0.000000</td>\n",
              "      <td>-0.020000</td>\n",
              "    </tr>\n",
              "    <tr>\n",
              "      <th>50%</th>\n",
              "      <td>503999.500000</td>\n",
              "      <td>41.000000</td>\n",
              "      <td>1.129945e+07</td>\n",
              "      <td>7.982304e+06</td>\n",
              "      <td>0.000000</td>\n",
              "      <td>577.500000</td>\n",
              "      <td>0.000000</td>\n",
              "      <td>0.000000</td>\n",
              "      <td>0.000000</td>\n",
              "    </tr>\n",
              "    <tr>\n",
              "      <th>75%</th>\n",
              "      <td>505499.250000</td>\n",
              "      <td>50.000000</td>\n",
              "      <td>1.573705e+07</td>\n",
              "      <td>1.153144e+07</td>\n",
              "      <td>0.000000</td>\n",
              "      <td>713.000000</td>\n",
              "      <td>0.000000</td>\n",
              "      <td>0.000000</td>\n",
              "      <td>0.021000</td>\n",
              "    </tr>\n",
              "    <tr>\n",
              "      <th>max</th>\n",
              "      <td>506999.000000</td>\n",
              "      <td>59.000000</td>\n",
              "      <td>1.998622e+07</td>\n",
              "      <td>1.499858e+07</td>\n",
              "      <td>3.000000</td>\n",
              "      <td>849.000000</td>\n",
              "      <td>1.000000</td>\n",
              "      <td>1.000000</td>\n",
              "      <td>1.092000</td>\n",
              "    </tr>\n",
              "  </tbody>\n",
              "</table>\n",
              "</div>\n",
              "    <div class=\"colab-df-buttons\">\n",
              "\n",
              "  <div class=\"colab-df-container\">\n",
              "    <button class=\"colab-df-convert\" onclick=\"convertToInteractive('df-ce06c265-11b9-42d4-be47-3d08e18dd0b1')\"\n",
              "            title=\"Convert this dataframe to an interactive table.\"\n",
              "            style=\"display:none;\">\n",
              "\n",
              "  <svg xmlns=\"http://www.w3.org/2000/svg\" height=\"24px\" viewBox=\"0 -960 960 960\">\n",
              "    <path d=\"M120-120v-720h720v720H120Zm60-500h600v-160H180v160Zm220 220h160v-160H400v160Zm0 220h160v-160H400v160ZM180-400h160v-160H180v160Zm440 0h160v-160H620v160ZM180-180h160v-160H180v160Zm440 0h160v-160H620v160Z\"/>\n",
              "  </svg>\n",
              "    </button>\n",
              "\n",
              "  <style>\n",
              "    .colab-df-container {\n",
              "      display:flex;\n",
              "      gap: 12px;\n",
              "    }\n",
              "\n",
              "    .colab-df-convert {\n",
              "      background-color: #E8F0FE;\n",
              "      border: none;\n",
              "      border-radius: 50%;\n",
              "      cursor: pointer;\n",
              "      display: none;\n",
              "      fill: #1967D2;\n",
              "      height: 32px;\n",
              "      padding: 0 0 0 0;\n",
              "      width: 32px;\n",
              "    }\n",
              "\n",
              "    .colab-df-convert:hover {\n",
              "      background-color: #E2EBFA;\n",
              "      box-shadow: 0px 1px 2px rgba(60, 64, 67, 0.3), 0px 1px 3px 1px rgba(60, 64, 67, 0.15);\n",
              "      fill: #174EA6;\n",
              "    }\n",
              "\n",
              "    .colab-df-buttons div {\n",
              "      margin-bottom: 4px;\n",
              "    }\n",
              "\n",
              "    [theme=dark] .colab-df-convert {\n",
              "      background-color: #3B4455;\n",
              "      fill: #D2E3FC;\n",
              "    }\n",
              "\n",
              "    [theme=dark] .colab-df-convert:hover {\n",
              "      background-color: #434B5C;\n",
              "      box-shadow: 0px 1px 3px 1px rgba(0, 0, 0, 0.15);\n",
              "      filter: drop-shadow(0px 1px 2px rgba(0, 0, 0, 0.3));\n",
              "      fill: #FFFFFF;\n",
              "    }\n",
              "  </style>\n",
              "\n",
              "    <script>\n",
              "      const buttonEl =\n",
              "        document.querySelector('#df-ce06c265-11b9-42d4-be47-3d08e18dd0b1 button.colab-df-convert');\n",
              "      buttonEl.style.display =\n",
              "        google.colab.kernel.accessAllowed ? 'block' : 'none';\n",
              "\n",
              "      async function convertToInteractive(key) {\n",
              "        const element = document.querySelector('#df-ce06c265-11b9-42d4-be47-3d08e18dd0b1');\n",
              "        const dataTable =\n",
              "          await google.colab.kernel.invokeFunction('convertToInteractive',\n",
              "                                                    [key], {});\n",
              "        if (!dataTable) return;\n",
              "\n",
              "        const docLinkHtml = 'Like what you see? Visit the ' +\n",
              "          '<a target=\"_blank\" href=https://colab.research.google.com/notebooks/data_table.ipynb>data table notebook</a>'\n",
              "          + ' to learn more about interactive tables.';\n",
              "        element.innerHTML = '';\n",
              "        dataTable['output_type'] = 'display_data';\n",
              "        await google.colab.output.renderOutput(dataTable, element);\n",
              "        const docLink = document.createElement('div');\n",
              "        docLink.innerHTML = docLinkHtml;\n",
              "        element.appendChild(docLink);\n",
              "      }\n",
              "    </script>\n",
              "  </div>\n",
              "\n",
              "\n",
              "    <div id=\"df-a2435f84-8e64-4445-83ac-76e0d2eeb517\">\n",
              "      <button class=\"colab-df-quickchart\" onclick=\"quickchart('df-a2435f84-8e64-4445-83ac-76e0d2eeb517')\"\n",
              "                title=\"Suggest charts\"\n",
              "                style=\"display:none;\">\n",
              "\n",
              "<svg xmlns=\"http://www.w3.org/2000/svg\" height=\"24px\"viewBox=\"0 0 24 24\"\n",
              "     width=\"24px\">\n",
              "    <g>\n",
              "        <path d=\"M19 3H5c-1.1 0-2 .9-2 2v14c0 1.1.9 2 2 2h14c1.1 0 2-.9 2-2V5c0-1.1-.9-2-2-2zM9 17H7v-7h2v7zm4 0h-2V7h2v10zm4 0h-2v-4h2v4z\"/>\n",
              "    </g>\n",
              "</svg>\n",
              "      </button>\n",
              "\n",
              "<style>\n",
              "  .colab-df-quickchart {\n",
              "      --bg-color: #E8F0FE;\n",
              "      --fill-color: #1967D2;\n",
              "      --hover-bg-color: #E2EBFA;\n",
              "      --hover-fill-color: #174EA6;\n",
              "      --disabled-fill-color: #AAA;\n",
              "      --disabled-bg-color: #DDD;\n",
              "  }\n",
              "\n",
              "  [theme=dark] .colab-df-quickchart {\n",
              "      --bg-color: #3B4455;\n",
              "      --fill-color: #D2E3FC;\n",
              "      --hover-bg-color: #434B5C;\n",
              "      --hover-fill-color: #FFFFFF;\n",
              "      --disabled-bg-color: #3B4455;\n",
              "      --disabled-fill-color: #666;\n",
              "  }\n",
              "\n",
              "  .colab-df-quickchart {\n",
              "    background-color: var(--bg-color);\n",
              "    border: none;\n",
              "    border-radius: 50%;\n",
              "    cursor: pointer;\n",
              "    display: none;\n",
              "    fill: var(--fill-color);\n",
              "    height: 32px;\n",
              "    padding: 0;\n",
              "    width: 32px;\n",
              "  }\n",
              "\n",
              "  .colab-df-quickchart:hover {\n",
              "    background-color: var(--hover-bg-color);\n",
              "    box-shadow: 0 1px 2px rgba(60, 64, 67, 0.3), 0 1px 3px 1px rgba(60, 64, 67, 0.15);\n",
              "    fill: var(--button-hover-fill-color);\n",
              "  }\n",
              "\n",
              "  .colab-df-quickchart-complete:disabled,\n",
              "  .colab-df-quickchart-complete:disabled:hover {\n",
              "    background-color: var(--disabled-bg-color);\n",
              "    fill: var(--disabled-fill-color);\n",
              "    box-shadow: none;\n",
              "  }\n",
              "\n",
              "  .colab-df-spinner {\n",
              "    border: 2px solid var(--fill-color);\n",
              "    border-color: transparent;\n",
              "    border-bottom-color: var(--fill-color);\n",
              "    animation:\n",
              "      spin 1s steps(1) infinite;\n",
              "  }\n",
              "\n",
              "  @keyframes spin {\n",
              "    0% {\n",
              "      border-color: transparent;\n",
              "      border-bottom-color: var(--fill-color);\n",
              "      border-left-color: var(--fill-color);\n",
              "    }\n",
              "    20% {\n",
              "      border-color: transparent;\n",
              "      border-left-color: var(--fill-color);\n",
              "      border-top-color: var(--fill-color);\n",
              "    }\n",
              "    30% {\n",
              "      border-color: transparent;\n",
              "      border-left-color: var(--fill-color);\n",
              "      border-top-color: var(--fill-color);\n",
              "      border-right-color: var(--fill-color);\n",
              "    }\n",
              "    40% {\n",
              "      border-color: transparent;\n",
              "      border-right-color: var(--fill-color);\n",
              "      border-top-color: var(--fill-color);\n",
              "    }\n",
              "    60% {\n",
              "      border-color: transparent;\n",
              "      border-right-color: var(--fill-color);\n",
              "    }\n",
              "    80% {\n",
              "      border-color: transparent;\n",
              "      border-right-color: var(--fill-color);\n",
              "      border-bottom-color: var(--fill-color);\n",
              "    }\n",
              "    90% {\n",
              "      border-color: transparent;\n",
              "      border-bottom-color: var(--fill-color);\n",
              "    }\n",
              "  }\n",
              "</style>\n",
              "\n",
              "      <script>\n",
              "        async function quickchart(key) {\n",
              "          const quickchartButtonEl =\n",
              "            document.querySelector('#' + key + ' button');\n",
              "          quickchartButtonEl.disabled = true;  // To prevent multiple clicks.\n",
              "          quickchartButtonEl.classList.add('colab-df-spinner');\n",
              "          try {\n",
              "            const charts = await google.colab.kernel.invokeFunction(\n",
              "                'suggestCharts', [key], {});\n",
              "          } catch (error) {\n",
              "            console.error('Error during call to suggestCharts:', error);\n",
              "          }\n",
              "          quickchartButtonEl.classList.remove('colab-df-spinner');\n",
              "          quickchartButtonEl.classList.add('colab-df-quickchart-complete');\n",
              "        }\n",
              "        (() => {\n",
              "          let quickchartButtonEl =\n",
              "            document.querySelector('#df-a2435f84-8e64-4445-83ac-76e0d2eeb517 button');\n",
              "          quickchartButtonEl.style.display =\n",
              "            google.colab.kernel.accessAllowed ? 'block' : 'none';\n",
              "        })();\n",
              "      </script>\n",
              "    </div>\n",
              "\n",
              "    </div>\n",
              "  </div>\n"
            ],
            "application/vnd.google.colaboratory.intrinsic+json": {
              "type": "dataframe",
              "summary": "{\n  \"name\": \"data\",\n  \"rows\": 8,\n  \"fields\": [\n    {\n      \"column\": \"application_id\",\n      \"properties\": {\n        \"dtype\": \"number\",\n        \"std\": 231526.52730449734,\n        \"min\": 1732.1951391226105,\n        \"max\": 506999.0,\n        \"num_unique_values\": 7,\n        \"samples\": [\n          6000.0,\n          503999.5,\n          505499.25\n        ],\n        \"semantic_type\": \"\",\n        \"description\": \"\"\n      }\n    },\n    {\n      \"column\": \"age\",\n      \"properties\": {\n        \"dtype\": \"number\",\n        \"std\": 2108.56565012062,\n        \"min\": 11.300697119023084,\n        \"max\": 6000.0,\n        \"num_unique_values\": 8,\n        \"samples\": [\n          40.3215,\n          41.0,\n          6000.0\n        ],\n        \"semantic_type\": \"\",\n        \"description\": \"\"\n      }\n    },\n    {\n      \"column\": \"monthly_income\",\n      \"properties\": {\n        \"dtype\": \"number\",\n        \"std\": 6695783.327377002,\n        \"min\": 6000.0,\n        \"max\": 19986217.0,\n        \"num_unique_values\": 8,\n        \"samples\": [\n          11403855.805166667,\n          11299453.0,\n          6000.0\n        ],\n        \"semantic_type\": \"\",\n        \"description\": \"\"\n      }\n    },\n    {\n      \"column\": \"loan_amount\",\n      \"properties\": {\n        \"dtype\": \"number\",\n        \"std\": 5134491.418801628,\n        \"min\": 6000.0,\n        \"max\": 14998580.0,\n        \"num_unique_values\": 8,\n        \"samples\": [\n          8001121.6581666665,\n          7982303.5,\n          6000.0\n        ],\n        \"semantic_type\": \"\",\n        \"description\": \"\"\n      }\n    },\n    {\n      \"column\": \"previous_defaults\",\n      \"properties\": {\n        \"dtype\": \"number\",\n        \"std\": 2121.1322753325844,\n        \"min\": 0.0,\n        \"max\": 6000.0,\n        \"num_unique_values\": 5,\n        \"samples\": [\n          0.24366666666666667,\n          3.0,\n          0.484767011458197\n        ],\n        \"semantic_type\": \"\",\n        \"description\": \"\"\n      }\n    },\n    {\n      \"column\": \"credit_score\",\n      \"properties\": {\n        \"dtype\": \"number\",\n        \"std\": 1951.2573924557269,\n        \"min\": 158.32893113718887,\n        \"max\": 6000.0,\n        \"num_unique_values\": 8,\n        \"samples\": [\n          575.9798333333333,\n          577.5,\n          6000.0\n        ],\n        \"semantic_type\": \"\",\n        \"description\": \"\"\n      }\n    },\n    {\n      \"column\": \"default\",\n      \"properties\": {\n        \"dtype\": \"number\",\n        \"std\": 2121.263711861664,\n        \"min\": 0.0,\n        \"max\": 6000.0,\n        \"num_unique_values\": 5,\n        \"samples\": [\n          0.012166666666666666,\n          1.0,\n          0.10963868992867802\n        ],\n        \"semantic_type\": \"\",\n        \"description\": \"\"\n      }\n    },\n    {\n      \"column\": \"leak_col_good\",\n      \"properties\": {\n        \"dtype\": \"number\",\n        \"std\": 2121.263711861664,\n        \"min\": 0.0,\n        \"max\": 6000.0,\n        \"num_unique_values\": 5,\n        \"samples\": [\n          0.012166666666666666,\n          1.0,\n          0.10963868992867802\n        ],\n        \"semantic_type\": \"\",\n        \"description\": \"\"\n      }\n    },\n    {\n      \"column\": \"leak_col_subtle\",\n      \"properties\": {\n        \"dtype\": \"number\",\n        \"std\": 2121.264825947386,\n        \"min\": -0.119,\n        \"max\": 6000.0,\n        \"num_unique_values\": 8,\n        \"samples\": [\n          0.011944666666666666,\n          0.0,\n          6000.0\n        ],\n        \"semantic_type\": \"\",\n        \"description\": \"\"\n      }\n    }\n  ]\n}"
            }
          },
          "metadata": {},
          "execution_count": 4
        }
      ]
    },
    {
      "cell_type": "markdown",
      "source": [
        "Melalui output di atas, diketahui masing-masing statistik 5 serangkai dari setiap variabel. Statistik 5 serangkai ini berisi ringkasan data yang terdiri dari lima nilai: nilai minimum, kuartil pertama (Q1), median (kuartil kedua, Q2), kuartil ketiga (Q3), dan nilai maksimum. Nilai-nilai ini memberikan gambaran tentang penyebaran data, termasuk nilai-nilai ekstrem dan titik-titik tengah."
      ],
      "metadata": {
        "id": "vpARye3Zjiam"
      }
    },
    {
      "cell_type": "markdown",
      "source": [
        "## **Correlations**"
      ],
      "metadata": {
        "id": "QnKJp5Iw4jWh"
      }
    },
    {
      "cell_type": "code",
      "source": [
        "col = data.drop(columns=['application_id'])"
      ],
      "metadata": {
        "id": "M-dtQPGf4lyg"
      },
      "execution_count": 5,
      "outputs": []
    },
    {
      "cell_type": "code",
      "source": [
        "plt.figure(figsize=(10,10))\n",
        "sns.heatmap(col.corr(), annot=True, cmap='coolwarm')\n",
        "plt.show()"
      ],
      "metadata": {
        "colab": {
          "base_uri": "https://localhost:8080/",
          "height": 944
        },
        "id": "fQaq5jSu4515",
        "outputId": "795ce601-a6e8-4bb8-a9bd-c3f5b5917a76"
      },
      "execution_count": 6,
      "outputs": [
        {
          "output_type": "display_data",
          "data": {
            "text/plain": [
              "<Figure size 1000x1000 with 2 Axes>"
            ],
            "image/png": "[encoded data removed]"
          },
          "metadata": {}
        }
      ]
    },
    {
      "cell_type": "markdown",
      "source": [
        "Melalui plot di atas, diketahui bahwa variabel prediktor \"leak_col_good\" dan \"leak_col_subtle\" memiliki korelasi yang sangat kuat dengan variabel respon \"default\". Kedua variabel prediktor ini harus dihapus dari data sebelum melakukan pemodelan, karena memberi informasi bocoran dari masa depan, yang tidak tersedia saat prediksi nyata dilakukan.\n",
        "\n",
        "Sementara itu, melalui plot di atas tidak terlihat adanya korelasi antara variabel prediktor. Hal ini menunjukkan bahwa tidak ada masalah Multikolinearitas. Masing-masing variabel harus bebas linear dan tidak boleh berkorelasi antar sesama, karena dapat mempengaruhi hasil analisis."
      ],
      "metadata": {
        "id": "vaaMC_g3j6xA"
      }
    },
    {
      "cell_type": "markdown",
      "source": [
        "## **Distributions**"
      ],
      "metadata": {
        "id": "l3FjOCXm7DDK"
      }
    },
    {
      "cell_type": "code",
      "source": [
        "# Bar chart\n",
        "plt.figure(figsize=(10,10))\n",
        "sns.countplot(x='default', data=data)\n",
        "\n",
        "# Show value\n",
        "for i, v in enumerate(data['default'].value_counts()):\n",
        "    plt.text(i, v, str(v), ha='center', va='bottom')\n",
        "plt.title('Default Distribution')\n",
        "plt.xlabel('Default (0 = Tidak Gagal Bayar, 1 = Gagal Bayar)')\n",
        "plt.ylabel('Count')\n",
        "plt.show()"
      ],
      "metadata": {
        "colab": {
          "base_uri": "https://localhost:8080/",
          "height": 872
        },
        "id": "vVemALZwk6aR",
        "outputId": "5b20dd0a-c914-4e95-d4e6-b85bdd28c551"
      },
      "execution_count": 7,
      "outputs": [
        {
          "output_type": "display_data",
          "data": {
            "text/plain": [
              "<Figure size 1000x1000 with 1 Axes>"
            ],
            "image/png": "[encoded data removed]"
          },
          "metadata": {}
        }
      ]
    },
    {
      "cell_type": "markdown",
      "source": [
        "Melalui plot di atas, diketahui bahwa terjadi ketidakseimbangan antar kelas, kelas 0 dan kelas 1. Satu label kelas memiliki jumlah observasi yang sangat tinggi sebanyak 5927, dan label kelas lainnya memiliki jumlah observasi yang sangat sedikit sebanyak 73.\n",
        "\n",
        "Harus dilakukan penanganan menggunakan teknik yang tepat untuk mengatasi permasalahan ini, sehingga mampu menjawab tantangan data."
      ],
      "metadata": {
        "id": "1uXWRSxklZMd"
      }
    },
    {
      "cell_type": "code",
      "source": [
        "# Define the numerical columns\n",
        "numerical_columns_for_boxplot = ['age', 'monthly_income', 'loan_amount', 'credit_score']\n",
        "\n",
        "# Box-Plot\n",
        "plt.figure(figsize=(12, 10))\n",
        "for i, column_name in enumerate(numerical_columns_for_boxplot):\n",
        "    plt.subplot(2, 2, i + 1)\n",
        "    sns.boxplot(x='default', y=column_name, data=data)\n",
        "    plt.title(f'{column_name} vs Default')\n",
        "    plt.xlabel(\"Default (0 = Tidak Gagal Bayar, 1 = Gagal Bayar)\")\n",
        "    plt.ylabel(column_name)\n",
        "plt.tight_layout()\n",
        "plt.show()"
      ],
      "metadata": {
        "colab": {
          "base_uri": "https://localhost:8080/",
          "height": 883
        },
        "id": "0I4RLwusy6WW",
        "outputId": "e0734cfa-fcc6-42d4-911c-9f8d286d3f94"
      },
      "execution_count": 8,
      "outputs": [
        {
          "output_type": "display_data",
          "data": {
            "text/plain": [
              "<Figure size 1200x1000 with 4 Axes>"
            ],
            "image/png": "[encoded data removed]"
          },
          "metadata": {}
        }
      ]
    },
    {
      "cell_type": "markdown",
      "source": [
        "Berdasarkan plot di atas, diketahui bahwa:\n",
        "- Rata-rata usia nasabah yang \"Gagal Bayar\" dan nasabah yang \"Tidak Gagal Bayar\" berkisar di usia 40 tahunan. Perbedaan selisih usia antar nasabah tersebut sangatlah kecil, sehingga perlu dilakukan analisis lanjutan untuk mengetahui apakah usia sebagai faktor yang mempengaruhi kemampuan seseorang untuk membayar pinjaman.\n",
        "- Rata-rata pendapatan bulanan nasabah yang mampu membayar pinjaman \"Tidak Gagal Bayar\", cenderung lebih tinggi dibandingkan pendapatan bulanan nasabah yang tidak mampu membayar pinjaman \"Gagal Bayar\". Hal ini berarti, semakin besar pendapatan bulanan yang diterima maka nasabah tersebut semakin mampu membayar pinjaman.\n",
        "- Rata-rata besaran pinjaman pada nasabah yang tidak mampu membayar pinjamanannya \"Gagal Bayar\", cenderung lebih tinggi dibandingkan dengan besaran pinjaman pada nasabah yang mampu membayar pinjamannya \"Tidak Gagal Bayar\".\n",
        "Semakin sedikit pendapatan yang diterima setiap bulannya, semakin sulit bagi nasabah tersebut untuk membayar besarnya pinjaman yang telah dipinjamkan.\n",
        "- Rata-rata skor kredit nasabah yang mampu membayar pinjaman \"Tidak Gagal Bayar\", memiliki nilai yang tinggi dibandingkan nasabah yang tidak mampu membayar pinjaman \"Gagal Bayar\". Semakin tinggi skor kredit berarti nasabah tersebut lebih rendah risiko \"Gagal Bayar\".\n",
        "\n",
        "Meskipun demikian, perlu dilakukan analisis yang mendalam untuk mengetahui faktor-faktor apa saja yang paling dominan dalam kemampuan membayar pinjaman,"
      ],
      "metadata": {
        "id": "Xylkt3zKrdI8"
      }
    },
    {
      "cell_type": "code",
      "source": [
        "# Calculate default mean for default previous\n",
        "grouped = data.groupby('previous_defaults')['default'].mean().reset_index()\n",
        "\n",
        "# Barplot\n",
        "plt.figure(figsize=(8,5))\n",
        "sns.barplot(x='previous_defaults', y='default', data=grouped, palette='viridis')\n",
        "# show value\n",
        "for i, v in enumerate(grouped['default']):\n",
        "    plt.text(i, v, f'{v*100:.2f}%', ha='center', va='bottom')\n",
        "plt.title('Default Rate by Number of Previous Defaults')\n",
        "plt.xlabel('Previous Defaults')\n",
        "plt.ylabel('Proportion of Default')\n",
        "plt.ylim(0, 1)\n",
        "plt.grid(True)\n",
        "plt.show()"
      ],
      "metadata": {
        "colab": {
          "base_uri": "https://localhost:8080/",
          "height": 487
        },
        "id": "iLE89Z-7xszt",
        "outputId": "ec669ed4-a425-48cd-a3ea-9792c786dcec"
      },
      "execution_count": 9,
      "outputs": [
        {
          "output_type": "display_data",
          "data": {
            "text/plain": [
              "<Figure size 800x500 with 1 Axes>"
            ],
            "image/png": "[encoded data removed]"
          },
          "metadata": {}
        }
      ]
    },
    {
      "cell_type": "markdown",
      "source": [
        "Berdasarkan output di atas diketahui bahwa:\n",
        "- Proporsi kejadian nasabah yang hampir tidak pernah gagal dalam membayar pinjaman, sebesar 0,96%.\n",
        "- Proporsi kejadian nasabah yang 1 kali gagal dalam membayar pinjaman, sebesar 2,05%.\n",
        "- Proporsi kejadian nasabah yang 2 kali gagal dalam membayar pinjaman, sebesar 2,14%.\n",
        "- Proporsi kejadian nasabah yang 3 kali gagal dalam membayar pinjaman, sebesar 25%.\n",
        "\n",
        "Hal ini menunjukkan bahwa terjadi lonjakan tajam pada nasabah yang gagal membayar pinjamanannya sebanyak 3 kali, sehingga kemungkinan nasabah tersebut gagal bayar pinjamannya kembali mencapai 25%."
      ],
      "metadata": {
        "id": "RE_i_soxt1KH"
      }
    },
    {
      "cell_type": "markdown",
      "source": [
        "# **DATA PREPROCESSING**"
      ],
      "metadata": {
        "id": "0HgN6pPk055V"
      }
    },
    {
      "cell_type": "markdown",
      "source": [
        "Tahapan selanjunya yang perlu dilakukan adalah proses mempersiapkan data mentah agar siap untuk analisis lebih lanjut. Tujuannya agar data menjadi lebih berkualitas, konsisten, dan dapat diandalkan.  "
      ],
      "metadata": {
        "id": "_6ZF5BXpvOEc"
      }
    },
    {
      "cell_type": "markdown",
      "source": [
        "## **Drop Column**"
      ],
      "metadata": {
        "id": "zth5trMk0-Nd"
      }
    },
    {
      "cell_type": "code",
      "source": [
        "data = data.drop(columns=['leak_col_good', 'leak_col_subtle'])\n",
        "data"
      ],
      "metadata": {
        "colab": {
          "base_uri": "https://localhost:8080/",
          "height": 423
        },
        "id": "cNE1l9dO08v1",
        "outputId": "d6348a23-6ce5-4750-fabc-55f71b8f4994"
      },
      "execution_count": 10,
      "outputs": [
        {
          "output_type": "execute_result",
          "data": {
            "text/plain": [
              "      application_id  age  monthly_income  loan_amount  previous_defaults  \\\n",
              "0             501000   41        13995609      5982664                  0   \n",
              "1             501001   58        13683833      3711198                  0   \n",
              "2             501002   33         9417391      7172332                  0   \n",
              "3             501003   45         6861811      8661056                  0   \n",
              "4             501004   22         5640742      4520669                  1   \n",
              "...              ...  ...             ...          ...                ...   \n",
              "5995          506995   26        18253018      3690565                  2   \n",
              "5996          506996   40         9944385      4082038                  1   \n",
              "5997          506997   28         9048532     14760384                  0   \n",
              "5998          506998   51         6843160     11774594                  0   \n",
              "5999          506999   35        12715733      8006387                  0   \n",
              "\n",
              "      credit_score  default  \n",
              "0              624        0  \n",
              "1              809        0  \n",
              "2              647        0  \n",
              "3              450        0  \n",
              "4              816        0  \n",
              "...            ...      ...  \n",
              "5995           729        0  \n",
              "5996           477        0  \n",
              "5997           450        0  \n",
              "5998           561        0  \n",
              "5999           774        0  \n",
              "\n",
              "[6000 rows x 7 columns]"
            ],
            "text/html": [
              "\n",
              "  <div id=\"df-7fa61250-938c-446b-a20a-1239843a3c8f\" class=\"colab-df-container\">\n",
              "    <div>\n",
              "<style scoped>\n",
              "    .dataframe tbody tr th:only-of-type {\n",
              "        vertical-align: middle;\n",
              "    }\n",
              "\n",
              "    .dataframe tbody tr th {\n",
              "        vertical-align: top;\n",
              "    }\n",
              "\n",
              "    .dataframe thead th {\n",
              "        text-align: right;\n",
              "    }\n",
              "</style>\n",
              "<table border=\"1\" class=\"dataframe\">\n",
              "  <thead>\n",
              "    <tr style=\"text-align: right;\">\n",
              "      <th></th>\n",
              "      <th>application_id</th>\n",
              "      <th>age</th>\n",
              "      <th>monthly_income</th>\n",
              "      <th>loan_amount</th>\n",
              "      <th>previous_defaults</th>\n",
              "      <th>credit_score</th>\n",
              "      <th>default</th>\n",
              "    </tr>\n",
              "  </thead>\n",
              "  <tbody>\n",
              "    <tr>\n",
              "      <th>0</th>\n",
              "      <td>501000</td>\n",
              "      <td>41</td>\n",
              "      <td>13995609</td>\n",
              "      <td>5982664</td>\n",
              "      <td>0</td>\n",
              "      <td>624</td>\n",
              "      <td>0</td>\n",
              "    </tr>\n",
              "    <tr>\n",
              "      <th>1</th>\n",
              "      <td>501001</td>\n",
              "      <td>58</td>\n",
              "      <td>13683833</td>\n",
              "      <td>3711198</td>\n",
              "      <td>0</td>\n",
              "      <td>809</td>\n",
              "      <td>0</td>\n",
              "    </tr>\n",
              "    <tr>\n",
              "      <th>2</th>\n",
              "      <td>501002</td>\n",
              "      <td>33</td>\n",
              "      <td>9417391</td>\n",
              "      <td>7172332</td>\n",
              "      <td>0</td>\n",
              "      <td>647</td>\n",
              "      <td>0</td>\n",
              "    </tr>\n",
              "    <tr>\n",
              "      <th>3</th>\n",
              "      <td>501003</td>\n",
              "      <td>45</td>\n",
              "      <td>6861811</td>\n",
              "      <td>8661056</td>\n",
              "      <td>0</td>\n",
              "      <td>450</td>\n",
              "      <td>0</td>\n",
              "    </tr>\n",
              "    <tr>\n",
              "      <th>4</th>\n",
              "      <td>501004</td>\n",
              "      <td>22</td>\n",
              "      <td>5640742</td>\n",
              "      <td>4520669</td>\n",
              "      <td>1</td>\n",
              "      <td>816</td>\n",
              "      <td>0</td>\n",
              "    </tr>\n",
              "    <tr>\n",
              "      <th>...</th>\n",
              "      <td>...</td>\n",
              "      <td>...</td>\n",
              "      <td>...</td>\n",
              "      <td>...</td>\n",
              "      <td>...</td>\n",
              "      <td>...</td>\n",
              "      <td>...</td>\n",
              "    </tr>\n",
              "    <tr>\n",
              "      <th>5995</th>\n",
              "      <td>506995</td>\n",
              "      <td>26</td>\n",
              "      <td>18253018</td>\n",
              "      <td>3690565</td>\n",
              "      <td>2</td>\n",
              "      <td>729</td>\n",
              "      <td>0</td>\n",
              "    </tr>\n",
              "    <tr>\n",
              "      <th>5996</th>\n",
              "      <td>506996</td>\n",
              "      <td>40</td>\n",
              "      <td>9944385</td>\n",
              "      <td>4082038</td>\n",
              "      <td>1</td>\n",
              "      <td>477</td>\n",
              "      <td>0</td>\n",
              "    </tr>\n",
              "    <tr>\n",
              "      <th>5997</th>\n",
              "      <td>506997</td>\n",
              "      <td>28</td>\n",
              "      <td>9048532</td>\n",
              "      <td>14760384</td>\n",
              "      <td>0</td>\n",
              "      <td>450</td>\n",
              "      <td>0</td>\n",
              "    </tr>\n",
              "    <tr>\n",
              "      <th>5998</th>\n",
              "      <td>506998</td>\n",
              "      <td>51</td>\n",
              "      <td>6843160</td>\n",
              "      <td>11774594</td>\n",
              "      <td>0</td>\n",
              "      <td>561</td>\n",
              "      <td>0</td>\n",
              "    </tr>\n",
              "    <tr>\n",
              "      <th>5999</th>\n",
              "      <td>506999</td>\n",
              "      <td>35</td>\n",
              "      <td>12715733</td>\n",
              "      <td>8006387</td>\n",
              "      <td>0</td>\n",
              "      <td>774</td>\n",
              "      <td>0</td>\n",
              "    </tr>\n",
              "  </tbody>\n",
              "</table>\n",
              "<p>6000 rows × 7 columns</p>\n",
              "</div>\n",
              "    <div class=\"colab-df-buttons\">\n",
              "\n",
              "  <div class=\"colab-df-container\">\n",
              "    <button class=\"colab-df-convert\" onclick=\"convertToInteractive('df-7fa61250-938c-446b-a20a-1239843a3c8f')\"\n",
              "            title=\"Convert this dataframe to an interactive table.\"\n",
              "            style=\"display:none;\">\n",
              "\n",
              "  <svg xmlns=\"http://www.w3.org/2000/svg\" height=\"24px\" viewBox=\"0 -960 960 960\">\n",
              "    <path d=\"M120-120v-720h720v720H120Zm60-500h600v-160H180v160Zm220 220h160v-160H400v160Zm0 220h160v-160H400v160ZM180-400h160v-160H180v160Zm440 0h160v-160H620v160ZM180-180h160v-160H180v160Zm440 0h160v-160H620v160Z\"/>\n",
              "  </svg>\n",
              "    </button>\n",
              "\n",
              "  <style>\n",
              "    .colab-df-container {\n",
              "      display:flex;\n",
              "      gap: 12px;\n",
              "    }\n",
              "\n",
              "    .colab-df-convert {\n",
              "      background-color: #E8F0FE;\n",
              "      border: none;\n",
              "      border-radius: 50%;\n",
              "      cursor: pointer;\n",
              "      display: none;\n",
              "      fill: #1967D2;\n",
              "      height: 32px;\n",
              "      padding: 0 0 0 0;\n",
              "      width: 32px;\n",
              "    }\n",
              "\n",
              "    .colab-df-convert:hover {\n",
              "      background-color: #E2EBFA;\n",
              "      box-shadow: 0px 1px 2px rgba(60, 64, 67, 0.3), 0px 1px 3px 1px rgba(60, 64, 67, 0.15);\n",
              "      fill: #174EA6;\n",
              "    }\n",
              "\n",
              "    .colab-df-buttons div {\n",
              "      margin-bottom: 4px;\n",
              "    }\n",
              "\n",
              "    [theme=dark] .colab-df-convert {\n",
              "      background-color: #3B4455;\n",
              "      fill: #D2E3FC;\n",
              "    }\n",
              "\n",
              "    [theme=dark] .colab-df-convert:hover {\n",
              "      background-color: #434B5C;\n",
              "      box-shadow: 0px 1px 3px 1px rgba(0, 0, 0, 0.15);\n",
              "      filter: drop-shadow(0px 1px 2px rgba(0, 0, 0, 0.3));\n",
              "      fill: #FFFFFF;\n",
              "    }\n",
              "  </style>\n",
              "\n",
              "    <script>\n",
              "      const buttonEl =\n",
              "        document.querySelector('#df-7fa61250-938c-446b-a20a-1239843a3c8f button.colab-df-convert');\n",
              "      buttonEl.style.display =\n",
              "        google.colab.kernel.accessAllowed ? 'block' : 'none';\n",
              "\n",
              "      async function convertToInteractive(key) {\n",
              "        const element = document.querySelector('#df-7fa61250-938c-446b-a20a-1239843a3c8f');\n",
              "        const dataTable =\n",
              "          await google.colab.kernel.invokeFunction('convertToInteractive',\n",
              "                                                    [key], {});\n",
              "        if (!dataTable) return;\n",
              "\n",
              "        const docLinkHtml = 'Like what you see? Visit the ' +\n",
              "          '<a target=\"_blank\" href=https://colab.research.google.com/notebooks/data_table.ipynb>data table notebook</a>'\n",
              "          + ' to learn more about interactive tables.';\n",
              "        element.innerHTML = '';\n",
              "        dataTable['output_type'] = 'display_data';\n",
              "        await google.colab.output.renderOutput(dataTable, element);\n",
              "        const docLink = document.createElement('div');\n",
              "        docLink.innerHTML = docLinkHtml;\n",
              "        element.appendChild(docLink);\n",
              "      }\n",
              "    </script>\n",
              "  </div>\n",
              "\n",
              "\n",
              "    <div id=\"df-20a6612c-8dbd-4344-a36b-a4ed7d34d6b3\">\n",
              "      <button class=\"colab-df-quickchart\" onclick=\"quickchart('df-20a6612c-8dbd-4344-a36b-a4ed7d34d6b3')\"\n",
              "                title=\"Suggest charts\"\n",
              "                style=\"display:none;\">\n",
              "\n",
              "<svg xmlns=\"http://www.w3.org/2000/svg\" height=\"24px\"viewBox=\"0 0 24 24\"\n",
              "     width=\"24px\">\n",
              "    <g>\n",
              "        <path d=\"M19 3H5c-1.1 0-2 .9-2 2v14c0 1.1.9 2 2 2h14c1.1 0 2-.9 2-2V5c0-1.1-.9-2-2-2zM9 17H7v-7h2v7zm4 0h-2V7h2v10zm4 0h-2v-4h2v4z\"/>\n",
              "    </g>\n",
              "</svg>\n",
              "      </button>\n",
              "\n",
              "<style>\n",
              "  .colab-df-quickchart {\n",
              "      --bg-color: #E8F0FE;\n",
              "      --fill-color: #1967D2;\n",
              "      --hover-bg-color: #E2EBFA;\n",
              "      --hover-fill-color: #174EA6;\n",
              "      --disabled-fill-color: #AAA;\n",
              "      --disabled-bg-color: #DDD;\n",
              "  }\n",
              "\n",
              "  [theme=dark] .colab-df-quickchart {\n",
              "      --bg-color: #3B4455;\n",
              "      --fill-color: #D2E3FC;\n",
              "      --hover-bg-color: #434B5C;\n",
              "      --hover-fill-color: #FFFFFF;\n",
              "      --disabled-bg-color: #3B4455;\n",
              "      --disabled-fill-color: #666;\n",
              "  }\n",
              "\n",
              "  .colab-df-quickchart {\n",
              "    background-color: var(--bg-color);\n",
              "    border: none;\n",
              "    border-radius: 50%;\n",
              "    cursor: pointer;\n",
              "    display: none;\n",
              "    fill: var(--fill-color);\n",
              "    height: 32px;\n",
              "    padding: 0;\n",
              "    width: 32px;\n",
              "  }\n",
              "\n",
              "  .colab-df-quickchart:hover {\n",
              "    background-color: var(--hover-bg-color);\n",
              "    box-shadow: 0 1px 2px rgba(60, 64, 67, 0.3), 0 1px 3px 1px rgba(60, 64, 67, 0.15);\n",
              "    fill: var(--button-hover-fill-color);\n",
              "  }\n",
              "\n",
              "  .colab-df-quickchart-complete:disabled,\n",
              "  .colab-df-quickchart-complete:disabled:hover {\n",
              "    background-color: var(--disabled-bg-color);\n",
              "    fill: var(--disabled-fill-color);\n",
              "    box-shadow: none;\n",
              "  }\n",
              "\n",
              "  .colab-df-spinner {\n",
              "    border: 2px solid var(--fill-color);\n",
              "    border-color: transparent;\n",
              "    border-bottom-color: var(--fill-color);\n",
              "    animation:\n",
              "      spin 1s steps(1) infinite;\n",
              "  }\n",
              "\n",
              "  @keyframes spin {\n",
              "    0% {\n",
              "      border-color: transparent;\n",
              "      border-bottom-color: var(--fill-color);\n",
              "      border-left-color: var(--fill-color);\n",
              "    }\n",
              "    20% {\n",
              "      border-color: transparent;\n",
              "      border-left-color: var(--fill-color);\n",
              "      border-top-color: var(--fill-color);\n",
              "    }\n",
              "    30% {\n",
              "      border-color: transparent;\n",
              "      border-left-color: var(--fill-color);\n",
              "      border-top-color: var(--fill-color);\n",
              "      border-right-color: var(--fill-color);\n",
              "    }\n",
              "    40% {\n",
              "      border-color: transparent;\n",
              "      border-right-color: var(--fill-color);\n",
              "      border-top-color: var(--fill-color);\n",
              "    }\n",
              "    60% {\n",
              "      border-color: transparent;\n",
              "      border-right-color: var(--fill-color);\n",
              "    }\n",
              "    80% {\n",
              "      border-color: transparent;\n",
              "      border-right-color: var(--fill-color);\n",
              "      border-bottom-color: var(--fill-color);\n",
              "    }\n",
              "    90% {\n",
              "      border-color: transparent;\n",
              "      border-bottom-color: var(--fill-color);\n",
              "    }\n",
              "  }\n",
              "</style>\n",
              "\n",
              "      <script>\n",
              "        async function quickchart(key) {\n",
              "          const quickchartButtonEl =\n",
              "            document.querySelector('#' + key + ' button');\n",
              "          quickchartButtonEl.disabled = true;  // To prevent multiple clicks.\n",
              "          quickchartButtonEl.classList.add('colab-df-spinner');\n",
              "          try {\n",
              "            const charts = await google.colab.kernel.invokeFunction(\n",
              "                'suggestCharts', [key], {});\n",
              "          } catch (error) {\n",
              "            console.error('Error during call to suggestCharts:', error);\n",
              "          }\n",
              "          quickchartButtonEl.classList.remove('colab-df-spinner');\n",
              "          quickchartButtonEl.classList.add('colab-df-quickchart-complete');\n",
              "        }\n",
              "        (() => {\n",
              "          let quickchartButtonEl =\n",
              "            document.querySelector('#df-20a6612c-8dbd-4344-a36b-a4ed7d34d6b3 button');\n",
              "          quickchartButtonEl.style.display =\n",
              "            google.colab.kernel.accessAllowed ? 'block' : 'none';\n",
              "        })();\n",
              "      </script>\n",
              "    </div>\n",
              "\n",
              "  <div id=\"id_33d71f3c-20fe-4ea2-b92e-b7313ab748f5\">\n",
              "    <style>\n",
              "      .colab-df-generate {\n",
              "        background-color: #E8F0FE;\n",
              "        border: none;\n",
              "        border-radius: 50%;\n",
              "        cursor: pointer;\n",
              "        display: none;\n",
              "        fill: #1967D2;\n",
              "        height: 32px;\n",
              "        padding: 0 0 0 0;\n",
              "        width: 32px;\n",
              "      }\n",
              "\n",
              "      .colab-df-generate:hover {\n",
              "        background-color: #E2EBFA;\n",
              "        box-shadow: 0px 1px 2px rgba(60, 64, 67, 0.3), 0px 1px 3px 1px rgba(60, 64, 67, 0.15);\n",
              "        fill: #174EA6;\n",
              "      }\n",
              "\n",
              "      [theme=dark] .colab-df-generate {\n",
              "        background-color: #3B4455;\n",
              "        fill: #D2E3FC;\n",
              "      }\n",
              "\n",
              "      [theme=dark] .colab-df-generate:hover {\n",
              "        background-color: #434B5C;\n",
              "        box-shadow: 0px 1px 3px 1px rgba(0, 0, 0, 0.15);\n",
              "        filter: drop-shadow(0px 1px 2px rgba(0, 0, 0, 0.3));\n",
              "        fill: #FFFFFF;\n",
              "      }\n",
              "    </style>\n",
              "    <button class=\"colab-df-generate\" onclick=\"generateWithVariable('data')\"\n",
              "            title=\"Generate code using this dataframe.\"\n",
              "            style=\"display:none;\">\n",
              "\n",
              "  <svg xmlns=\"http://www.w3.org/2000/svg\" height=\"24px\"viewBox=\"0 0 24 24\"\n",
              "       width=\"24px\">\n",
              "    <path d=\"M7,19H8.4L18.45,9,17,7.55,7,17.6ZM5,21V16.75L18.45,3.32a2,2,0,0,1,2.83,0l1.4,1.43a1.91,1.91,0,0,1,.58,1.4,1.91,1.91,0,0,1-.58,1.4L9.25,21ZM18.45,9,17,7.55Zm-12,3A5.31,5.31,0,0,0,4.9,8.1,5.31,5.31,0,0,0,1,6.5,5.31,5.31,0,0,0,4.9,4.9,5.31,5.31,0,0,0,6.5,1,5.31,5.31,0,0,0,8.1,4.9,5.31,5.31,0,0,0,12,6.5,5.46,5.46,0,0,0,6.5,12Z\"/>\n",
              "  </svg>\n",
              "    </button>\n",
              "    <script>\n",
              "      (() => {\n",
              "      const buttonEl =\n",
              "        document.querySelector('#id_33d71f3c-20fe-4ea2-b92e-b7313ab748f5 button.colab-df-generate');\n",
              "      buttonEl.style.display =\n",
              "        google.colab.kernel.accessAllowed ? 'block' : 'none';\n",
              "\n",
              "      buttonEl.onclick = () => {\n",
              "        google.colab.notebook.generateWithVariable('data');\n",
              "      }\n",
              "      })();\n",
              "    </script>\n",
              "  </div>\n",
              "\n",
              "    </div>\n",
              "  </div>\n"
            ],
            "application/vnd.google.colaboratory.intrinsic+json": {
              "type": "dataframe",
              "variable_name": "data",
              "summary": "{\n  \"name\": \"data\",\n  \"rows\": 6000,\n  \"fields\": [\n    {\n      \"column\": \"application_id\",\n      \"properties\": {\n        \"dtype\": \"number\",\n        \"std\": 1732,\n        \"min\": 501000,\n        \"max\": 506999,\n        \"num_unique_values\": 6000,\n        \"samples\": [\n          502782,\n          504917,\n          501221\n        ],\n        \"semantic_type\": \"\",\n        \"description\": \"\"\n      }\n    },\n    {\n      \"column\": \"age\",\n      \"properties\": {\n        \"dtype\": \"number\",\n        \"std\": 11,\n        \"min\": 21,\n        \"max\": 59,\n        \"num_unique_values\": 39,\n        \"samples\": [\n          30,\n          23,\n          22\n        ],\n        \"semantic_type\": \"\",\n        \"description\": \"\"\n      }\n    },\n    {\n      \"column\": \"monthly_income\",\n      \"properties\": {\n        \"dtype\": \"number\",\n        \"std\": 4912598,\n        \"min\": 3000310,\n        \"max\": 19986217,\n        \"num_unique_values\": 6000,\n        \"samples\": [\n          3909561,\n          10596339,\n          4011673\n        ],\n        \"semantic_type\": \"\",\n        \"description\": \"\"\n      }\n    },\n    {\n      \"column\": \"loan_amount\",\n      \"properties\": {\n        \"dtype\": \"number\",\n        \"std\": 4071785,\n        \"min\": 1000794,\n        \"max\": 14998580,\n        \"num_unique_values\": 6000,\n        \"samples\": [\n          11329862,\n          8270524,\n          13085276\n        ],\n        \"semantic_type\": \"\",\n        \"description\": \"\"\n      }\n    },\n    {\n      \"column\": \"previous_defaults\",\n      \"properties\": {\n        \"dtype\": \"number\",\n        \"std\": 0,\n        \"min\": 0,\n        \"max\": 3,\n        \"num_unique_values\": 4,\n        \"samples\": [\n          1,\n          3,\n          0\n        ],\n        \"semantic_type\": \"\",\n        \"description\": \"\"\n      }\n    },\n    {\n      \"column\": \"credit_score\",\n      \"properties\": {\n        \"dtype\": \"number\",\n        \"std\": 158,\n        \"min\": 300,\n        \"max\": 849,\n        \"num_unique_values\": 550,\n        \"samples\": [\n          849,\n          534,\n          846\n        ],\n        \"semantic_type\": \"\",\n        \"description\": \"\"\n      }\n    },\n    {\n      \"column\": \"default\",\n      \"properties\": {\n        \"dtype\": \"number\",\n        \"std\": 0,\n        \"min\": 0,\n        \"max\": 1,\n        \"num_unique_values\": 2,\n        \"samples\": [\n          1,\n          0\n        ],\n        \"semantic_type\": \"\",\n        \"description\": \"\"\n      }\n    }\n  ]\n}"
            }
          },
          "metadata": {},
          "execution_count": 10
        }
      ]
    },
    {
      "cell_type": "markdown",
      "source": [
        "Penghapusan kolom 'leak_col_good', 'leak_col_subtle' sebagai data leakage"
      ],
      "metadata": {
        "id": "ZzmsdrKkvpZ3"
      }
    },
    {
      "cell_type": "markdown",
      "source": [
        "## **Split Data**"
      ],
      "metadata": {
        "id": "uZnv_3OR2Tk4"
      }
    },
    {
      "cell_type": "code",
      "source": [
        "X = data.drop(columns=['application_id', 'default'])\n",
        "y = data['default']"
      ],
      "metadata": {
        "id": "sajrGqFf2YO7"
      },
      "execution_count": 11,
      "outputs": []
    },
    {
      "cell_type": "markdown",
      "source": [
        "Melakukan pemisahan data ke dalam variabel respon dan variabel prediktor."
      ],
      "metadata": {
        "id": "kBpYJyYmv6t_"
      }
    },
    {
      "cell_type": "code",
      "source": [
        "X_train, X_test, y_train, y_test = train_test_split(X, y, test_size=0.2, random_state=42, stratify=y)\n",
        "print(f\"X_train : {X_train.shape}\")\n",
        "print(f\"X_test : {X_test.shape}\")\n",
        "print(f\"y_train : {y_train.shape}\")\n",
        "print(f\"y_test : {y_test.shape}\")"
      ],
      "metadata": {
        "colab": {
          "base_uri": "https://localhost:8080/"
        },
        "id": "3v3hDoRy23l1",
        "outputId": "90317692-8719-43ca-ce93-532c84c1cf92"
      },
      "execution_count": 12,
      "outputs": [
        {
          "output_type": "stream",
          "name": "stdout",
          "text": [
            "X_train : (4800, 5)\n",
            "X_test : (1200, 5)\n",
            "y_train : (4800,)\n",
            "y_test : (1200,)\n"
          ]
        }
      ]
    },
    {
      "cell_type": "markdown",
      "source": [
        "Berdasarkan output di atas, diketahui bahwa:\n",
        "- Variabel X yang digunakan sebagai data latih terdiri dari 4800 baris dan 5 kolom\n",
        "- Variabel X yang digunakan sebagai data uji terdiri dari 1200 baris dan 5 kolom\n",
        "- Variabel y yang digunakan sebagai data latih terdiri dari 4800 kolom\n",
        "- Variabel y yang digunakan sebagai data uji terdiri dari 1200 kolom\n",
        "\n",
        "Partisi data dilakukan dengan membangi data menjadi 2 bagian, dengan proporsi 80% untuk data latih dan 20% untuk data uji (sesuai dengan hukum pareto)."
      ],
      "metadata": {
        "id": "C7QtPkfcwFCJ"
      }
    },
    {
      "cell_type": "code",
      "source": [
        "X_train"
      ],
      "metadata": {
        "colab": {
          "base_uri": "https://localhost:8080/",
          "height": 423
        },
        "id": "RDTqsRxz3FX2",
        "outputId": "9204f185-93f0-47e5-91e2-324927a4c8f6"
      },
      "execution_count": 13,
      "outputs": [
        {
          "output_type": "execute_result",
          "data": {
            "text/plain": [
              "      age  monthly_income  loan_amount  previous_defaults  credit_score\n",
              "382    49        15929405      7257297                  0           537\n",
              "2603   50        13636274      6963137                  0           610\n",
              "65     48         3094579      1847424                  0           356\n",
              "3332   22         6156666      9324793                  0           406\n",
              "833    47         9886549      9609103                  0           347\n",
              "...   ...             ...          ...                ...           ...\n",
              "1971   54        14085892     13618694                  0           656\n",
              "4962   43        19475371      8319805                  0           734\n",
              "3005   31         4652582      3723409                  1           632\n",
              "591    29        12899797      4386421                  0           816\n",
              "3748   47        11137388     13624700                  1           476\n",
              "\n",
              "[4800 rows x 5 columns]"
            ],
            "text/html": [
              "\n",
              "  <div id=\"df-7a6336bd-e36c-4941-b118-840ed379588a\" class=\"colab-df-container\">\n",
              "    <div>\n",
              "<style scoped>\n",
              "    .dataframe tbody tr th:only-of-type {\n",
              "        vertical-align: middle;\n",
              "    }\n",
              "\n",
              "    .dataframe tbody tr th {\n",
              "        vertical-align: top;\n",
              "    }\n",
              "\n",
              "    .dataframe thead th {\n",
              "        text-align: right;\n",
              "    }\n",
              "</style>\n",
              "<table border=\"1\" class=\"dataframe\">\n",
              "  <thead>\n",
              "    <tr style=\"text-align: right;\">\n",
              "      <th></th>\n",
              "      <th>age</th>\n",
              "      <th>monthly_income</th>\n",
              "      <th>loan_amount</th>\n",
              "      <th>previous_defaults</th>\n",
              "      <th>credit_score</th>\n",
              "    </tr>\n",
              "  </thead>\n",
              "  <tbody>\n",
              "    <tr>\n",
              "      <th>382</th>\n",
              "      <td>49</td>\n",
              "      <td>15929405</td>\n",
              "      <td>7257297</td>\n",
              "      <td>0</td>\n",
              "      <td>537</td>\n",
              "    </tr>\n",
              "    <tr>\n",
              "      <th>2603</th>\n",
              "      <td>50</td>\n",
              "      <td>13636274</td>\n",
              "      <td>6963137</td>\n",
              "      <td>0</td>\n",
              "      <td>610</td>\n",
              "    </tr>\n",
              "    <tr>\n",
              "      <th>65</th>\n",
              "      <td>48</td>\n",
              "      <td>3094579</td>\n",
              "      <td>1847424</td>\n",
              "      <td>0</td>\n",
              "      <td>356</td>\n",
              "    </tr>\n",
              "    <tr>\n",
              "      <th>3332</th>\n",
              "      <td>22</td>\n",
              "      <td>6156666</td>\n",
              "      <td>9324793</td>\n",
              "      <td>0</td>\n",
              "      <td>406</td>\n",
              "    </tr>\n",
              "    <tr>\n",
              "      <th>833</th>\n",
              "      <td>47</td>\n",
              "      <td>9886549</td>\n",
              "      <td>9609103</td>\n",
              "      <td>0</td>\n",
              "      <td>347</td>\n",
              "    </tr>\n",
              "    <tr>\n",
              "      <th>...</th>\n",
              "      <td>...</td>\n",
              "      <td>...</td>\n",
              "      <td>...</td>\n",
              "      <td>...</td>\n",
              "      <td>...</td>\n",
              "    </tr>\n",
              "    <tr>\n",
              "      <th>1971</th>\n",
              "      <td>54</td>\n",
              "      <td>14085892</td>\n",
              "      <td>13618694</td>\n",
              "      <td>0</td>\n",
              "      <td>656</td>\n",
              "    </tr>\n",
              "    <tr>\n",
              "      <th>4962</th>\n",
              "      <td>43</td>\n",
              "      <td>19475371</td>\n",
              "      <td>8319805</td>\n",
              "      <td>0</td>\n",
              "      <td>734</td>\n",
              "    </tr>\n",
              "    <tr>\n",
              "      <th>3005</th>\n",
              "      <td>31</td>\n",
              "      <td>4652582</td>\n",
              "      <td>3723409</td>\n",
              "      <td>1</td>\n",
              "      <td>632</td>\n",
              "    </tr>\n",
              "    <tr>\n",
              "      <th>591</th>\n",
              "      <td>29</td>\n",
              "      <td>12899797</td>\n",
              "      <td>4386421</td>\n",
              "      <td>0</td>\n",
              "      <td>816</td>\n",
              "    </tr>\n",
              "    <tr>\n",
              "      <th>3748</th>\n",
              "      <td>47</td>\n",
              "      <td>11137388</td>\n",
              "      <td>13624700</td>\n",
              "      <td>1</td>\n",
              "      <td>476</td>\n",
              "    </tr>\n",
              "  </tbody>\n",
              "</table>\n",
              "<p>4800 rows × 5 columns</p>\n",
              "</div>\n",
              "    <div class=\"colab-df-buttons\">\n",
              "\n",
              "  <div class=\"colab-df-container\">\n",
              "    <button class=\"colab-df-convert\" onclick=\"convertToInteractive('df-7a6336bd-e36c-4941-b118-840ed379588a')\"\n",
              "            title=\"Convert this dataframe to an interactive table.\"\n",
              "            style=\"display:none;\">\n",
              "\n",
              "  <svg xmlns=\"http://www.w3.org/2000/svg\" height=\"24px\" viewBox=\"0 -960 960 960\">\n",
              "    <path d=\"M120-120v-720h720v720H120Zm60-500h600v-160H180v160Zm220 220h160v-160H400v160Zm0 220h160v-160H400v160ZM180-400h160v-160H180v160Zm440 0h160v-160H620v160ZM180-180h160v-160H180v160Zm440 0h160v-160H620v160Z\"/>\n",
              "  </svg>\n",
              "    </button>\n",
              "\n",
              "  <style>\n",
              "    .colab-df-container {\n",
              "      display:flex;\n",
              "      gap: 12px;\n",
              "    }\n",
              "\n",
              "    .colab-df-convert {\n",
              "      background-color: #E8F0FE;\n",
              "      border: none;\n",
              "      border-radius: 50%;\n",
              "      cursor: pointer;\n",
              "      display: none;\n",
              "      fill: #1967D2;\n",
              "      height: 32px;\n",
              "      padding: 0 0 0 0;\n",
              "      width: 32px;\n",
              "    }\n",
              "\n",
              "    .colab-df-convert:hover {\n",
              "      background-color: #E2EBFA;\n",
              "      box-shadow: 0px 1px 2px rgba(60, 64, 67, 0.3), 0px 1px 3px 1px rgba(60, 64, 67, 0.15);\n",
              "      fill: #174EA6;\n",
              "    }\n",
              "\n",
              "    .colab-df-buttons div {\n",
              "      margin-bottom: 4px;\n",
              "    }\n",
              "\n",
              "    [theme=dark] .colab-df-convert {\n",
              "      background-color: #3B4455;\n",
              "      fill: #D2E3FC;\n",
              "    }\n",
              "\n",
              "    [theme=dark] .colab-df-convert:hover {\n",
              "      background-color: #434B5C;\n",
              "      box-shadow: 0px 1px 3px 1px rgba(0, 0, 0, 0.15);\n",
              "      filter: drop-shadow(0px 1px 2px rgba(0, 0, 0, 0.3));\n",
              "      fill: #FFFFFF;\n",
              "    }\n",
              "  </style>\n",
              "\n",
              "    <script>\n",
              "      const buttonEl =\n",
              "        document.querySelector('#df-7a6336bd-e36c-4941-b118-840ed379588a button.colab-df-convert');\n",
              "      buttonEl.style.display =\n",
              "        google.colab.kernel.accessAllowed ? 'block' : 'none';\n",
              "\n",
              "      async function convertToInteractive(key) {\n",
              "        const element = document.querySelector('#df-7a6336bd-e36c-4941-b118-840ed379588a');\n",
              "        const dataTable =\n",
              "          await google.colab.kernel.invokeFunction('convertToInteractive',\n",
              "                                                    [key], {});\n",
              "        if (!dataTable) return;\n",
              "\n",
              "        const docLinkHtml = 'Like what you see? Visit the ' +\n",
              "          '<a target=\"_blank\" href=https://colab.research.google.com/notebooks/data_table.ipynb>data table notebook</a>'\n",
              "          + ' to learn more about interactive tables.';\n",
              "        element.innerHTML = '';\n",
              "        dataTable['output_type'] = 'display_data';\n",
              "        await google.colab.output.renderOutput(dataTable, element);\n",
              "        const docLink = document.createElement('div');\n",
              "        docLink.innerHTML = docLinkHtml;\n",
              "        element.appendChild(docLink);\n",
              "      }\n",
              "    </script>\n",
              "  </div>\n",
              "\n",
              "\n",
              "    <div id=\"df-7ff036ea-3468-4912-86d3-4cd7cf2a3274\">\n",
              "      <button class=\"colab-df-quickchart\" onclick=\"quickchart('df-7ff036ea-3468-4912-86d3-4cd7cf2a3274')\"\n",
              "                title=\"Suggest charts\"\n",
              "                style=\"display:none;\">\n",
              "\n",
              "<svg xmlns=\"http://www.w3.org/2000/svg\" height=\"24px\"viewBox=\"0 0 24 24\"\n",
              "     width=\"24px\">\n",
              "    <g>\n",
              "        <path d=\"M19 3H5c-1.1 0-2 .9-2 2v14c0 1.1.9 2 2 2h14c1.1 0 2-.9 2-2V5c0-1.1-.9-2-2-2zM9 17H7v-7h2v7zm4 0h-2V7h2v10zm4 0h-2v-4h2v4z\"/>\n",
              "    </g>\n",
              "</svg>\n",
              "      </button>\n",
              "\n",
              "<style>\n",
              "  .colab-df-quickchart {\n",
              "      --bg-color: #E8F0FE;\n",
              "      --fill-color: #1967D2;\n",
              "      --hover-bg-color: #E2EBFA;\n",
              "      --hover-fill-color: #174EA6;\n",
              "      --disabled-fill-color: #AAA;\n",
              "      --disabled-bg-color: #DDD;\n",
              "  }\n",
              "\n",
              "  [theme=dark] .colab-df-quickchart {\n",
              "      --bg-color: #3B4455;\n",
              "      --fill-color: #D2E3FC;\n",
              "      --hover-bg-color: #434B5C;\n",
              "      --hover-fill-color: #FFFFFF;\n",
              "      --disabled-bg-color: #3B4455;\n",
              "      --disabled-fill-color: #666;\n",
              "  }\n",
              "\n",
              "  .colab-df-quickchart {\n",
              "    background-color: var(--bg-color);\n",
              "    border: none;\n",
              "    border-radius: 50%;\n",
              "    cursor: pointer;\n",
              "    display: none;\n",
              "    fill: var(--fill-color);\n",
              "    height: 32px;\n",
              "    padding: 0;\n",
              "    width: 32px;\n",
              "  }\n",
              "\n",
              "  .colab-df-quickchart:hover {\n",
              "    background-color: var(--hover-bg-color);\n",
              "    box-shadow: 0 1px 2px rgba(60, 64, 67, 0.3), 0 1px 3px 1px rgba(60, 64, 67, 0.15);\n",
              "    fill: var(--button-hover-fill-color);\n",
              "  }\n",
              "\n",
              "  .colab-df-quickchart-complete:disabled,\n",
              "  .colab-df-quickchart-complete:disabled:hover {\n",
              "    background-color: var(--disabled-bg-color);\n",
              "    fill: var(--disabled-fill-color);\n",
              "    box-shadow: none;\n",
              "  }\n",
              "\n",
              "  .colab-df-spinner {\n",
              "    border: 2px solid var(--fill-color);\n",
              "    border-color: transparent;\n",
              "    border-bottom-color: var(--fill-color);\n",
              "    animation:\n",
              "      spin 1s steps(1) infinite;\n",
              "  }\n",
              "\n",
              "  @keyframes spin {\n",
              "    0% {\n",
              "      border-color: transparent;\n",
              "      border-bottom-color: var(--fill-color);\n",
              "      border-left-color: var(--fill-color);\n",
              "    }\n",
              "    20% {\n",
              "      border-color: transparent;\n",
              "      border-left-color: var(--fill-color);\n",
              "      border-top-color: var(--fill-color);\n",
              "    }\n",
              "    30% {\n",
              "      border-color: transparent;\n",
              "      border-left-color: var(--fill-color);\n",
              "      border-top-color: var(--fill-color);\n",
              "      border-right-color: var(--fill-color);\n",
              "    }\n",
              "    40% {\n",
              "      border-color: transparent;\n",
              "      border-right-color: var(--fill-color);\n",
              "      border-top-color: var(--fill-color);\n",
              "    }\n",
              "    60% {\n",
              "      border-color: transparent;\n",
              "      border-right-color: var(--fill-color);\n",
              "    }\n",
              "    80% {\n",
              "      border-color: transparent;\n",
              "      border-right-color: var(--fill-color);\n",
              "      border-bottom-color: var(--fill-color);\n",
              "    }\n",
              "    90% {\n",
              "      border-color: transparent;\n",
              "      border-bottom-color: var(--fill-color);\n",
              "    }\n",
              "  }\n",
              "</style>\n",
              "\n",
              "      <script>\n",
              "        async function quickchart(key) {\n",
              "          const quickchartButtonEl =\n",
              "            document.querySelector('#' + key + ' button');\n",
              "          quickchartButtonEl.disabled = true;  // To prevent multiple clicks.\n",
              "          quickchartButtonEl.classList.add('colab-df-spinner');\n",
              "          try {\n",
              "            const charts = await google.colab.kernel.invokeFunction(\n",
              "                'suggestCharts', [key], {});\n",
              "          } catch (error) {\n",
              "            console.error('Error during call to suggestCharts:', error);\n",
              "          }\n",
              "          quickchartButtonEl.classList.remove('colab-df-spinner');\n",
              "          quickchartButtonEl.classList.add('colab-df-quickchart-complete');\n",
              "        }\n",
              "        (() => {\n",
              "          let quickchartButtonEl =\n",
              "            document.querySelector('#df-7ff036ea-3468-4912-86d3-4cd7cf2a3274 button');\n",
              "          quickchartButtonEl.style.display =\n",
              "            google.colab.kernel.accessAllowed ? 'block' : 'none';\n",
              "        })();\n",
              "      </script>\n",
              "    </div>\n",
              "\n",
              "  <div id=\"id_8177bea3-84e1-444e-b0d0-62710206da98\">\n",
              "    <style>\n",
              "      .colab-df-generate {\n",
              "        background-color: #E8F0FE;\n",
              "        border: none;\n",
              "        border-radius: 50%;\n",
              "        cursor: pointer;\n",
              "        display: none;\n",
              "        fill: #1967D2;\n",
              "        height: 32px;\n",
              "        padding: 0 0 0 0;\n",
              "        width: 32px;\n",
              "      }\n",
              "\n",
              "      .colab-df-generate:hover {\n",
              "        background-color: #E2EBFA;\n",
              "        box-shadow: 0px 1px 2px rgba(60, 64, 67, 0.3), 0px 1px 3px 1px rgba(60, 64, 67, 0.15);\n",
              "        fill: #174EA6;\n",
              "      }\n",
              "\n",
              "      [theme=dark] .colab-df-generate {\n",
              "        background-color: #3B4455;\n",
              "        fill: #D2E3FC;\n",
              "      }\n",
              "\n",
              "      [theme=dark] .colab-df-generate:hover {\n",
              "        background-color: #434B5C;\n",
              "        box-shadow: 0px 1px 3px 1px rgba(0, 0, 0, 0.15);\n",
              "        filter: drop-shadow(0px 1px 2px rgba(0, 0, 0, 0.3));\n",
              "        fill: #FFFFFF;\n",
              "      }\n",
              "    </style>\n",
              "    <button class=\"colab-df-generate\" onclick=\"generateWithVariable('X_train')\"\n",
              "            title=\"Generate code using this dataframe.\"\n",
              "            style=\"display:none;\">\n",
              "\n",
              "  <svg xmlns=\"http://www.w3.org/2000/svg\" height=\"24px\"viewBox=\"0 0 24 24\"\n",
              "       width=\"24px\">\n",
              "    <path d=\"M7,19H8.4L18.45,9,17,7.55,7,17.6ZM5,21V16.75L18.45,3.32a2,2,0,0,1,2.83,0l1.4,1.43a1.91,1.91,0,0,1,.58,1.4,1.91,1.91,0,0,1-.58,1.4L9.25,21ZM18.45,9,17,7.55Zm-12,3A5.31,5.31,0,0,0,4.9,8.1,5.31,5.31,0,0,0,1,6.5,5.31,5.31,0,0,0,4.9,4.9,5.31,5.31,0,0,0,6.5,1,5.31,5.31,0,0,0,8.1,4.9,5.31,5.31,0,0,0,12,6.5,5.46,5.46,0,0,0,6.5,12Z\"/>\n",
              "  </svg>\n",
              "    </button>\n",
              "    <script>\n",
              "      (() => {\n",
              "      const buttonEl =\n",
              "        document.querySelector('#id_8177bea3-84e1-444e-b0d0-62710206da98 button.colab-df-generate');\n",
              "      buttonEl.style.display =\n",
              "        google.colab.kernel.accessAllowed ? 'block' : 'none';\n",
              "\n",
              "      buttonEl.onclick = () => {\n",
              "        google.colab.notebook.generateWithVariable('X_train');\n",
              "      }\n",
              "      })();\n",
              "    </script>\n",
              "  </div>\n",
              "\n",
              "    </div>\n",
              "  </div>\n"
            ],
            "application/vnd.google.colaboratory.intrinsic+json": {
              "type": "dataframe",
              "variable_name": "X_train",
              "summary": "{\n  \"name\": \"X_train\",\n  \"rows\": 4800,\n  \"fields\": [\n    {\n      \"column\": \"age\",\n      \"properties\": {\n        \"dtype\": \"number\",\n        \"std\": 11,\n        \"min\": 21,\n        \"max\": 59,\n        \"num_unique_values\": 39,\n        \"samples\": [\n          26,\n          53,\n          47\n        ],\n        \"semantic_type\": \"\",\n        \"description\": \"\"\n      }\n    },\n    {\n      \"column\": \"monthly_income\",\n      \"properties\": {\n        \"dtype\": \"number\",\n        \"std\": 4912314,\n        \"min\": 3000310,\n        \"max\": 19981510,\n        \"num_unique_values\": 4800,\n        \"samples\": [\n          5949472,\n          12430304,\n          18384662\n        ],\n        \"semantic_type\": \"\",\n        \"description\": \"\"\n      }\n    },\n    {\n      \"column\": \"loan_amount\",\n      \"properties\": {\n        \"dtype\": \"number\",\n        \"std\": 4067700,\n        \"min\": 1001408,\n        \"max\": 14998580,\n        \"num_unique_values\": 4800,\n        \"samples\": [\n          7650319,\n          13098667,\n          4644677\n        ],\n        \"semantic_type\": \"\",\n        \"description\": \"\"\n      }\n    },\n    {\n      \"column\": \"previous_defaults\",\n      \"properties\": {\n        \"dtype\": \"number\",\n        \"std\": 0,\n        \"min\": 0,\n        \"max\": 3,\n        \"num_unique_values\": 4,\n        \"samples\": [\n          1,\n          3,\n          0\n        ],\n        \"semantic_type\": \"\",\n        \"description\": \"\"\n      }\n    },\n    {\n      \"column\": \"credit_score\",\n      \"properties\": {\n        \"dtype\": \"number\",\n        \"std\": 158,\n        \"min\": 300,\n        \"max\": 849,\n        \"num_unique_values\": 550,\n        \"samples\": [\n          712,\n          842,\n          782\n        ],\n        \"semantic_type\": \"\",\n        \"description\": \"\"\n      }\n    }\n  ]\n}"
            }
          },
          "metadata": {},
          "execution_count": 13
        }
      ]
    },
    {
      "cell_type": "code",
      "source": [
        "X_test"
      ],
      "metadata": {
        "colab": {
          "base_uri": "https://localhost:8080/",
          "height": 423
        },
        "id": "Kk9J-Abo3Hkg",
        "outputId": "0ba6c544-0f12-4716-b0b7-f4858702ef91"
      },
      "execution_count": 14,
      "outputs": [
        {
          "output_type": "execute_result",
          "data": {
            "text/plain": [
              "      age  monthly_income  loan_amount  previous_defaults  credit_score\n",
              "730    24         5410762      2006571                  0           522\n",
              "4541   54         8778441     14120345                  0           653\n",
              "4065   28        14890214      2779923                  0           804\n",
              "1030   50         7157863      2182941                  0           425\n",
              "2346   37         5810685      7980815                  0           737\n",
              "...   ...             ...          ...                ...           ...\n",
              "516    51        13984242      8223082                  1           792\n",
              "3335   39        19009353      8497236                  0           634\n",
              "965    57         3282043      3011847                  1           617\n",
              "5468   34        12881082      7750416                  0           353\n",
              "933    21         3232818     11576111                  0           413\n",
              "\n",
              "[1200 rows x 5 columns]"
            ],
            "text/html": [
              "\n",
              "  <div id=\"df-2a252fcc-caeb-4b0e-abfd-fd4d59bbb8fb\" class=\"colab-df-container\">\n",
              "    <div>\n",
              "<style scoped>\n",
              "    .dataframe tbody tr th:only-of-type {\n",
              "        vertical-align: middle;\n",
              "    }\n",
              "\n",
              "    .dataframe tbody tr th {\n",
              "        vertical-align: top;\n",
              "    }\n",
              "\n",
              "    .dataframe thead th {\n",
              "        text-align: right;\n",
              "    }\n",
              "</style>\n",
              "<table border=\"1\" class=\"dataframe\">\n",
              "  <thead>\n",
              "    <tr style=\"text-align: right;\">\n",
              "      <th></th>\n",
              "      <th>age</th>\n",
              "      <th>monthly_income</th>\n",
              "      <th>loan_amount</th>\n",
              "      <th>previous_defaults</th>\n",
              "      <th>credit_score</th>\n",
              "    </tr>\n",
              "  </thead>\n",
              "  <tbody>\n",
              "    <tr>\n",
              "      <th>730</th>\n",
              "      <td>24</td>\n",
              "      <td>5410762</td>\n",
              "      <td>2006571</td>\n",
              "      <td>0</td>\n",
              "      <td>522</td>\n",
              "    </tr>\n",
              "    <tr>\n",
              "      <th>4541</th>\n",
              "      <td>54</td>\n",
              "      <td>8778441</td>\n",
              "      <td>14120345</td>\n",
              "      <td>0</td>\n",
              "      <td>653</td>\n",
              "    </tr>\n",
              "    <tr>\n",
              "      <th>4065</th>\n",
              "      <td>28</td>\n",
              "      <td>14890214</td>\n",
              "      <td>2779923</td>\n",
              "      <td>0</td>\n",
              "      <td>804</td>\n",
              "    </tr>\n",
              "    <tr>\n",
              "      <th>1030</th>\n",
              "      <td>50</td>\n",
              "      <td>7157863</td>\n",
              "      <td>2182941</td>\n",
              "      <td>0</td>\n",
              "      <td>425</td>\n",
              "    </tr>\n",
              "    <tr>\n",
              "      <th>2346</th>\n",
              "      <td>37</td>\n",
              "      <td>5810685</td>\n",
              "      <td>7980815</td>\n",
              "      <td>0</td>\n",
              "      <td>737</td>\n",
              "    </tr>\n",
              "    <tr>\n",
              "      <th>...</th>\n",
              "      <td>...</td>\n",
              "      <td>...</td>\n",
              "      <td>...</td>\n",
              "      <td>...</td>\n",
              "      <td>...</td>\n",
              "    </tr>\n",
              "    <tr>\n",
              "      <th>516</th>\n",
              "      <td>51</td>\n",
              "      <td>13984242</td>\n",
              "      <td>8223082</td>\n",
              "      <td>1</td>\n",
              "      <td>792</td>\n",
              "    </tr>\n",
              "    <tr>\n",
              "      <th>3335</th>\n",
              "      <td>39</td>\n",
              "      <td>19009353</td>\n",
              "      <td>8497236</td>\n",
              "      <td>0</td>\n",
              "      <td>634</td>\n",
              "    </tr>\n",
              "    <tr>\n",
              "      <th>965</th>\n",
              "      <td>57</td>\n",
              "      <td>3282043</td>\n",
              "      <td>3011847</td>\n",
              "      <td>1</td>\n",
              "      <td>617</td>\n",
              "    </tr>\n",
              "    <tr>\n",
              "      <th>5468</th>\n",
              "      <td>34</td>\n",
              "      <td>12881082</td>\n",
              "      <td>7750416</td>\n",
              "      <td>0</td>\n",
              "      <td>353</td>\n",
              "    </tr>\n",
              "    <tr>\n",
              "      <th>933</th>\n",
              "      <td>21</td>\n",
              "      <td>3232818</td>\n",
              "      <td>11576111</td>\n",
              "      <td>0</td>\n",
              "      <td>413</td>\n",
              "    </tr>\n",
              "  </tbody>\n",
              "</table>\n",
              "<p>1200 rows × 5 columns</p>\n",
              "</div>\n",
              "    <div class=\"colab-df-buttons\">\n",
              "\n",
              "  <div class=\"colab-df-container\">\n",
              "    <button class=\"colab-df-convert\" onclick=\"convertToInteractive('df-2a252fcc-caeb-4b0e-abfd-fd4d59bbb8fb')\"\n",
              "            title=\"Convert this dataframe to an interactive table.\"\n",
              "            style=\"display:none;\">\n",
              "\n",
              "  <svg xmlns=\"http://www.w3.org/2000/svg\" height=\"24px\" viewBox=\"0 -960 960 960\">\n",
              "    <path d=\"M120-120v-720h720v720H120Zm60-500h600v-160H180v160Zm220 220h160v-160H400v160Zm0 220h160v-160H400v160ZM180-400h160v-160H180v160Zm440 0h160v-160H620v160ZM180-180h160v-160H180v160Zm440 0h160v-160H620v160Z\"/>\n",
              "  </svg>\n",
              "    </button>\n",
              "\n",
              "  <style>\n",
              "    .colab-df-container {\n",
              "      display:flex;\n",
              "      gap: 12px;\n",
              "    }\n",
              "\n",
              "    .colab-df-convert {\n",
              "      background-color: #E8F0FE;\n",
              "      border: none;\n",
              "      border-radius: 50%;\n",
              "      cursor: pointer;\n",
              "      display: none;\n",
              "      fill: #1967D2;\n",
              "      height: 32px;\n",
              "      padding: 0 0 0 0;\n",
              "      width: 32px;\n",
              "    }\n",
              "\n",
              "    .colab-df-convert:hover {\n",
              "      background-color: #E2EBFA;\n",
              "      box-shadow: 0px 1px 2px rgba(60, 64, 67, 0.3), 0px 1px 3px 1px rgba(60, 64, 67, 0.15);\n",
              "      fill: #174EA6;\n",
              "    }\n",
              "\n",
              "    .colab-df-buttons div {\n",
              "      margin-bottom: 4px;\n",
              "    }\n",
              "\n",
              "    [theme=dark] .colab-df-convert {\n",
              "      background-color: #3B4455;\n",
              "      fill: #D2E3FC;\n",
              "    }\n",
              "\n",
              "    [theme=dark] .colab-df-convert:hover {\n",
              "      background-color: #434B5C;\n",
              "      box-shadow: 0px 1px 3px 1px rgba(0, 0, 0, 0.15);\n",
              "      filter: drop-shadow(0px 1px 2px rgba(0, 0, 0, 0.3));\n",
              "      fill: #FFFFFF;\n",
              "    }\n",
              "  </style>\n",
              "\n",
              "    <script>\n",
              "      const buttonEl =\n",
              "        document.querySelector('#df-2a252fcc-caeb-4b0e-abfd-fd4d59bbb8fb button.colab-df-convert');\n",
              "      buttonEl.style.display =\n",
              "        google.colab.kernel.accessAllowed ? 'block' : 'none';\n",
              "\n",
              "      async function convertToInteractive(key) {\n",
              "        const element = document.querySelector('#df-2a252fcc-caeb-4b0e-abfd-fd4d59bbb8fb');\n",
              "        const dataTable =\n",
              "          await google.colab.kernel.invokeFunction('convertToInteractive',\n",
              "                                                    [key], {});\n",
              "        if (!dataTable) return;\n",
              "\n",
              "        const docLinkHtml = 'Like what you see? Visit the ' +\n",
              "          '<a target=\"_blank\" href=https://colab.research.google.com/notebooks/data_table.ipynb>data table notebook</a>'\n",
              "          + ' to learn more about interactive tables.';\n",
              "        element.innerHTML = '';\n",
              "        dataTable['output_type'] = 'display_data';\n",
              "        await google.colab.output.renderOutput(dataTable, element);\n",
              "        const docLink = document.createElement('div');\n",
              "        docLink.innerHTML = docLinkHtml;\n",
              "        element.appendChild(docLink);\n",
              "      }\n",
              "    </script>\n",
              "  </div>\n",
              "\n",
              "\n",
              "    <div id=\"df-4d9bba67-b29c-470e-bcf7-c505d256b494\">\n",
              "      <button class=\"colab-df-quickchart\" onclick=\"quickchart('df-4d9bba67-b29c-470e-bcf7-c505d256b494')\"\n",
              "                title=\"Suggest charts\"\n",
              "                style=\"display:none;\">\n",
              "\n",
              "<svg xmlns=\"http://www.w3.org/2000/svg\" height=\"24px\"viewBox=\"0 0 24 24\"\n",
              "     width=\"24px\">\n",
              "    <g>\n",
              "        <path d=\"M19 3H5c-1.1 0-2 .9-2 2v14c0 1.1.9 2 2 2h14c1.1 0 2-.9 2-2V5c0-1.1-.9-2-2-2zM9 17H7v-7h2v7zm4 0h-2V7h2v10zm4 0h-2v-4h2v4z\"/>\n",
              "    </g>\n",
              "</svg>\n",
              "      </button>\n",
              "\n",
              "<style>\n",
              "  .colab-df-quickchart {\n",
              "      --bg-color: #E8F0FE;\n",
              "      --fill-color: #1967D2;\n",
              "      --hover-bg-color: #E2EBFA;\n",
              "      --hover-fill-color: #174EA6;\n",
              "      --disabled-fill-color: #AAA;\n",
              "      --disabled-bg-color: #DDD;\n",
              "  }\n",
              "\n",
              "  [theme=dark] .colab-df-quickchart {\n",
              "      --bg-color: #3B4455;\n",
              "      --fill-color: #D2E3FC;\n",
              "      --hover-bg-color: #434B5C;\n",
              "      --hover-fill-color: #FFFFFF;\n",
              "      --disabled-bg-color: #3B4455;\n",
              "      --disabled-fill-color: #666;\n",
              "  }\n",
              "\n",
              "  .colab-df-quickchart {\n",
              "    background-color: var(--bg-color);\n",
              "    border: none;\n",
              "    border-radius: 50%;\n",
              "    cursor: pointer;\n",
              "    display: none;\n",
              "    fill: var(--fill-color);\n",
              "    height: 32px;\n",
              "    padding: 0;\n",
              "    width: 32px;\n",
              "  }\n",
              "\n",
              "  .colab-df-quickchart:hover {\n",
              "    background-color: var(--hover-bg-color);\n",
              "    box-shadow: 0 1px 2px rgba(60, 64, 67, 0.3), 0 1px 3px 1px rgba(60, 64, 67, 0.15);\n",
              "    fill: var(--button-hover-fill-color);\n",
              "  }\n",
              "\n",
              "  .colab-df-quickchart-complete:disabled,\n",
              "  .colab-df-quickchart-complete:disabled:hover {\n",
              "    background-color: var(--disabled-bg-color);\n",
              "    fill: var(--disabled-fill-color);\n",
              "    box-shadow: none;\n",
              "  }\n",
              "\n",
              "  .colab-df-spinner {\n",
              "    border: 2px solid var(--fill-color);\n",
              "    border-color: transparent;\n",
              "    border-bottom-color: var(--fill-color);\n",
              "    animation:\n",
              "      spin 1s steps(1) infinite;\n",
              "  }\n",
              "\n",
              "  @keyframes spin {\n",
              "    0% {\n",
              "      border-color: transparent;\n",
              "      border-bottom-color: var(--fill-color);\n",
              "      border-left-color: var(--fill-color);\n",
              "    }\n",
              "    20% {\n",
              "      border-color: transparent;\n",
              "      border-left-color: var(--fill-color);\n",
              "      border-top-color: var(--fill-color);\n",
              "    }\n",
              "    30% {\n",
              "      border-color: transparent;\n",
              "      border-left-color: var(--fill-color);\n",
              "      border-top-color: var(--fill-color);\n",
              "      border-right-color: var(--fill-color);\n",
              "    }\n",
              "    40% {\n",
              "      border-color: transparent;\n",
              "      border-right-color: var(--fill-color);\n",
              "      border-top-color: var(--fill-color);\n",
              "    }\n",
              "    60% {\n",
              "      border-color: transparent;\n",
              "      border-right-color: var(--fill-color);\n",
              "    }\n",
              "    80% {\n",
              "      border-color: transparent;\n",
              "      border-right-color: var(--fill-color);\n",
              "      border-bottom-color: var(--fill-color);\n",
              "    }\n",
              "    90% {\n",
              "      border-color: transparent;\n",
              "      border-bottom-color: var(--fill-color);\n",
              "    }\n",
              "  }\n",
              "</style>\n",
              "\n",
              "      <script>\n",
              "        async function quickchart(key) {\n",
              "          const quickchartButtonEl =\n",
              "            document.querySelector('#' + key + ' button');\n",
              "          quickchartButtonEl.disabled = true;  // To prevent multiple clicks.\n",
              "          quickchartButtonEl.classList.add('colab-df-spinner');\n",
              "          try {\n",
              "            const charts = await google.colab.kernel.invokeFunction(\n",
              "                'suggestCharts', [key], {});\n",
              "          } catch (error) {\n",
              "            console.error('Error during call to suggestCharts:', error);\n",
              "          }\n",
              "          quickchartButtonEl.classList.remove('colab-df-spinner');\n",
              "          quickchartButtonEl.classList.add('colab-df-quickchart-complete');\n",
              "        }\n",
              "        (() => {\n",
              "          let quickchartButtonEl =\n",
              "            document.querySelector('#df-4d9bba67-b29c-470e-bcf7-c505d256b494 button');\n",
              "          quickchartButtonEl.style.display =\n",
              "            google.colab.kernel.accessAllowed ? 'block' : 'none';\n",
              "        })();\n",
              "      </script>\n",
              "    </div>\n",
              "\n",
              "  <div id=\"id_a66c0a2d-7bd4-40d0-ad19-1499b33617d0\">\n",
              "    <style>\n",
              "      .colab-df-generate {\n",
              "        background-color: #E8F0FE;\n",
              "        border: none;\n",
              "        border-radius: 50%;\n",
              "        cursor: pointer;\n",
              "        display: none;\n",
              "        fill: #1967D2;\n",
              "        height: 32px;\n",
              "        padding: 0 0 0 0;\n",
              "        width: 32px;\n",
              "      }\n",
              "\n",
              "      .colab-df-generate:hover {\n",
              "        background-color: #E2EBFA;\n",
              "        box-shadow: 0px 1px 2px rgba(60, 64, 67, 0.3), 0px 1px 3px 1px rgba(60, 64, 67, 0.15);\n",
              "        fill: #174EA6;\n",
              "      }\n",
              "\n",
              "      [theme=dark] .colab-df-generate {\n",
              "        background-color: #3B4455;\n",
              "        fill: #D2E3FC;\n",
              "      }\n",
              "\n",
              "      [theme=dark] .colab-df-generate:hover {\n",
              "        background-color: #434B5C;\n",
              "        box-shadow: 0px 1px 3px 1px rgba(0, 0, 0, 0.15);\n",
              "        filter: drop-shadow(0px 1px 2px rgba(0, 0, 0, 0.3));\n",
              "        fill: #FFFFFF;\n",
              "      }\n",
              "    </style>\n",
              "    <button class=\"colab-df-generate\" onclick=\"generateWithVariable('X_test')\"\n",
              "            title=\"Generate code using this dataframe.\"\n",
              "            style=\"display:none;\">\n",
              "\n",
              "  <svg xmlns=\"http://www.w3.org/2000/svg\" height=\"24px\"viewBox=\"0 0 24 24\"\n",
              "       width=\"24px\">\n",
              "    <path d=\"M7,19H8.4L18.45,9,17,7.55,7,17.6ZM5,21V16.75L18.45,3.32a2,2,0,0,1,2.83,0l1.4,1.43a1.91,1.91,0,0,1,.58,1.4,1.91,1.91,0,0,1-.58,1.4L9.25,21ZM18.45,9,17,7.55Zm-12,3A5.31,5.31,0,0,0,4.9,8.1,5.31,5.31,0,0,0,1,6.5,5.31,5.31,0,0,0,4.9,4.9,5.31,5.31,0,0,0,6.5,1,5.31,5.31,0,0,0,8.1,4.9,5.31,5.31,0,0,0,12,6.5,5.46,5.46,0,0,0,6.5,12Z\"/>\n",
              "  </svg>\n",
              "    </button>\n",
              "    <script>\n",
              "      (() => {\n",
              "      const buttonEl =\n",
              "        document.querySelector('#id_a66c0a2d-7bd4-40d0-ad19-1499b33617d0 button.colab-df-generate');\n",
              "      buttonEl.style.display =\n",
              "        google.colab.kernel.accessAllowed ? 'block' : 'none';\n",
              "\n",
              "      buttonEl.onclick = () => {\n",
              "        google.colab.notebook.generateWithVariable('X_test');\n",
              "      }\n",
              "      })();\n",
              "    </script>\n",
              "  </div>\n",
              "\n",
              "    </div>\n",
              "  </div>\n"
            ],
            "application/vnd.google.colaboratory.intrinsic+json": {
              "type": "dataframe",
              "variable_name": "X_test",
              "summary": "{\n  \"name\": \"X_test\",\n  \"rows\": 1200,\n  \"fields\": [\n    {\n      \"column\": \"age\",\n      \"properties\": {\n        \"dtype\": \"number\",\n        \"std\": 11,\n        \"min\": 21,\n        \"max\": 59,\n        \"num_unique_values\": 39,\n        \"samples\": [\n          23,\n          49,\n          37\n        ],\n        \"semantic_type\": \"\",\n        \"description\": \"\"\n      }\n    },\n    {\n      \"column\": \"monthly_income\",\n      \"properties\": {\n        \"dtype\": \"number\",\n        \"std\": 4913686,\n        \"min\": 3001580,\n        \"max\": 19986217,\n        \"num_unique_values\": 1200,\n        \"samples\": [\n          11459155,\n          19192681,\n          13125245\n        ],\n        \"semantic_type\": \"\",\n        \"description\": \"\"\n      }\n    },\n    {\n      \"column\": \"loan_amount\",\n      \"properties\": {\n        \"dtype\": \"number\",\n        \"std\": 4089597,\n        \"min\": 1000794,\n        \"max\": 14993222,\n        \"num_unique_values\": 1200,\n        \"samples\": [\n          1678473,\n          9898687,\n          10952699\n        ],\n        \"semantic_type\": \"\",\n        \"description\": \"\"\n      }\n    },\n    {\n      \"column\": \"previous_defaults\",\n      \"properties\": {\n        \"dtype\": \"number\",\n        \"std\": 0,\n        \"min\": 0,\n        \"max\": 2,\n        \"num_unique_values\": 3,\n        \"samples\": [\n          0,\n          1,\n          2\n        ],\n        \"semantic_type\": \"\",\n        \"description\": \"\"\n      }\n    },\n    {\n      \"column\": \"credit_score\",\n      \"properties\": {\n        \"dtype\": \"number\",\n        \"std\": 157,\n        \"min\": 300,\n        \"max\": 849,\n        \"num_unique_values\": 484,\n        \"samples\": [\n          577,\n          508,\n          623\n        ],\n        \"semantic_type\": \"\",\n        \"description\": \"\"\n      }\n    }\n  ]\n}"
            }
          },
          "metadata": {},
          "execution_count": 14
        }
      ]
    },
    {
      "cell_type": "code",
      "source": [
        "y_train"
      ],
      "metadata": {
        "colab": {
          "base_uri": "https://localhost:8080/",
          "height": 458
        },
        "id": "KhBmrh033JEm",
        "outputId": "8daf89c6-b498-4cb5-8f54-0e1cd39cfca1"
      },
      "execution_count": 15,
      "outputs": [
        {
          "output_type": "execute_result",
          "data": {
            "text/plain": [
              "382     0\n",
              "2603    0\n",
              "65      0\n",
              "3332    0\n",
              "833     0\n",
              "       ..\n",
              "1971    0\n",
              "4962    0\n",
              "3005    0\n",
              "591     0\n",
              "3748    0\n",
              "Name: default, Length: 4800, dtype: int64"
            ],
            "text/html": [
              "<div>\n",
              "<style scoped>\n",
              "    .dataframe tbody tr th:only-of-type {\n",
              "        vertical-align: middle;\n",
              "    }\n",
              "\n",
              "    .dataframe tbody tr th {\n",
              "        vertical-align: top;\n",
              "    }\n",
              "\n",
              "    .dataframe thead th {\n",
              "        text-align: right;\n",
              "    }\n",
              "</style>\n",
              "<table border=\"1\" class=\"dataframe\">\n",
              "  <thead>\n",
              "    <tr style=\"text-align: right;\">\n",
              "      <th></th>\n",
              "      <th>default</th>\n",
              "    </tr>\n",
              "  </thead>\n",
              "  <tbody>\n",
              "    <tr>\n",
              "      <th>382</th>\n",
              "      <td>0</td>\n",
              "    </tr>\n",
              "    <tr>\n",
              "      <th>2603</th>\n",
              "      <td>0</td>\n",
              "    </tr>\n",
              "    <tr>\n",
              "      <th>65</th>\n",
              "      <td>0</td>\n",
              "    </tr>\n",
              "    <tr>\n",
              "      <th>3332</th>\n",
              "      <td>0</td>\n",
              "    </tr>\n",
              "    <tr>\n",
              "      <th>833</th>\n",
              "      <td>0</td>\n",
              "    </tr>\n",
              "    <tr>\n",
              "      <th>...</th>\n",
              "      <td>...</td>\n",
              "    </tr>\n",
              "    <tr>\n",
              "      <th>1971</th>\n",
              "      <td>0</td>\n",
              "    </tr>\n",
              "    <tr>\n",
              "      <th>4962</th>\n",
              "      <td>0</td>\n",
              "    </tr>\n",
              "    <tr>\n",
              "      <th>3005</th>\n",
              "      <td>0</td>\n",
              "    </tr>\n",
              "    <tr>\n",
              "      <th>591</th>\n",
              "      <td>0</td>\n",
              "    </tr>\n",
              "    <tr>\n",
              "      <th>3748</th>\n",
              "      <td>0</td>\n",
              "    </tr>\n",
              "  </tbody>\n",
              "</table>\n",
              "<p>4800 rows × 1 columns</p>\n",
              "</div><br><label><b>dtype:</b> int64</label>"
            ]
          },
          "metadata": {},
          "execution_count": 15
        }
      ]
    },
    {
      "cell_type": "code",
      "source": [
        "y_test"
      ],
      "metadata": {
        "colab": {
          "base_uri": "https://localhost:8080/",
          "height": 458
        },
        "id": "_Yc9IHlx3KnP",
        "outputId": "1dbe3733-87a9-43ae-b447-ec3750c1a94a"
      },
      "execution_count": 16,
      "outputs": [
        {
          "output_type": "execute_result",
          "data": {
            "text/plain": [
              "730     0\n",
              "4541    0\n",
              "4065    0\n",
              "1030    0\n",
              "2346    0\n",
              "       ..\n",
              "516     0\n",
              "3335    0\n",
              "965     0\n",
              "5468    0\n",
              "933     0\n",
              "Name: default, Length: 1200, dtype: int64"
            ],
            "text/html": [
              "<div>\n",
              "<style scoped>\n",
              "    .dataframe tbody tr th:only-of-type {\n",
              "        vertical-align: middle;\n",
              "    }\n",
              "\n",
              "    .dataframe tbody tr th {\n",
              "        vertical-align: top;\n",
              "    }\n",
              "\n",
              "    .dataframe thead th {\n",
              "        text-align: right;\n",
              "    }\n",
              "</style>\n",
              "<table border=\"1\" class=\"dataframe\">\n",
              "  <thead>\n",
              "    <tr style=\"text-align: right;\">\n",
              "      <th></th>\n",
              "      <th>default</th>\n",
              "    </tr>\n",
              "  </thead>\n",
              "  <tbody>\n",
              "    <tr>\n",
              "      <th>730</th>\n",
              "      <td>0</td>\n",
              "    </tr>\n",
              "    <tr>\n",
              "      <th>4541</th>\n",
              "      <td>0</td>\n",
              "    </tr>\n",
              "    <tr>\n",
              "      <th>4065</th>\n",
              "      <td>0</td>\n",
              "    </tr>\n",
              "    <tr>\n",
              "      <th>1030</th>\n",
              "      <td>0</td>\n",
              "    </tr>\n",
              "    <tr>\n",
              "      <th>2346</th>\n",
              "      <td>0</td>\n",
              "    </tr>\n",
              "    <tr>\n",
              "      <th>...</th>\n",
              "      <td>...</td>\n",
              "    </tr>\n",
              "    <tr>\n",
              "      <th>516</th>\n",
              "      <td>0</td>\n",
              "    </tr>\n",
              "    <tr>\n",
              "      <th>3335</th>\n",
              "      <td>0</td>\n",
              "    </tr>\n",
              "    <tr>\n",
              "      <th>965</th>\n",
              "      <td>0</td>\n",
              "    </tr>\n",
              "    <tr>\n",
              "      <th>5468</th>\n",
              "      <td>0</td>\n",
              "    </tr>\n",
              "    <tr>\n",
              "      <th>933</th>\n",
              "      <td>0</td>\n",
              "    </tr>\n",
              "  </tbody>\n",
              "</table>\n",
              "<p>1200 rows × 1 columns</p>\n",
              "</div><br><label><b>dtype:</b> int64</label>"
            ]
          },
          "metadata": {},
          "execution_count": 16
        }
      ]
    },
    {
      "cell_type": "markdown",
      "source": [
        "## **Standardization**"
      ],
      "metadata": {
        "id": "5at2uOal3QIK"
      }
    },
    {
      "cell_type": "code",
      "source": [
        "# Initialize scaler\n",
        "scaler = StandardScaler()\n",
        "\n",
        "# Fit and transform the training data\n",
        "X_train_scaled = scaler.fit_transform(X_train)\n",
        "\n",
        "# Transform the test data\n",
        "X_test_scaled = scaler.transform(X_test)"
      ],
      "metadata": {
        "id": "g3Eshxcz3XVw"
      },
      "execution_count": 17,
      "outputs": []
    },
    {
      "cell_type": "markdown",
      "source": [
        "Melakukan standarisasi terhadap variabel prediktor yang bertipe data numerik. Proses ini dilakukan agar keseluruhan variabel memiliki skala yang sama."
      ],
      "metadata": {
        "id": "bXXlzeXwxAKp"
      }
    },
    {
      "cell_type": "code",
      "source": [
        "X_train_scaled = pd.DataFrame(X_train_scaled, columns=X.columns, index=X_train.index)\n",
        "X_test_scaled = pd.DataFrame(X_test_scaled, columns=X.columns, index=X_test.index)"
      ],
      "metadata": {
        "id": "kLyKC6V33nKW"
      },
      "execution_count": 18,
      "outputs": []
    },
    {
      "cell_type": "code",
      "source": [
        "X_train_scaled"
      ],
      "metadata": {
        "colab": {
          "base_uri": "https://localhost:8080/",
          "height": 423
        },
        "id": "dGvBBgOR4MDB",
        "outputId": "9d0920b2-6636-4113-8fc5-c0c6da5a3413"
      },
      "execution_count": 19,
      "outputs": [
        {
          "output_type": "execute_result",
          "data": {
            "text/plain": [
              "           age  monthly_income  loan_amount  previous_defaults  credit_score\n",
              "382   0.765304        0.914834    -0.185046          -0.501123     -0.249220\n",
              "2603  0.853560        0.447973    -0.257370          -0.501123      0.211396\n",
              "65    0.677048       -1.698224    -1.515143          -0.501123     -1.391295\n",
              "3332 -1.617595       -1.074810     0.323278          -0.501123     -1.075804\n",
              "833   0.588793       -0.315438     0.393180          -0.501123     -1.448083\n",
              "...        ...             ...          ...                ...           ...\n",
              "1971  1.206582        0.539511     1.378997          -0.501123      0.501646\n",
              "4962  0.235771        1.636762     0.076187          -0.501123      0.993811\n",
              "3005 -0.823295       -1.381028    -1.053905           1.546018      0.350211\n",
              "591  -0.999806        0.298033    -0.890893          -0.501123      1.511215\n",
              "3748  0.588793       -0.060778     1.380474           1.546018     -0.634118\n",
              "\n",
              "[4800 rows x 5 columns]"
            ],
            "text/html": [
              "\n",
              "  <div id=\"df-bc42ba40-a1cf-41b6-a91e-ba0626bd86b0\" class=\"colab-df-container\">\n",
              "    <div>\n",
              "<style scoped>\n",
              "    .dataframe tbody tr th:only-of-type {\n",
              "        vertical-align: middle;\n",
              "    }\n",
              "\n",
              "    .dataframe tbody tr th {\n",
              "        vertical-align: top;\n",
              "    }\n",
              "\n",
              "    .dataframe thead th {\n",
              "        text-align: right;\n",
              "    }\n",
              "</style>\n",
              "<table border=\"1\" class=\"dataframe\">\n",
              "  <thead>\n",
              "    <tr style=\"text-align: right;\">\n",
              "      <th></th>\n",
              "      <th>age</th>\n",
              "      <th>monthly_income</th>\n",
              "      <th>loan_amount</th>\n",
              "      <th>previous_defaults</th>\n",
              "      <th>credit_score</th>\n",
              "    </tr>\n",
              "  </thead>\n",
              "  <tbody>\n",
              "    <tr>\n",
              "      <th>382</th>\n",
              "      <td>0.765304</td>\n",
              "      <td>0.914834</td>\n",
              "      <td>-0.185046</td>\n",
              "      <td>-0.501123</td>\n",
              "      <td>-0.249220</td>\n",
              "    </tr>\n",
              "    <tr>\n",
              "      <th>2603</th>\n",
              "      <td>0.853560</td>\n",
              "      <td>0.447973</td>\n",
              "      <td>-0.257370</td>\n",
              "      <td>-0.501123</td>\n",
              "      <td>0.211396</td>\n",
              "    </tr>\n",
              "    <tr>\n",
              "      <th>65</th>\n",
              "      <td>0.677048</td>\n",
              "      <td>-1.698224</td>\n",
              "      <td>-1.515143</td>\n",
              "      <td>-0.501123</td>\n",
              "      <td>-1.391295</td>\n",
              "    </tr>\n",
              "    <tr>\n",
              "      <th>3332</th>\n",
              "      <td>-1.617595</td>\n",
              "      <td>-1.074810</td>\n",
              "      <td>0.323278</td>\n",
              "      <td>-0.501123</td>\n",
              "      <td>-1.075804</td>\n",
              "    </tr>\n",
              "    <tr>\n",
              "      <th>833</th>\n",
              "      <td>0.588793</td>\n",
              "      <td>-0.315438</td>\n",
              "      <td>0.393180</td>\n",
              "      <td>-0.501123</td>\n",
              "      <td>-1.448083</td>\n",
              "    </tr>\n",
              "    <tr>\n",
              "      <th>...</th>\n",
              "      <td>...</td>\n",
              "      <td>...</td>\n",
              "      <td>...</td>\n",
              "      <td>...</td>\n",
              "      <td>...</td>\n",
              "    </tr>\n",
              "    <tr>\n",
              "      <th>1971</th>\n",
              "      <td>1.206582</td>\n",
              "      <td>0.539511</td>\n",
              "      <td>1.378997</td>\n",
              "      <td>-0.501123</td>\n",
              "      <td>0.501646</td>\n",
              "    </tr>\n",
              "    <tr>\n",
              "      <th>4962</th>\n",
              "      <td>0.235771</td>\n",
              "      <td>1.636762</td>\n",
              "      <td>0.076187</td>\n",
              "      <td>-0.501123</td>\n",
              "      <td>0.993811</td>\n",
              "    </tr>\n",
              "    <tr>\n",
              "      <th>3005</th>\n",
              "      <td>-0.823295</td>\n",
              "      <td>-1.381028</td>\n",
              "      <td>-1.053905</td>\n",
              "      <td>1.546018</td>\n",
              "      <td>0.350211</td>\n",
              "    </tr>\n",
              "    <tr>\n",
              "      <th>591</th>\n",
              "      <td>-0.999806</td>\n",
              "      <td>0.298033</td>\n",
              "      <td>-0.890893</td>\n",
              "      <td>-0.501123</td>\n",
              "      <td>1.511215</td>\n",
              "    </tr>\n",
              "    <tr>\n",
              "      <th>3748</th>\n",
              "      <td>0.588793</td>\n",
              "      <td>-0.060778</td>\n",
              "      <td>1.380474</td>\n",
              "      <td>1.546018</td>\n",
              "      <td>-0.634118</td>\n",
              "    </tr>\n",
              "  </tbody>\n",
              "</table>\n",
              "<p>4800 rows × 5 columns</p>\n",
              "</div>\n",
              "    <div class=\"colab-df-buttons\">\n",
              "\n",
              "  <div class=\"colab-df-container\">\n",
              "    <button class=\"colab-df-convert\" onclick=\"convertToInteractive('df-bc42ba40-a1cf-41b6-a91e-ba0626bd86b0')\"\n",
              "            title=\"Convert this dataframe to an interactive table.\"\n",
              "            style=\"display:none;\">\n",
              "\n",
              "  <svg xmlns=\"http://www.w3.org/2000/svg\" height=\"24px\" viewBox=\"0 -960 960 960\">\n",
              "    <path d=\"M120-120v-720h720v720H120Zm60-500h600v-160H180v160Zm220 220h160v-160H400v160Zm0 220h160v-160H400v160ZM180-400h160v-160H180v160Zm440 0h160v-160H620v160ZM180-180h160v-160H180v160Zm440 0h160v-160H620v160Z\"/>\n",
              "  </svg>\n",
              "    </button>\n",
              "\n",
              "  <style>\n",
              "    .colab-df-container {\n",
              "      display:flex;\n",
              "      gap: 12px;\n",
              "    }\n",
              "\n",
              "    .colab-df-convert {\n",
              "      background-color: #E8F0FE;\n",
              "      border: none;\n",
              "      border-radius: 50%;\n",
              "      cursor: pointer;\n",
              "      display: none;\n",
              "      fill: #1967D2;\n",
              "      height: 32px;\n",
              "      padding: 0 0 0 0;\n",
              "      width: 32px;\n",
              "    }\n",
              "\n",
              "    .colab-df-convert:hover {\n",
              "      background-color: #E2EBFA;\n",
              "      box-shadow: 0px 1px 2px rgba(60, 64, 67, 0.3), 0px 1px 3px 1px rgba(60, 64, 67, 0.15);\n",
              "      fill: #174EA6;\n",
              "    }\n",
              "\n",
              "    .colab-df-buttons div {\n",
              "      margin-bottom: 4px;\n",
              "    }\n",
              "\n",
              "    [theme=dark] .colab-df-convert {\n",
              "      background-color: #3B4455;\n",
              "      fill: #D2E3FC;\n",
              "    }\n",
              "\n",
              "    [theme=dark] .colab-df-convert:hover {\n",
              "      background-color: #434B5C;\n",
              "      box-shadow: 0px 1px 3px 1px rgba(0, 0, 0, 0.15);\n",
              "      filter: drop-shadow(0px 1px 2px rgba(0, 0, 0, 0.3));\n",
              "      fill: #FFFFFF;\n",
              "    }\n",
              "  </style>\n",
              "\n",
              "    <script>\n",
              "      const buttonEl =\n",
              "        document.querySelector('#df-bc42ba40-a1cf-41b6-a91e-ba0626bd86b0 button.colab-df-convert');\n",
              "      buttonEl.style.display =\n",
              "        google.colab.kernel.accessAllowed ? 'block' : 'none';\n",
              "\n",
              "      async function convertToInteractive(key) {\n",
              "        const element = document.querySelector('#df-bc42ba40-a1cf-41b6-a91e-ba0626bd86b0');\n",
              "        const dataTable =\n",
              "          await google.colab.kernel.invokeFunction('convertToInteractive',\n",
              "                                                    [key], {});\n",
              "        if (!dataTable) return;\n",
              "\n",
              "        const docLinkHtml = 'Like what you see? Visit the ' +\n",
              "          '<a target=\"_blank\" href=https://colab.research.google.com/notebooks/data_table.ipynb>data table notebook</a>'\n",
              "          + ' to learn more about interactive tables.';\n",
              "        element.innerHTML = '';\n",
              "        dataTable['output_type'] = 'display_data';\n",
              "        await google.colab.output.renderOutput(dataTable, element);\n",
              "        const docLink = document.createElement('div');\n",
              "        docLink.innerHTML = docLinkHtml;\n",
              "        element.appendChild(docLink);\n",
              "      }\n",
              "    </script>\n",
              "  </div>\n",
              "\n",
              "\n",
              "    <div id=\"df-b5ab9863-facb-4b1f-a3e3-779b1a395af6\">\n",
              "      <button class=\"colab-df-quickchart\" onclick=\"quickchart('df-b5ab9863-facb-4b1f-a3e3-779b1a395af6')\"\n",
              "                title=\"Suggest charts\"\n",
              "                style=\"display:none;\">\n",
              "\n",
              "<svg xmlns=\"http://www.w3.org/2000/svg\" height=\"24px\"viewBox=\"0 0 24 24\"\n",
              "     width=\"24px\">\n",
              "    <g>\n",
              "        <path d=\"M19 3H5c-1.1 0-2 .9-2 2v14c0 1.1.9 2 2 2h14c1.1 0 2-.9 2-2V5c0-1.1-.9-2-2-2zM9 17H7v-7h2v7zm4 0h-2V7h2v10zm4 0h-2v-4h2v4z\"/>\n",
              "    </g>\n",
              "</svg>\n",
              "      </button>\n",
              "\n",
              "<style>\n",
              "  .colab-df-quickchart {\n",
              "      --bg-color: #E8F0FE;\n",
              "      --fill-color: #1967D2;\n",
              "      --hover-bg-color: #E2EBFA;\n",
              "      --hover-fill-color: #174EA6;\n",
              "      --disabled-fill-color: #AAA;\n",
              "      --disabled-bg-color: #DDD;\n",
              "  }\n",
              "\n",
              "  [theme=dark] .colab-df-quickchart {\n",
              "      --bg-color: #3B4455;\n",
              "      --fill-color: #D2E3FC;\n",
              "      --hover-bg-color: #434B5C;\n",
              "      --hover-fill-color: #FFFFFF;\n",
              "      --disabled-bg-color: #3B4455;\n",
              "      --disabled-fill-color: #666;\n",
              "  }\n",
              "\n",
              "  .colab-df-quickchart {\n",
              "    background-color: var(--bg-color);\n",
              "    border: none;\n",
              "    border-radius: 50%;\n",
              "    cursor: pointer;\n",
              "    display: none;\n",
              "    fill: var(--fill-color);\n",
              "    height: 32px;\n",
              "    padding: 0;\n",
              "    width: 32px;\n",
              "  }\n",
              "\n",
              "  .colab-df-quickchart:hover {\n",
              "    background-color: var(--hover-bg-color);\n",
              "    box-shadow: 0 1px 2px rgba(60, 64, 67, 0.3), 0 1px 3px 1px rgba(60, 64, 67, 0.15);\n",
              "    fill: var(--button-hover-fill-color);\n",
              "  }\n",
              "\n",
              "  .colab-df-quickchart-complete:disabled,\n",
              "  .colab-df-quickchart-complete:disabled:hover {\n",
              "    background-color: var(--disabled-bg-color);\n",
              "    fill: var(--disabled-fill-color);\n",
              "    box-shadow: none;\n",
              "  }\n",
              "\n",
              "  .colab-df-spinner {\n",
              "    border: 2px solid var(--fill-color);\n",
              "    border-color: transparent;\n",
              "    border-bottom-color: var(--fill-color);\n",
              "    animation:\n",
              "      spin 1s steps(1) infinite;\n",
              "  }\n",
              "\n",
              "  @keyframes spin {\n",
              "    0% {\n",
              "      border-color: transparent;\n",
              "      border-bottom-color: var(--fill-color);\n",
              "      border-left-color: var(--fill-color);\n",
              "    }\n",
              "    20% {\n",
              "      border-color: transparent;\n",
              "      border-left-color: var(--fill-color);\n",
              "      border-top-color: var(--fill-color);\n",
              "    }\n",
              "    30% {\n",
              "      border-color: transparent;\n",
              "      border-left-color: var(--fill-color);\n",
              "      border-top-color: var(--fill-color);\n",
              "      border-right-color: var(--fill-color);\n",
              "    }\n",
              "    40% {\n",
              "      border-color: transparent;\n",
              "      border-right-color: var(--fill-color);\n",
              "      border-top-color: var(--fill-color);\n",
              "    }\n",
              "    60% {\n",
              "      border-color: transparent;\n",
              "      border-right-color: var(--fill-color);\n",
              "    }\n",
              "    80% {\n",
              "      border-color: transparent;\n",
              "      border-right-color: var(--fill-color);\n",
              "      border-bottom-color: var(--fill-color);\n",
              "    }\n",
              "    90% {\n",
              "      border-color: transparent;\n",
              "      border-bottom-color: var(--fill-color);\n",
              "    }\n",
              "  }\n",
              "</style>\n",
              "\n",
              "      <script>\n",
              "        async function quickchart(key) {\n",
              "          const quickchartButtonEl =\n",
              "            document.querySelector('#' + key + ' button');\n",
              "          quickchartButtonEl.disabled = true;  // To prevent multiple clicks.\n",
              "          quickchartButtonEl.classList.add('colab-df-spinner');\n",
              "          try {\n",
              "            const charts = await google.colab.kernel.invokeFunction(\n",
              "                'suggestCharts', [key], {});\n",
              "          } catch (error) {\n",
              "            console.error('Error during call to suggestCharts:', error);\n",
              "          }\n",
              "          quickchartButtonEl.classList.remove('colab-df-spinner');\n",
              "          quickchartButtonEl.classList.add('colab-df-quickchart-complete');\n",
              "        }\n",
              "        (() => {\n",
              "          let quickchartButtonEl =\n",
              "            document.querySelector('#df-b5ab9863-facb-4b1f-a3e3-779b1a395af6 button');\n",
              "          quickchartButtonEl.style.display =\n",
              "            google.colab.kernel.accessAllowed ? 'block' : 'none';\n",
              "        })();\n",
              "      </script>\n",
              "    </div>\n",
              "\n",
              "  <div id=\"id_b60fd809-6e38-40a1-936e-f8680bd103c7\">\n",
              "    <style>\n",
              "      .colab-df-generate {\n",
              "        background-color: #E8F0FE;\n",
              "        border: none;\n",
              "        border-radius: 50%;\n",
              "        cursor: pointer;\n",
              "        display: none;\n",
              "        fill: #1967D2;\n",
              "        height: 32px;\n",
              "        padding: 0 0 0 0;\n",
              "        width: 32px;\n",
              "      }\n",
              "\n",
              "      .colab-df-generate:hover {\n",
              "        background-color: #E2EBFA;\n",
              "        box-shadow: 0px 1px 2px rgba(60, 64, 67, 0.3), 0px 1px 3px 1px rgba(60, 64, 67, 0.15);\n",
              "        fill: #174EA6;\n",
              "      }\n",
              "\n",
              "      [theme=dark] .colab-df-generate {\n",
              "        background-color: #3B4455;\n",
              "        fill: #D2E3FC;\n",
              "      }\n",
              "\n",
              "      [theme=dark] .colab-df-generate:hover {\n",
              "        background-color: #434B5C;\n",
              "        box-shadow: 0px 1px 3px 1px rgba(0, 0, 0, 0.15);\n",
              "        filter: drop-shadow(0px 1px 2px rgba(0, 0, 0, 0.3));\n",
              "        fill: #FFFFFF;\n",
              "      }\n",
              "    </style>\n",
              "    <button class=\"colab-df-generate\" onclick=\"generateWithVariable('X_train_scaled')\"\n",
              "            title=\"Generate code using this dataframe.\"\n",
              "            style=\"display:none;\">\n",
              "\n",
              "  <svg xmlns=\"http://www.w3.org/2000/svg\" height=\"24px\"viewBox=\"0 0 24 24\"\n",
              "       width=\"24px\">\n",
              "    <path d=\"M7,19H8.4L18.45,9,17,7.55,7,17.6ZM5,21V16.75L18.45,3.32a2,2,0,0,1,2.83,0l1.4,1.43a1.91,1.91,0,0,1,.58,1.4,1.91,1.91,0,0,1-.58,1.4L9.25,21ZM18.45,9,17,7.55Zm-12,3A5.31,5.31,0,0,0,4.9,8.1,5.31,5.31,0,0,0,1,6.5,5.31,5.31,0,0,0,4.9,4.9,5.31,5.31,0,0,0,6.5,1,5.31,5.31,0,0,0,8.1,4.9,5.31,5.31,0,0,0,12,6.5,5.46,5.46,0,0,0,6.5,12Z\"/>\n",
              "  </svg>\n",
              "    </button>\n",
              "    <script>\n",
              "      (() => {\n",
              "      const buttonEl =\n",
              "        document.querySelector('#id_b60fd809-6e38-40a1-936e-f8680bd103c7 button.colab-df-generate');\n",
              "      buttonEl.style.display =\n",
              "        google.colab.kernel.accessAllowed ? 'block' : 'none';\n",
              "\n",
              "      buttonEl.onclick = () => {\n",
              "        google.colab.notebook.generateWithVariable('X_train_scaled');\n",
              "      }\n",
              "      })();\n",
              "    </script>\n",
              "  </div>\n",
              "\n",
              "    </div>\n",
              "  </div>\n"
            ],
            "application/vnd.google.colaboratory.intrinsic+json": {
              "type": "dataframe",
              "variable_name": "X_train_scaled",
              "summary": "{\n  \"name\": \"X_train_scaled\",\n  \"rows\": 4800,\n  \"fields\": [\n    {\n      \"column\": \"age\",\n      \"properties\": {\n        \"dtype\": \"number\",\n        \"std\": 1.000104182945538,\n        \"min\": -1.7058503419162467,\n        \"max\": 1.6478591158752685,\n        \"num_unique_values\": 39,\n        \"samples\": [\n          -1.264572781680521,\n          1.1183260435923976,\n          0.5887929713095269\n        ],\n        \"semantic_type\": \"\",\n        \"description\": \"\"\n      }\n    },\n    {\n      \"column\": \"monthly_income\",\n      \"properties\": {\n        \"dtype\": \"number\",\n        \"std\": 1.0001041829455353,\n        \"min\": -1.7174159086624854,\n        \"max\": 1.739807417316152,\n        \"num_unique_values\": 4800,\n        \"samples\": [\n          -1.1169924015787804,\n          0.20244813043007548,\n          1.41470317535196\n        ],\n        \"semantic_type\": \"\",\n        \"description\": \"\"\n      }\n    },\n    {\n      \"column\": \"loan_amount\",\n      \"properties\": {\n        \"dtype\": \"number\",\n        \"std\": 1.0001041829455346,\n        \"min\": -1.7231488089517786,\n        \"max\": 1.718262635771206,\n        \"num_unique_values\": 4800,\n        \"samples\": [\n          -0.08841584929788956,\n          1.251140967038552,\n          -0.8273973219510856\n        ],\n        \"semantic_type\": \"\",\n        \"description\": \"\"\n      }\n    },\n    {\n      \"column\": \"previous_defaults\",\n      \"properties\": {\n        \"dtype\": \"number\",\n        \"std\": 1.000104182945557,\n        \"min\": -0.5011230572167796,\n        \"max\": 5.6402999418654565,\n        \"num_unique_values\": 4,\n        \"samples\": [\n          1.546017942477299,\n          5.6402999418654565,\n          -0.5011230572167796\n        ],\n        \"semantic_type\": \"\",\n        \"description\": \"\"\n      }\n    },\n    {\n      \"column\": \"credit_score\",\n      \"properties\": {\n        \"dtype\": \"number\",\n        \"std\": 1.0001041829455373,\n        \"min\": -1.7446436431858556,\n        \"max\": 1.719438606356497,\n        \"num_unique_values\": 550,\n        \"samples\": [\n          0.8549954949042159,\n          1.6752699802238986,\n          1.2966817562301989\n        ],\n        \"semantic_type\": \"\",\n        \"description\": \"\"\n      }\n    }\n  ]\n}"
            }
          },
          "metadata": {},
          "execution_count": 19
        }
      ]
    },
    {
      "cell_type": "code",
      "source": [
        "X_test_scaled"
      ],
      "metadata": {
        "colab": {
          "base_uri": "https://localhost:8080/",
          "height": 423
        },
        "id": "AFAZqNmE4OlK",
        "outputId": "7bb95e8e-8975-4117-d125-d1203eaf5f1f"
      },
      "execution_count": 20,
      "outputs": [
        {
          "output_type": "execute_result",
          "data": {
            "text/plain": [
              "           age  monthly_income  loan_amount  previous_defaults  credit_score\n",
              "730  -1.441084       -1.226669    -1.476015          -0.501123     -0.343867\n",
              "4541  1.206582       -0.541039     1.502336          -0.501123      0.482717\n",
              "4065 -1.088062        0.703264    -1.285875          -0.501123      1.435497\n",
              "1030  0.853560       -0.870975    -1.432651          -0.501123     -0.955918\n",
              "2346 -0.293762       -1.145248    -0.007159          -0.501123      1.012741\n",
              "...        ...             ...          ...                ...           ...\n",
              "516   0.941815        0.518816     0.052406           1.546018      1.359780\n",
              "3335 -0.117251        1.541885     0.119811          -0.501123      0.362831\n",
              "965   1.471348       -1.660058    -1.228853           1.546018      0.255564\n",
              "5468 -0.558529        0.294223    -0.063806          -0.501123     -1.410224\n",
              "933  -1.705850       -1.670079     0.876798          -0.501123     -1.031636\n",
              "\n",
              "[1200 rows x 5 columns]"
            ],
            "text/html": [
              "\n",
              "  <div id=\"df-2fb51dce-4f72-4d44-9f64-8036d833e8df\" class=\"colab-df-container\">\n",
              "    <div>\n",
              "<style scoped>\n",
              "    .dataframe tbody tr th:only-of-type {\n",
              "        vertical-align: middle;\n",
              "    }\n",
              "\n",
              "    .dataframe tbody tr th {\n",
              "        vertical-align: top;\n",
              "    }\n",
              "\n",
              "    .dataframe thead th {\n",
              "        text-align: right;\n",
              "    }\n",
              "</style>\n",
              "<table border=\"1\" class=\"dataframe\">\n",
              "  <thead>\n",
              "    <tr style=\"text-align: right;\">\n",
              "      <th></th>\n",
              "      <th>age</th>\n",
              "      <th>monthly_income</th>\n",
              "      <th>loan_amount</th>\n",
              "      <th>previous_defaults</th>\n",
              "      <th>credit_score</th>\n",
              "    </tr>\n",
              "  </thead>\n",
              "  <tbody>\n",
              "    <tr>\n",
              "      <th>730</th>\n",
              "      <td>-1.441084</td>\n",
              "      <td>-1.226669</td>\n",
              "      <td>-1.476015</td>\n",
              "      <td>-0.501123</td>\n",
              "      <td>-0.343867</td>\n",
              "    </tr>\n",
              "    <tr>\n",
              "      <th>4541</th>\n",
              "      <td>1.206582</td>\n",
              "      <td>-0.541039</td>\n",
              "      <td>1.502336</td>\n",
              "      <td>-0.501123</td>\n",
              "      <td>0.482717</td>\n",
              "    </tr>\n",
              "    <tr>\n",
              "      <th>4065</th>\n",
              "      <td>-1.088062</td>\n",
              "      <td>0.703264</td>\n",
              "      <td>-1.285875</td>\n",
              "      <td>-0.501123</td>\n",
              "      <td>1.435497</td>\n",
              "    </tr>\n",
              "    <tr>\n",
              "      <th>1030</th>\n",
              "      <td>0.853560</td>\n",
              "      <td>-0.870975</td>\n",
              "      <td>-1.432651</td>\n",
              "      <td>-0.501123</td>\n",
              "      <td>-0.955918</td>\n",
              "    </tr>\n",
              "    <tr>\n",
              "      <th>2346</th>\n",
              "      <td>-0.293762</td>\n",
              "      <td>-1.145248</td>\n",
              "      <td>-0.007159</td>\n",
              "      <td>-0.501123</td>\n",
              "      <td>1.012741</td>\n",
              "    </tr>\n",
              "    <tr>\n",
              "      <th>...</th>\n",
              "      <td>...</td>\n",
              "      <td>...</td>\n",
              "      <td>...</td>\n",
              "      <td>...</td>\n",
              "      <td>...</td>\n",
              "    </tr>\n",
              "    <tr>\n",
              "      <th>516</th>\n",
              "      <td>0.941815</td>\n",
              "      <td>0.518816</td>\n",
              "      <td>0.052406</td>\n",
              "      <td>1.546018</td>\n",
              "      <td>1.359780</td>\n",
              "    </tr>\n",
              "    <tr>\n",
              "      <th>3335</th>\n",
              "      <td>-0.117251</td>\n",
              "      <td>1.541885</td>\n",
              "      <td>0.119811</td>\n",
              "      <td>-0.501123</td>\n",
              "      <td>0.362831</td>\n",
              "    </tr>\n",
              "    <tr>\n",
              "      <th>965</th>\n",
              "      <td>1.471348</td>\n",
              "      <td>-1.660058</td>\n",
              "      <td>-1.228853</td>\n",
              "      <td>1.546018</td>\n",
              "      <td>0.255564</td>\n",
              "    </tr>\n",
              "    <tr>\n",
              "      <th>5468</th>\n",
              "      <td>-0.558529</td>\n",
              "      <td>0.294223</td>\n",
              "      <td>-0.063806</td>\n",
              "      <td>-0.501123</td>\n",
              "      <td>-1.410224</td>\n",
              "    </tr>\n",
              "    <tr>\n",
              "      <th>933</th>\n",
              "      <td>-1.705850</td>\n",
              "      <td>-1.670079</td>\n",
              "      <td>0.876798</td>\n",
              "      <td>-0.501123</td>\n",
              "      <td>-1.031636</td>\n",
              "    </tr>\n",
              "  </tbody>\n",
              "</table>\n",
              "<p>1200 rows × 5 columns</p>\n",
              "</div>\n",
              "    <div class=\"colab-df-buttons\">\n",
              "\n",
              "  <div class=\"colab-df-container\">\n",
              "    <button class=\"colab-df-convert\" onclick=\"convertToInteractive('df-2fb51dce-4f72-4d44-9f64-8036d833e8df')\"\n",
              "            title=\"Convert this dataframe to an interactive table.\"\n",
              "            style=\"display:none;\">\n",
              "\n",
              "  <svg xmlns=\"http://www.w3.org/2000/svg\" height=\"24px\" viewBox=\"0 -960 960 960\">\n",
              "    <path d=\"M120-120v-720h720v720H120Zm60-500h600v-160H180v160Zm220 220h160v-160H400v160Zm0 220h160v-160H400v160ZM180-400h160v-160H180v160Zm440 0h160v-160H620v160ZM180-180h160v-160H180v160Zm440 0h160v-160H620v160Z\"/>\n",
              "  </svg>\n",
              "    </button>\n",
              "\n",
              "  <style>\n",
              "    .colab-df-container {\n",
              "      display:flex;\n",
              "      gap: 12px;\n",
              "    }\n",
              "\n",
              "    .colab-df-convert {\n",
              "      background-color: #E8F0FE;\n",
              "      border: none;\n",
              "      border-radius: 50%;\n",
              "      cursor: pointer;\n",
              "      display: none;\n",
              "      fill: #1967D2;\n",
              "      height: 32px;\n",
              "      padding: 0 0 0 0;\n",
              "      width: 32px;\n",
              "    }\n",
              "\n",
              "    .colab-df-convert:hover {\n",
              "      background-color: #E2EBFA;\n",
              "      box-shadow: 0px 1px 2px rgba(60, 64, 67, 0.3), 0px 1px 3px 1px rgba(60, 64, 67, 0.15);\n",
              "      fill: #174EA6;\n",
              "    }\n",
              "\n",
              "    .colab-df-buttons div {\n",
              "      margin-bottom: 4px;\n",
              "    }\n",
              "\n",
              "    [theme=dark] .colab-df-convert {\n",
              "      background-color: #3B4455;\n",
              "      fill: #D2E3FC;\n",
              "    }\n",
              "\n",
              "    [theme=dark] .colab-df-convert:hover {\n",
              "      background-color: #434B5C;\n",
              "      box-shadow: 0px 1px 3px 1px rgba(0, 0, 0, 0.15);\n",
              "      filter: drop-shadow(0px 1px 2px rgba(0, 0, 0, 0.3));\n",
              "      fill: #FFFFFF;\n",
              "    }\n",
              "  </style>\n",
              "\n",
              "    <script>\n",
              "      const buttonEl =\n",
              "        document.querySelector('#df-2fb51dce-4f72-4d44-9f64-8036d833e8df button.colab-df-convert');\n",
              "      buttonEl.style.display =\n",
              "        google.colab.kernel.accessAllowed ? 'block' : 'none';\n",
              "\n",
              "      async function convertToInteractive(key) {\n",
              "        const element = document.querySelector('#df-2fb51dce-4f72-4d44-9f64-8036d833e8df');\n",
              "        const dataTable =\n",
              "          await google.colab.kernel.invokeFunction('convertToInteractive',\n",
              "                                                    [key], {});\n",
              "        if (!dataTable) return;\n",
              "\n",
              "        const docLinkHtml = 'Like what you see? Visit the ' +\n",
              "          '<a target=\"_blank\" href=https://colab.research.google.com/notebooks/data_table.ipynb>data table notebook</a>'\n",
              "          + ' to learn more about interactive tables.';\n",
              "        element.innerHTML = '';\n",
              "        dataTable['output_type'] = 'display_data';\n",
              "        await google.colab.output.renderOutput(dataTable, element);\n",
              "        const docLink = document.createElement('div');\n",
              "        docLink.innerHTML = docLinkHtml;\n",
              "        element.appendChild(docLink);\n",
              "      }\n",
              "    </script>\n",
              "  </div>\n",
              "\n",
              "\n",
              "    <div id=\"df-018a40d2-1eb8-46a7-9a63-14835c8c9580\">\n",
              "      <button class=\"colab-df-quickchart\" onclick=\"quickchart('df-018a40d2-1eb8-46a7-9a63-14835c8c9580')\"\n",
              "                title=\"Suggest charts\"\n",
              "                style=\"display:none;\">\n",
              "\n",
              "<svg xmlns=\"http://www.w3.org/2000/svg\" height=\"24px\"viewBox=\"0 0 24 24\"\n",
              "     width=\"24px\">\n",
              "    <g>\n",
              "        <path d=\"M19 3H5c-1.1 0-2 .9-2 2v14c0 1.1.9 2 2 2h14c1.1 0 2-.9 2-2V5c0-1.1-.9-2-2-2zM9 17H7v-7h2v7zm4 0h-2V7h2v10zm4 0h-2v-4h2v4z\"/>\n",
              "    </g>\n",
              "</svg>\n",
              "      </button>\n",
              "\n",
              "<style>\n",
              "  .colab-df-quickchart {\n",
              "      --bg-color: #E8F0FE;\n",
              "      --fill-color: #1967D2;\n",
              "      --hover-bg-color: #E2EBFA;\n",
              "      --hover-fill-color: #174EA6;\n",
              "      --disabled-fill-color: #AAA;\n",
              "      --disabled-bg-color: #DDD;\n",
              "  }\n",
              "\n",
              "  [theme=dark] .colab-df-quickchart {\n",
              "      --bg-color: #3B4455;\n",
              "      --fill-color: #D2E3FC;\n",
              "      --hover-bg-color: #434B5C;\n",
              "      --hover-fill-color: #FFFFFF;\n",
              "      --disabled-bg-color: #3B4455;\n",
              "      --disabled-fill-color: #666;\n",
              "  }\n",
              "\n",
              "  .colab-df-quickchart {\n",
              "    background-color: var(--bg-color);\n",
              "    border: none;\n",
              "    border-radius: 50%;\n",
              "    cursor: pointer;\n",
              "    display: none;\n",
              "    fill: var(--fill-color);\n",
              "    height: 32px;\n",
              "    padding: 0;\n",
              "    width: 32px;\n",
              "  }\n",
              "\n",
              "  .colab-df-quickchart:hover {\n",
              "    background-color: var(--hover-bg-color);\n",
              "    box-shadow: 0 1px 2px rgba(60, 64, 67, 0.3), 0 1px 3px 1px rgba(60, 64, 67, 0.15);\n",
              "    fill: var(--button-hover-fill-color);\n",
              "  }\n",
              "\n",
              "  .colab-df-quickchart-complete:disabled,\n",
              "  .colab-df-quickchart-complete:disabled:hover {\n",
              "    background-color: var(--disabled-bg-color);\n",
              "    fill: var(--disabled-fill-color);\n",
              "    box-shadow: none;\n",
              "  }\n",
              "\n",
              "  .colab-df-spinner {\n",
              "    border: 2px solid var(--fill-color);\n",
              "    border-color: transparent;\n",
              "    border-bottom-color: var(--fill-color);\n",
              "    animation:\n",
              "      spin 1s steps(1) infinite;\n",
              "  }\n",
              "\n",
              "  @keyframes spin {\n",
              "    0% {\n",
              "      border-color: transparent;\n",
              "      border-bottom-color: var(--fill-color);\n",
              "      border-left-color: var(--fill-color);\n",
              "    }\n",
              "    20% {\n",
              "      border-color: transparent;\n",
              "      border-left-color: var(--fill-color);\n",
              "      border-top-color: var(--fill-color);\n",
              "    }\n",
              "    30% {\n",
              "      border-color: transparent;\n",
              "      border-left-color: var(--fill-color);\n",
              "      border-top-color: var(--fill-color);\n",
              "      border-right-color: var(--fill-color);\n",
              "    }\n",
              "    40% {\n",
              "      border-color: transparent;\n",
              "      border-right-color: var(--fill-color);\n",
              "      border-top-color: var(--fill-color);\n",
              "    }\n",
              "    60% {\n",
              "      border-color: transparent;\n",
              "      border-right-color: var(--fill-color);\n",
              "    }\n",
              "    80% {\n",
              "      border-color: transparent;\n",
              "      border-right-color: var(--fill-color);\n",
              "      border-bottom-color: var(--fill-color);\n",
              "    }\n",
              "    90% {\n",
              "      border-color: transparent;\n",
              "      border-bottom-color: var(--fill-color);\n",
              "    }\n",
              "  }\n",
              "</style>\n",
              "\n",
              "      <script>\n",
              "        async function quickchart(key) {\n",
              "          const quickchartButtonEl =\n",
              "            document.querySelector('#' + key + ' button');\n",
              "          quickchartButtonEl.disabled = true;  // To prevent multiple clicks.\n",
              "          quickchartButtonEl.classList.add('colab-df-spinner');\n",
              "          try {\n",
              "            const charts = await google.colab.kernel.invokeFunction(\n",
              "                'suggestCharts', [key], {});\n",
              "          } catch (error) {\n",
              "            console.error('Error during call to suggestCharts:', error);\n",
              "          }\n",
              "          quickchartButtonEl.classList.remove('colab-df-spinner');\n",
              "          quickchartButtonEl.classList.add('colab-df-quickchart-complete');\n",
              "        }\n",
              "        (() => {\n",
              "          let quickchartButtonEl =\n",
              "            document.querySelector('#df-018a40d2-1eb8-46a7-9a63-14835c8c9580 button');\n",
              "          quickchartButtonEl.style.display =\n",
              "            google.colab.kernel.accessAllowed ? 'block' : 'none';\n",
              "        })();\n",
              "      </script>\n",
              "    </div>\n",
              "\n",
              "  <div id=\"id_eef477ab-ccde-4a07-9286-7f29a0faf41a\">\n",
              "    <style>\n",
              "      .colab-df-generate {\n",
              "        background-color: #E8F0FE;\n",
              "        border: none;\n",
              "        border-radius: 50%;\n",
              "        cursor: pointer;\n",
              "        display: none;\n",
              "        fill: #1967D2;\n",
              "        height: 32px;\n",
              "        padding: 0 0 0 0;\n",
              "        width: 32px;\n",
              "      }\n",
              "\n",
              "      .colab-df-generate:hover {\n",
              "        background-color: #E2EBFA;\n",
              "        box-shadow: 0px 1px 2px rgba(60, 64, 67, 0.3), 0px 1px 3px 1px rgba(60, 64, 67, 0.15);\n",
              "        fill: #174EA6;\n",
              "      }\n",
              "\n",
              "      [theme=dark] .colab-df-generate {\n",
              "        background-color: #3B4455;\n",
              "        fill: #D2E3FC;\n",
              "      }\n",
              "\n",
              "      [theme=dark] .colab-df-generate:hover {\n",
              "        background-color: #434B5C;\n",
              "        box-shadow: 0px 1px 3px 1px rgba(0, 0, 0, 0.15);\n",
              "        filter: drop-shadow(0px 1px 2px rgba(0, 0, 0, 0.3));\n",
              "        fill: #FFFFFF;\n",
              "      }\n",
              "    </style>\n",
              "    <button class=\"colab-df-generate\" onclick=\"generateWithVariable('X_test_scaled')\"\n",
              "            title=\"Generate code using this dataframe.\"\n",
              "            style=\"display:none;\">\n",
              "\n",
              "  <svg xmlns=\"http://www.w3.org/2000/svg\" height=\"24px\"viewBox=\"0 0 24 24\"\n",
              "       width=\"24px\">\n",
              "    <path d=\"M7,19H8.4L18.45,9,17,7.55,7,17.6ZM5,21V16.75L18.45,3.32a2,2,0,0,1,2.83,0l1.4,1.43a1.91,1.91,0,0,1,.58,1.4,1.91,1.91,0,0,1-.58,1.4L9.25,21ZM18.45,9,17,7.55Zm-12,3A5.31,5.31,0,0,0,4.9,8.1,5.31,5.31,0,0,0,1,6.5,5.31,5.31,0,0,0,4.9,4.9,5.31,5.31,0,0,0,6.5,1,5.31,5.31,0,0,0,8.1,4.9,5.31,5.31,0,0,0,12,6.5,5.46,5.46,0,0,0,6.5,12Z\"/>\n",
              "  </svg>\n",
              "    </button>\n",
              "    <script>\n",
              "      (() => {\n",
              "      const buttonEl =\n",
              "        document.querySelector('#id_eef477ab-ccde-4a07-9286-7f29a0faf41a button.colab-df-generate');\n",
              "      buttonEl.style.display =\n",
              "        google.colab.kernel.accessAllowed ? 'block' : 'none';\n",
              "\n",
              "      buttonEl.onclick = () => {\n",
              "        google.colab.notebook.generateWithVariable('X_test_scaled');\n",
              "      }\n",
              "      })();\n",
              "    </script>\n",
              "  </div>\n",
              "\n",
              "    </div>\n",
              "  </div>\n"
            ],
            "application/vnd.google.colaboratory.intrinsic+json": {
              "type": "dataframe",
              "variable_name": "X_test_scaled",
              "summary": "{\n  \"name\": \"X_test_scaled\",\n  \"rows\": 1200,\n  \"fields\": [\n    {\n      \"column\": \"age\",\n      \"properties\": {\n        \"dtype\": \"number\",\n        \"std\": 0.9866599488104104,\n        \"min\": -1.7058503419162467,\n        \"max\": 1.6478591158752685,\n        \"num_unique_values\": 39,\n        \"samples\": [\n          -1.5293393178219565,\n          0.7653039954038171,\n          -0.2937621491619245\n        ],\n        \"semantic_type\": \"\",\n        \"description\": \"\"\n      }\n    },\n    {\n      \"column\": \"monthly_income\",\n      \"properties\": {\n        \"dtype\": \"number\",\n        \"std\": 1.0003833588636977,\n        \"min\": -1.7171573478055382,\n        \"max\": 1.7407657212166645,\n        \"num_unique_values\": 1200,\n        \"samples\": [\n          0.004730714947021997,\n          1.5792087541469766,\n          0.3439320205779402\n        ],\n        \"semantic_type\": \"\",\n        \"description\": \"\"\n      }\n    },\n    {\n      \"column\": \"loan_amount\",\n      \"properties\": {\n        \"dtype\": \"number\",\n        \"std\": 1.0054878570695749,\n        \"min\": -1.7232997699192554,\n        \"max\": 1.716945292344918,\n        \"num_unique_values\": 1200,\n        \"samples\": [\n          -1.5566823798887244,\n          0.4643786271255571,\n          0.7235230428457727\n        ],\n        \"semantic_type\": \"\",\n        \"description\": \"\"\n      }\n    },\n    {\n      \"column\": \"previous_defaults\",\n      \"properties\": {\n        \"dtype\": \"number\",\n        \"std\": 0.9612477845719989,\n        \"min\": -0.5011230572167796,\n        \"max\": 3.5931589421713777,\n        \"num_unique_values\": 3,\n        \"samples\": [\n          -0.5011230572167796,\n          1.546017942477299,\n          3.5931589421713777\n        ],\n        \"semantic_type\": \"\",\n        \"description\": \"\"\n      }\n    },\n    {\n      \"column\": \"credit_score\",\n      \"properties\": {\n        \"dtype\": \"number\",\n        \"std\": 0.9950023466923319,\n        \"min\": -1.7446436431858556,\n        \"max\": 1.719438606356497,\n        \"num_unique_values\": 484,\n        \"samples\": [\n          0.0031719909183915524,\n          -0.43220446667436313,\n          0.29342296264689466\n        ],\n        \"semantic_type\": \"\",\n        \"description\": \"\"\n      }\n    }\n  ]\n}"
            }
          },
          "metadata": {},
          "execution_count": 20
        }
      ]
    },
    {
      "cell_type": "markdown",
      "source": [
        "## **SMOTE (Synthetic Minority Oversampling Technique)**"
      ],
      "metadata": {
        "id": "vUmdjxou4Tvx"
      }
    },
    {
      "cell_type": "markdown",
      "source": [
        "Salah satu teknik yang dapat mengatasi permasalah data yang tidak seimbang (Imbalanced Data) adalah teknik SMOTE. Teknik ini bekerja dengan cara membuat sampel data baru (data sintetis) dari kelas minoritas, sehingga jumlah data pada semua kelas menjadi lebih seimbang."
      ],
      "metadata": {
        "id": "AZ5M02CMxX2c"
      }
    },
    {
      "cell_type": "code",
      "source": [
        "# Initialize SMOTE\n",
        "smote = SMOTE(random_state=42)\n",
        "\n",
        "# Apply SMOTE to the training data\n",
        "X_train_resampled, y_train_resampled = smote.fit_resample(X_train_scaled, y_train)"
      ],
      "metadata": {
        "id": "QjWJwUcv4bKZ"
      },
      "execution_count": 21,
      "outputs": []
    },
    {
      "cell_type": "code",
      "source": [
        "X_train_resampled"
      ],
      "metadata": {
        "colab": {
          "base_uri": "https://localhost:8080/",
          "height": 423
        },
        "id": "w5TzH5AZ45xG",
        "outputId": "fbe4b03f-f17e-4ea8-be3b-520f6f7ef923"
      },
      "execution_count": 22,
      "outputs": [
        {
          "output_type": "execute_result",
          "data": {
            "text/plain": [
              "           age  monthly_income  loan_amount  previous_defaults  credit_score\n",
              "0     0.765304        0.914834    -0.185046          -0.501123     -0.249220\n",
              "1     0.853560        0.447973    -0.257370          -0.501123      0.211396\n",
              "2     0.677048       -1.698224    -1.515143          -0.501123     -1.391295\n",
              "3    -1.617595       -1.074810     0.323278          -0.501123     -1.075804\n",
              "4     0.588793       -0.315438     0.393180          -0.501123     -1.448083\n",
              "...        ...             ...          ...                ...           ...\n",
              "9479 -0.043284       -1.273802     1.168667          -0.501123     -0.861271\n",
              "9480  1.206582       -1.557961     1.265069          -0.501123     -0.963361\n",
              "9481 -0.562495       -1.592172     0.424767           1.546018     -0.171073\n",
              "9482  0.369927       -0.662782     1.107673           1.546018      0.325310\n",
              "9483 -0.644567       -1.480797    -1.233327           1.546018     -0.859908\n",
              "\n",
              "[9484 rows x 5 columns]"
            ],
            "text/html": [
              "\n",
              "  <div id=\"df-912a351a-98ec-4e1f-910e-6e4795a2a1a6\" class=\"colab-df-container\">\n",
              "    <div>\n",
              "<style scoped>\n",
              "    .dataframe tbody tr th:only-of-type {\n",
              "        vertical-align: middle;\n",
              "    }\n",
              "\n",
              "    .dataframe tbody tr th {\n",
              "        vertical-align: top;\n",
              "    }\n",
              "\n",
              "    .dataframe thead th {\n",
              "        text-align: right;\n",
              "    }\n",
              "</style>\n",
              "<table border=\"1\" class=\"dataframe\">\n",
              "  <thead>\n",
              "    <tr style=\"text-align: right;\">\n",
              "      <th></th>\n",
              "      <th>age</th>\n",
              "      <th>monthly_income</th>\n",
              "      <th>loan_amount</th>\n",
              "      <th>previous_defaults</th>\n",
              "      <th>credit_score</th>\n",
              "    </tr>\n",
              "  </thead>\n",
              "  <tbody>\n",
              "    <tr>\n",
              "      <th>0</th>\n",
              "      <td>0.765304</td>\n",
              "      <td>0.914834</td>\n",
              "      <td>-0.185046</td>\n",
              "      <td>-0.501123</td>\n",
              "      <td>-0.249220</td>\n",
              "    </tr>\n",
              "    <tr>\n",
              "      <th>1</th>\n",
              "      <td>0.853560</td>\n",
              "      <td>0.447973</td>\n",
              "      <td>-0.257370</td>\n",
              "      <td>-0.501123</td>\n",
              "      <td>0.211396</td>\n",
              "    </tr>\n",
              "    <tr>\n",
              "      <th>2</th>\n",
              "      <td>0.677048</td>\n",
              "      <td>-1.698224</td>\n",
              "      <td>-1.515143</td>\n",
              "      <td>-0.501123</td>\n",
              "      <td>-1.391295</td>\n",
              "    </tr>\n",
              "    <tr>\n",
              "      <th>3</th>\n",
              "      <td>-1.617595</td>\n",
              "      <td>-1.074810</td>\n",
              "      <td>0.323278</td>\n",
              "      <td>-0.501123</td>\n",
              "      <td>-1.075804</td>\n",
              "    </tr>\n",
              "    <tr>\n",
              "      <th>4</th>\n",
              "      <td>0.588793</td>\n",
              "      <td>-0.315438</td>\n",
              "      <td>0.393180</td>\n",
              "      <td>-0.501123</td>\n",
              "      <td>-1.448083</td>\n",
              "    </tr>\n",
              "    <tr>\n",
              "      <th>...</th>\n",
              "      <td>...</td>\n",
              "      <td>...</td>\n",
              "      <td>...</td>\n",
              "      <td>...</td>\n",
              "      <td>...</td>\n",
              "    </tr>\n",
              "    <tr>\n",
              "      <th>9479</th>\n",
              "      <td>-0.043284</td>\n",
              "      <td>-1.273802</td>\n",
              "      <td>1.168667</td>\n",
              "      <td>-0.501123</td>\n",
              "      <td>-0.861271</td>\n",
              "    </tr>\n",
              "    <tr>\n",
              "      <th>9480</th>\n",
              "      <td>1.206582</td>\n",
              "      <td>-1.557961</td>\n",
              "      <td>1.265069</td>\n",
              "      <td>-0.501123</td>\n",
              "      <td>-0.963361</td>\n",
              "    </tr>\n",
              "    <tr>\n",
              "      <th>9481</th>\n",
              "      <td>-0.562495</td>\n",
              "      <td>-1.592172</td>\n",
              "      <td>0.424767</td>\n",
              "      <td>1.546018</td>\n",
              "      <td>-0.171073</td>\n",
              "    </tr>\n",
              "    <tr>\n",
              "      <th>9482</th>\n",
              "      <td>0.369927</td>\n",
              "      <td>-0.662782</td>\n",
              "      <td>1.107673</td>\n",
              "      <td>1.546018</td>\n",
              "      <td>0.325310</td>\n",
              "    </tr>\n",
              "    <tr>\n",
              "      <th>9483</th>\n",
              "      <td>-0.644567</td>\n",
              "      <td>-1.480797</td>\n",
              "      <td>-1.233327</td>\n",
              "      <td>1.546018</td>\n",
              "      <td>-0.859908</td>\n",
              "    </tr>\n",
              "  </tbody>\n",
              "</table>\n",
              "<p>9484 rows × 5 columns</p>\n",
              "</div>\n",
              "    <div class=\"colab-df-buttons\">\n",
              "\n",
              "  <div class=\"colab-df-container\">\n",
              "    <button class=\"colab-df-convert\" onclick=\"convertToInteractive('df-912a351a-98ec-4e1f-910e-6e4795a2a1a6')\"\n",
              "            title=\"Convert this dataframe to an interactive table.\"\n",
              "            style=\"display:none;\">\n",
              "\n",
              "  <svg xmlns=\"http://www.w3.org/2000/svg\" height=\"24px\" viewBox=\"0 -960 960 960\">\n",
              "    <path d=\"M120-120v-720h720v720H120Zm60-500h600v-160H180v160Zm220 220h160v-160H400v160Zm0 220h160v-160H400v160ZM180-400h160v-160H180v160Zm440 0h160v-160H620v160ZM180-180h160v-160H180v160Zm440 0h160v-160H620v160Z\"/>\n",
              "  </svg>\n",
              "    </button>\n",
              "\n",
              "  <style>\n",
              "    .colab-df-container {\n",
              "      display:flex;\n",
              "      gap: 12px;\n",
              "    }\n",
              "\n",
              "    .colab-df-convert {\n",
              "      background-color: #E8F0FE;\n",
              "      border: none;\n",
              "      border-radius: 50%;\n",
              "      cursor: pointer;\n",
              "      display: none;\n",
              "      fill: #1967D2;\n",
              "      height: 32px;\n",
              "      padding: 0 0 0 0;\n",
              "      width: 32px;\n",
              "    }\n",
              "\n",
              "    .colab-df-convert:hover {\n",
              "      background-color: #E2EBFA;\n",
              "      box-shadow: 0px 1px 2px rgba(60, 64, 67, 0.3), 0px 1px 3px 1px rgba(60, 64, 67, 0.15);\n",
              "      fill: #174EA6;\n",
              "    }\n",
              "\n",
              "    .colab-df-buttons div {\n",
              "      margin-bottom: 4px;\n",
              "    }\n",
              "\n",
              "    [theme=dark] .colab-df-convert {\n",
              "      background-color: #3B4455;\n",
              "      fill: #D2E3FC;\n",
              "    }\n",
              "\n",
              "    [theme=dark] .colab-df-convert:hover {\n",
              "      background-color: #434B5C;\n",
              "      box-shadow: 0px 1px 3px 1px rgba(0, 0, 0, 0.15);\n",
              "      filter: drop-shadow(0px 1px 2px rgba(0, 0, 0, 0.3));\n",
              "      fill: #FFFFFF;\n",
              "    }\n",
              "  </style>\n",
              "\n",
              "    <script>\n",
              "      const buttonEl =\n",
              "        document.querySelector('#df-912a351a-98ec-4e1f-910e-6e4795a2a1a6 button.colab-df-convert');\n",
              "      buttonEl.style.display =\n",
              "        google.colab.kernel.accessAllowed ? 'block' : 'none';\n",
              "\n",
              "      async function convertToInteractive(key) {\n",
              "        const element = document.querySelector('#df-912a351a-98ec-4e1f-910e-6e4795a2a1a6');\n",
              "        const dataTable =\n",
              "          await google.colab.kernel.invokeFunction('convertToInteractive',\n",
              "                                                    [key], {});\n",
              "        if (!dataTable) return;\n",
              "\n",
              "        const docLinkHtml = 'Like what you see? Visit the ' +\n",
              "          '<a target=\"_blank\" href=https://colab.research.google.com/notebooks/data_table.ipynb>data table notebook</a>'\n",
              "          + ' to learn more about interactive tables.';\n",
              "        element.innerHTML = '';\n",
              "        dataTable['output_type'] = 'display_data';\n",
              "        await google.colab.output.renderOutput(dataTable, element);\n",
              "        const docLink = document.createElement('div');\n",
              "        docLink.innerHTML = docLinkHtml;\n",
              "        element.appendChild(docLink);\n",
              "      }\n",
              "    </script>\n",
              "  </div>\n",
              "\n",
              "\n",
              "    <div id=\"df-33b243b1-0074-4b9d-8672-7764cd30fcc9\">\n",
              "      <button class=\"colab-df-quickchart\" onclick=\"quickchart('df-33b243b1-0074-4b9d-8672-7764cd30fcc9')\"\n",
              "                title=\"Suggest charts\"\n",
              "                style=\"display:none;\">\n",
              "\n",
              "<svg xmlns=\"http://www.w3.org/2000/svg\" height=\"24px\"viewBox=\"0 0 24 24\"\n",
              "     width=\"24px\">\n",
              "    <g>\n",
              "        <path d=\"M19 3H5c-1.1 0-2 .9-2 2v14c0 1.1.9 2 2 2h14c1.1 0 2-.9 2-2V5c0-1.1-.9-2-2-2zM9 17H7v-7h2v7zm4 0h-2V7h2v10zm4 0h-2v-4h2v4z\"/>\n",
              "    </g>\n",
              "</svg>\n",
              "      </button>\n",
              "\n",
              "<style>\n",
              "  .colab-df-quickchart {\n",
              "      --bg-color: #E8F0FE;\n",
              "      --fill-color: #1967D2;\n",
              "      --hover-bg-color: #E2EBFA;\n",
              "      --hover-fill-color: #174EA6;\n",
              "      --disabled-fill-color: #AAA;\n",
              "      --disabled-bg-color: #DDD;\n",
              "  }\n",
              "\n",
              "  [theme=dark] .colab-df-quickchart {\n",
              "      --bg-color: #3B4455;\n",
              "      --fill-color: #D2E3FC;\n",
              "      --hover-bg-color: #434B5C;\n",
              "      --hover-fill-color: #FFFFFF;\n",
              "      --disabled-bg-color: #3B4455;\n",
              "      --disabled-fill-color: #666;\n",
              "  }\n",
              "\n",
              "  .colab-df-quickchart {\n",
              "    background-color: var(--bg-color);\n",
              "    border: none;\n",
              "    border-radius: 50%;\n",
              "    cursor: pointer;\n",
              "    display: none;\n",
              "    fill: var(--fill-color);\n",
              "    height: 32px;\n",
              "    padding: 0;\n",
              "    width: 32px;\n",
              "  }\n",
              "\n",
              "  .colab-df-quickchart:hover {\n",
              "    background-color: var(--hover-bg-color);\n",
              "    box-shadow: 0 1px 2px rgba(60, 64, 67, 0.3), 0 1px 3px 1px rgba(60, 64, 67, 0.15);\n",
              "    fill: var(--button-hover-fill-color);\n",
              "  }\n",
              "\n",
              "  .colab-df-quickchart-complete:disabled,\n",
              "  .colab-df-quickchart-complete:disabled:hover {\n",
              "    background-color: var(--disabled-bg-color);\n",
              "    fill: var(--disabled-fill-color);\n",
              "    box-shadow: none;\n",
              "  }\n",
              "\n",
              "  .colab-df-spinner {\n",
              "    border: 2px solid var(--fill-color);\n",
              "    border-color: transparent;\n",
              "    border-bottom-color: var(--fill-color);\n",
              "    animation:\n",
              "      spin 1s steps(1) infinite;\n",
              "  }\n",
              "\n",
              "  @keyframes spin {\n",
              "    0% {\n",
              "      border-color: transparent;\n",
              "      border-bottom-color: var(--fill-color);\n",
              "      border-left-color: var(--fill-color);\n",
              "    }\n",
              "    20% {\n",
              "      border-color: transparent;\n",
              "      border-left-color: var(--fill-color);\n",
              "      border-top-color: var(--fill-color);\n",
              "    }\n",
              "    30% {\n",
              "      border-color: transparent;\n",
              "      border-left-color: var(--fill-color);\n",
              "      border-top-color: var(--fill-color);\n",
              "      border-right-color: var(--fill-color);\n",
              "    }\n",
              "    40% {\n",
              "      border-color: transparent;\n",
              "      border-right-color: var(--fill-color);\n",
              "      border-top-color: var(--fill-color);\n",
              "    }\n",
              "    60% {\n",
              "      border-color: transparent;\n",
              "      border-right-color: var(--fill-color);\n",
              "    }\n",
              "    80% {\n",
              "      border-color: transparent;\n",
              "      border-right-color: var(--fill-color);\n",
              "      border-bottom-color: var(--fill-color);\n",
              "    }\n",
              "    90% {\n",
              "      border-color: transparent;\n",
              "      border-bottom-color: var(--fill-color);\n",
              "    }\n",
              "  }\n",
              "</style>\n",
              "\n",
              "      <script>\n",
              "        async function quickchart(key) {\n",
              "          const quickchartButtonEl =\n",
              "            document.querySelector('#' + key + ' button');\n",
              "          quickchartButtonEl.disabled = true;  // To prevent multiple clicks.\n",
              "          quickchartButtonEl.classList.add('colab-df-spinner');\n",
              "          try {\n",
              "            const charts = await google.colab.kernel.invokeFunction(\n",
              "                'suggestCharts', [key], {});\n",
              "          } catch (error) {\n",
              "            console.error('Error during call to suggestCharts:', error);\n",
              "          }\n",
              "          quickchartButtonEl.classList.remove('colab-df-spinner');\n",
              "          quickchartButtonEl.classList.add('colab-df-quickchart-complete');\n",
              "        }\n",
              "        (() => {\n",
              "          let quickchartButtonEl =\n",
              "            document.querySelector('#df-33b243b1-0074-4b9d-8672-7764cd30fcc9 button');\n",
              "          quickchartButtonEl.style.display =\n",
              "            google.colab.kernel.accessAllowed ? 'block' : 'none';\n",
              "        })();\n",
              "      </script>\n",
              "    </div>\n",
              "\n",
              "  <div id=\"id_939fa3da-6f6c-4bb6-b5f7-7eee1f77968d\">\n",
              "    <style>\n",
              "      .colab-df-generate {\n",
              "        background-color: #E8F0FE;\n",
              "        border: none;\n",
              "        border-radius: 50%;\n",
              "        cursor: pointer;\n",
              "        display: none;\n",
              "        fill: #1967D2;\n",
              "        height: 32px;\n",
              "        padding: 0 0 0 0;\n",
              "        width: 32px;\n",
              "      }\n",
              "\n",
              "      .colab-df-generate:hover {\n",
              "        background-color: #E2EBFA;\n",
              "        box-shadow: 0px 1px 2px rgba(60, 64, 67, 0.3), 0px 1px 3px 1px rgba(60, 64, 67, 0.15);\n",
              "        fill: #174EA6;\n",
              "      }\n",
              "\n",
              "      [theme=dark] .colab-df-generate {\n",
              "        background-color: #3B4455;\n",
              "        fill: #D2E3FC;\n",
              "      }\n",
              "\n",
              "      [theme=dark] .colab-df-generate:hover {\n",
              "        background-color: #434B5C;\n",
              "        box-shadow: 0px 1px 3px 1px rgba(0, 0, 0, 0.15);\n",
              "        filter: drop-shadow(0px 1px 2px rgba(0, 0, 0, 0.3));\n",
              "        fill: #FFFFFF;\n",
              "      }\n",
              "    </style>\n",
              "    <button class=\"colab-df-generate\" onclick=\"generateWithVariable('X_train_resampled')\"\n",
              "            title=\"Generate code using this dataframe.\"\n",
              "            style=\"display:none;\">\n",
              "\n",
              "  <svg xmlns=\"http://www.w3.org/2000/svg\" height=\"24px\"viewBox=\"0 0 24 24\"\n",
              "       width=\"24px\">\n",
              "    <path d=\"M7,19H8.4L18.45,9,17,7.55,7,17.6ZM5,21V16.75L18.45,3.32a2,2,0,0,1,2.83,0l1.4,1.43a1.91,1.91,0,0,1,.58,1.4,1.91,1.91,0,0,1-.58,1.4L9.25,21ZM18.45,9,17,7.55Zm-12,3A5.31,5.31,0,0,0,4.9,8.1,5.31,5.31,0,0,0,1,6.5,5.31,5.31,0,0,0,4.9,4.9,5.31,5.31,0,0,0,6.5,1,5.31,5.31,0,0,0,8.1,4.9,5.31,5.31,0,0,0,12,6.5,5.46,5.46,0,0,0,6.5,12Z\"/>\n",
              "  </svg>\n",
              "    </button>\n",
              "    <script>\n",
              "      (() => {\n",
              "      const buttonEl =\n",
              "        document.querySelector('#id_939fa3da-6f6c-4bb6-b5f7-7eee1f77968d button.colab-df-generate');\n",
              "      buttonEl.style.display =\n",
              "        google.colab.kernel.accessAllowed ? 'block' : 'none';\n",
              "\n",
              "      buttonEl.onclick = () => {\n",
              "        google.colab.notebook.generateWithVariable('X_train_resampled');\n",
              "      }\n",
              "      })();\n",
              "    </script>\n",
              "  </div>\n",
              "\n",
              "    </div>\n",
              "  </div>\n"
            ],
            "application/vnd.google.colaboratory.intrinsic+json": {
              "type": "dataframe",
              "variable_name": "X_train_resampled",
              "summary": "{\n  \"name\": \"X_train_resampled\",\n  \"rows\": 9484,\n  \"fields\": [\n    {\n      \"column\": \"age\",\n      \"properties\": {\n        \"dtype\": \"number\",\n        \"std\": 0.9701408233194928,\n        \"min\": -1.7058503419162467,\n        \"max\": 1.6478591158752685,\n        \"num_unique_values\": 4389,\n        \"samples\": [\n          1.2076272473713243,\n          -0.3344152916809003,\n          -0.9946963784692617\n        ],\n        \"semantic_type\": \"\",\n        \"description\": \"\"\n      }\n    },\n    {\n      \"column\": \"monthly_income\",\n      \"properties\": {\n        \"dtype\": \"number\",\n        \"std\": 0.9626909469216965,\n        \"min\": -1.7174159086624854,\n        \"max\": 1.739807417316152,\n        \"num_unique_values\": 9484,\n        \"samples\": [\n          1.6025339973120087,\n          -1.3905941836747335,\n          -1.3401581719658602\n        ],\n        \"semantic_type\": \"\",\n        \"description\": \"\"\n      }\n    },\n    {\n      \"column\": \"loan_amount\",\n      \"properties\": {\n        \"dtype\": \"number\",\n        \"std\": 0.973286936675746,\n        \"min\": -1.7231488089517786,\n        \"max\": 1.718262635771206,\n        \"num_unique_values\": 9484,\n        \"samples\": [\n          -0.37608549538726554,\n          1.121961469614534,\n          1.1477528364275997\n        ],\n        \"semantic_type\": \"\",\n        \"description\": \"\"\n      }\n    },\n    {\n      \"column\": \"previous_defaults\",\n      \"properties\": {\n        \"dtype\": \"number\",\n        \"std\": 1.1385814497010895,\n        \"min\": -0.5011230572167796,\n        \"max\": 5.6402999418654565,\n        \"num_unique_values\": 355,\n        \"samples\": [\n          3.8312453935562383,\n          3.37737945970603,\n          3.9711540620805925\n        ],\n        \"semantic_type\": \"\",\n        \"description\": \"\"\n      }\n    },\n    {\n      \"column\": \"credit_score\",\n      \"properties\": {\n        \"dtype\": \"number\",\n        \"std\": 0.9364907647574467,\n        \"min\": -1.7446436431858556,\n        \"max\": 1.719438606356497,\n        \"num_unique_values\": 5205,\n        \"samples\": [\n          -0.12302408374617502,\n          0.9938111770352391,\n          -1.1579434691615074\n        ],\n        \"semantic_type\": \"\",\n        \"description\": \"\"\n      }\n    }\n  ]\n}"
            }
          },
          "metadata": {},
          "execution_count": 22
        }
      ]
    },
    {
      "cell_type": "code",
      "source": [
        "y_train_resampled"
      ],
      "metadata": {
        "colab": {
          "base_uri": "https://localhost:8080/",
          "height": 458
        },
        "id": "gCNeyEEU48mH",
        "outputId": "30305b9d-d979-47a8-aab9-5923dc2d504d"
      },
      "execution_count": 23,
      "outputs": [
        {
          "output_type": "execute_result",
          "data": {
            "text/plain": [
              "0       0\n",
              "1       0\n",
              "2       0\n",
              "3       0\n",
              "4       0\n",
              "       ..\n",
              "9479    1\n",
              "9480    1\n",
              "9481    1\n",
              "9482    1\n",
              "9483    1\n",
              "Name: default, Length: 9484, dtype: int64"
            ],
            "text/html": [
              "<div>\n",
              "<style scoped>\n",
              "    .dataframe tbody tr th:only-of-type {\n",
              "        vertical-align: middle;\n",
              "    }\n",
              "\n",
              "    .dataframe tbody tr th {\n",
              "        vertical-align: top;\n",
              "    }\n",
              "\n",
              "    .dataframe thead th {\n",
              "        text-align: right;\n",
              "    }\n",
              "</style>\n",
              "<table border=\"1\" class=\"dataframe\">\n",
              "  <thead>\n",
              "    <tr style=\"text-align: right;\">\n",
              "      <th></th>\n",
              "      <th>default</th>\n",
              "    </tr>\n",
              "  </thead>\n",
              "  <tbody>\n",
              "    <tr>\n",
              "      <th>0</th>\n",
              "      <td>0</td>\n",
              "    </tr>\n",
              "    <tr>\n",
              "      <th>1</th>\n",
              "      <td>0</td>\n",
              "    </tr>\n",
              "    <tr>\n",
              "      <th>2</th>\n",
              "      <td>0</td>\n",
              "    </tr>\n",
              "    <tr>\n",
              "      <th>3</th>\n",
              "      <td>0</td>\n",
              "    </tr>\n",
              "    <tr>\n",
              "      <th>4</th>\n",
              "      <td>0</td>\n",
              "    </tr>\n",
              "    <tr>\n",
              "      <th>...</th>\n",
              "      <td>...</td>\n",
              "    </tr>\n",
              "    <tr>\n",
              "      <th>9479</th>\n",
              "      <td>1</td>\n",
              "    </tr>\n",
              "    <tr>\n",
              "      <th>9480</th>\n",
              "      <td>1</td>\n",
              "    </tr>\n",
              "    <tr>\n",
              "      <th>9481</th>\n",
              "      <td>1</td>\n",
              "    </tr>\n",
              "    <tr>\n",
              "      <th>9482</th>\n",
              "      <td>1</td>\n",
              "    </tr>\n",
              "    <tr>\n",
              "      <th>9483</th>\n",
              "      <td>1</td>\n",
              "    </tr>\n",
              "  </tbody>\n",
              "</table>\n",
              "<p>9484 rows × 1 columns</p>\n",
              "</div><br><label><b>dtype:</b> int64</label>"
            ]
          },
          "metadata": {},
          "execution_count": 23
        }
      ]
    },
    {
      "cell_type": "code",
      "source": [
        "y_train.value_counts()"
      ],
      "metadata": {
        "colab": {
          "base_uri": "https://localhost:8080/",
          "height": 178
        },
        "id": "rIZ3mNJUx0xW",
        "outputId": "feaeac8c-1df3-4e91-b893-fb83209a8a99"
      },
      "execution_count": 24,
      "outputs": [
        {
          "output_type": "execute_result",
          "data": {
            "text/plain": [
              "default\n",
              "0    4742\n",
              "1      58\n",
              "Name: count, dtype: int64"
            ],
            "text/html": [
              "<div>\n",
              "<style scoped>\n",
              "    .dataframe tbody tr th:only-of-type {\n",
              "        vertical-align: middle;\n",
              "    }\n",
              "\n",
              "    .dataframe tbody tr th {\n",
              "        vertical-align: top;\n",
              "    }\n",
              "\n",
              "    .dataframe thead th {\n",
              "        text-align: right;\n",
              "    }\n",
              "</style>\n",
              "<table border=\"1\" class=\"dataframe\">\n",
              "  <thead>\n",
              "    <tr style=\"text-align: right;\">\n",
              "      <th></th>\n",
              "      <th>count</th>\n",
              "    </tr>\n",
              "    <tr>\n",
              "      <th>default</th>\n",
              "      <th></th>\n",
              "    </tr>\n",
              "  </thead>\n",
              "  <tbody>\n",
              "    <tr>\n",
              "      <th>0</th>\n",
              "      <td>4742</td>\n",
              "    </tr>\n",
              "    <tr>\n",
              "      <th>1</th>\n",
              "      <td>58</td>\n",
              "    </tr>\n",
              "  </tbody>\n",
              "</table>\n",
              "</div><br><label><b>dtype:</b> int64</label>"
            ]
          },
          "metadata": {},
          "execution_count": 24
        }
      ]
    },
    {
      "cell_type": "code",
      "source": [
        "y_train_resampled.value_counts()"
      ],
      "metadata": {
        "colab": {
          "base_uri": "https://localhost:8080/",
          "height": 178
        },
        "id": "ZT7XxFjk4_hQ",
        "outputId": "9eaaba4a-a714-4622-c127-026c99b34e7d"
      },
      "execution_count": 25,
      "outputs": [
        {
          "output_type": "execute_result",
          "data": {
            "text/plain": [
              "default\n",
              "0    4742\n",
              "1    4742\n",
              "Name: count, dtype: int64"
            ],
            "text/html": [
              "<div>\n",
              "<style scoped>\n",
              "    .dataframe tbody tr th:only-of-type {\n",
              "        vertical-align: middle;\n",
              "    }\n",
              "\n",
              "    .dataframe tbody tr th {\n",
              "        vertical-align: top;\n",
              "    }\n",
              "\n",
              "    .dataframe thead th {\n",
              "        text-align: right;\n",
              "    }\n",
              "</style>\n",
              "<table border=\"1\" class=\"dataframe\">\n",
              "  <thead>\n",
              "    <tr style=\"text-align: right;\">\n",
              "      <th></th>\n",
              "      <th>count</th>\n",
              "    </tr>\n",
              "    <tr>\n",
              "      <th>default</th>\n",
              "      <th></th>\n",
              "    </tr>\n",
              "  </thead>\n",
              "  <tbody>\n",
              "    <tr>\n",
              "      <th>0</th>\n",
              "      <td>4742</td>\n",
              "    </tr>\n",
              "    <tr>\n",
              "      <th>1</th>\n",
              "      <td>4742</td>\n",
              "    </tr>\n",
              "  </tbody>\n",
              "</table>\n",
              "</div><br><label><b>dtype:</b> int64</label>"
            ]
          },
          "metadata": {},
          "execution_count": 25
        }
      ]
    },
    {
      "cell_type": "markdown",
      "source": [
        "Setelah dilakukan teknik SMOTE, jumlah data menjadi seimbang."
      ],
      "metadata": {
        "id": "o3EInA8Xxtwu"
      }
    },
    {
      "cell_type": "markdown",
      "source": [
        "# **MODELLING**"
      ],
      "metadata": {
        "id": "toohXeNW5Iua"
      }
    },
    {
      "cell_type": "markdown",
      "source": [
        "Pemodelan menggunakan algoritma Binary Logistic Regression dan Gradient Boosting untuk memprediksi risiko nasabah yang gagal membayar pinjamannya."
      ],
      "metadata": {
        "id": "QYBEnFsAx9M4"
      }
    },
    {
      "cell_type": "markdown",
      "source": [
        "## **Binary Logistic Regression**"
      ],
      "metadata": {
        "id": "B_QCEJdM5sNc"
      }
    },
    {
      "cell_type": "code",
      "source": [
        "# Define pipeline\n",
        "lr_pipeline = Pipeline([\n",
        "    ('classifier', LogisticRegression(random_state=42))\n",
        "])\n",
        "\n",
        "# Define params\n",
        "lr_param = {\n",
        "    'classifier__penalty': ['l2'],\n",
        "    'classifier__C': [0.001, 0.01, 0.1, 1, 10, 100, 1000],\n",
        "    'classifier__solver': ['lbfgs', 'newton-cg', 'newton-cholesky'],\n",
        "    'classifier__class_weight': ['balanced']\n",
        "}\n",
        "\n",
        "# Hyperparameter tuning\n",
        "grid_search_lr = GridSearchCV(lr_pipeline, lr_param, cv=5, scoring='roc_auc')\n",
        "grid_search_lr.fit(X_train_resampled, y_train_resampled)\n",
        "print(\"Best parameters: \", grid_search_lr.best_params_)\n",
        "print(\"Best score: \", grid_search_lr.best_score_*100)\n",
        "\n",
        "# Best model\n",
        "best_lr_model = grid_search_lr.best_estimator_\n",
        "\n",
        "# ROC AUC score\n",
        "print(\"ROC AUC score: \", roc_auc_score(y_test, best_lr_model.predict_proba(X_test_scaled)[:, 1])*100)"
      ],
      "metadata": {
        "colab": {
          "base_uri": "https://localhost:8080/"
        },
        "id": "H-5Zeayn5LBY",
        "outputId": "1e6149be-1a26-481a-cffe-29455e327b23"
      },
      "execution_count": 26,
      "outputs": [
        {
          "output_type": "stream",
          "name": "stdout",
          "text": [
            "Best parameters:  {'classifier__C': 0.01, 'classifier__class_weight': 'balanced', 'classifier__penalty': 'l2', 'classifier__solver': 'lbfgs'}\n",
            "Best score:  83.43418899752348\n",
            "ROC AUC score:  75.21237693389592\n"
          ]
        }
      ]
    },
    {
      "cell_type": "markdown",
      "source": [
        "Berdasarkan output di atas, diketahui bahwa kombinasi parameter eksternal yang diperoleh selama pelatihan berlangsung, menghasilkan skor terbaik sebesar 83,43%. Artinya kombinasi parameter ini sesuai dalam membantu model untuk meningkatkan kinerjanya.\n",
        "\n",
        "Sementara itu, selama pelatihan berlangsung model dievaluasi menggunakan kombinasi parameter yang diperoleh dan didapatkan metrik ROC AUC Score sebesar 75,21%. Artinya kemapuan model dalam membedakan antara default dan non-default cukup baik."
      ],
      "metadata": {
        "id": "HZqUNJ5nyMCR"
      }
    },
    {
      "cell_type": "markdown",
      "source": [
        "## **Gradient Boosting Classifier**"
      ],
      "metadata": {
        "id": "VBWT98-3sBMQ"
      }
    },
    {
      "cell_type": "code",
      "source": [
        "# Define pipeline\n",
        "gb_pipeline = Pipeline([\n",
        "    ('classifier', GradientBoostingClassifier(random_state=42))\n",
        "])\n",
        "\n",
        "# Define params\n",
        "gb_param = {\n",
        "    'classifier__n_estimators': [100],\n",
        "    'classifier__learning_rate': [0.01, 0.1, 1],\n",
        "    'classifier__max_depth': [3, 5, 7]\n",
        "}\n",
        "\n",
        "# Hyperparameter tuning\n",
        "grid_search_gb = GridSearchCV(gb_pipeline, gb_param, cv=5, scoring='roc_auc')\n",
        "grid_search_gb.fit(X_train_resampled, y_train_resampled)\n",
        "print(\"Best parameters: \", grid_search_gb.best_params_)\n",
        "print(\"Best score: \", grid_search_gb.best_score_*100)\n",
        "\n",
        "# Best model\n",
        "best_gb_model = grid_search_gb.best_estimator_\n",
        "\n",
        "# ROC AUC score\n",
        "print(\"ROC AUC score: \", roc_auc_score(y_test, best_gb_model.predict_proba(X_test_scaled)[:, 1])*100)"
      ],
      "metadata": {
        "colab": {
          "base_uri": "https://localhost:8080/"
        },
        "id": "uy1TwPsFsD2A",
        "outputId": "ed9f2c80-bea4-4b85-c1c4-5f951db1d343"
      },
      "execution_count": 27,
      "outputs": [
        {
          "output_type": "stream",
          "name": "stdout",
          "text": [
            "Best parameters:  {'classifier__learning_rate': 1, 'classifier__max_depth': 7, 'classifier__n_estimators': 100}\n",
            "Best score:  99.88256239670058\n",
            "ROC AUC score:  47.184247538677916\n"
          ]
        }
      ]
    },
    {
      "cell_type": "markdown",
      "source": [
        "Berdasarkan output di atas, diketahui bahwa kombinasi parameter eksternal yang diperoleh selama pelatihan berlangsung, menghasilkan skor terbaik sebesar 99,88%. Skor yang terlalu tinggi dan tidak realistis ini menandakan bahwa model mengalami overfitting.\n",
        "\n",
        "Sementara itu, selama pelatihan berlangsung model dievaluasi menggunakan kombinasi parameter yang diperoleh dan didapatkan metrik ROC AUC Score sebesar 47,18%. Artinya model sulit dalam membedakan antara default dan non-default."
      ],
      "metadata": {
        "id": "yklQsKoA0HEA"
      }
    },
    {
      "cell_type": "markdown",
      "source": [
        "# **MODEL EVALUATION**"
      ],
      "metadata": {
        "id": "5KxOTfMRxltc"
      }
    },
    {
      "cell_type": "markdown",
      "source": [
        "Pemilihan model terbaik dilakukan menggunakan beberapa metrik untuk menentukan model terbaik yang digunakan untuk prediksi credit scoring."
      ],
      "metadata": {
        "id": "-MnhSDQv0t9K"
      }
    },
    {
      "cell_type": "markdown",
      "source": [
        "## **Binary Logistic Regression**"
      ],
      "metadata": {
        "id": "DKo2gJNsyATH"
      }
    },
    {
      "cell_type": "code",
      "source": [
        "y_pred_probs_lr = best_lr_model.predict_proba(X_test_scaled)[:, 1]\n",
        "y_pred_probs_lr"
      ],
      "metadata": {
        "colab": {
          "base_uri": "https://localhost:8080/"
        },
        "id": "J91KB-YIx--N",
        "outputId": "f1bb43c1-ed17-490c-92b1-ef52df01944d"
      },
      "execution_count": 32,
      "outputs": [
        {
          "output_type": "execute_result",
          "data": {
            "text/plain": [
              "array([0.21192213, 0.54709773, 0.0172011 , ..., 0.34173508, 0.48891594,\n",
              "       0.84720115])"
            ]
          },
          "metadata": {},
          "execution_count": 32
        }
      ]
    },
    {
      "cell_type": "markdown",
      "source": [
        "Output di atas adalah peluang setiap nasabah untuk masuk ke kategori tertentu. Semakin mendekati 1, maka nasabah tersebut lebih cocok masuk ke kategori tersebut. Sebaliknya, jika semakin mendekati 0 maka nasabah tersebut mustahil masuk ke kategori tersebut."
      ],
      "metadata": {
        "id": "DecdnY0l06_w"
      }
    },
    {
      "cell_type": "code",
      "source": [
        "best_threshold = 0\n",
        "best_f1 = 0\n",
        "\n",
        "for t in np.arange(0.1, 0.9, 0.01):\n",
        "    y_pred_thresh_lr = (y_pred_probs_lr >= t).astype(int)\n",
        "    f1 = f1_score(y_test, y_pred_thresh_lr)\n",
        "    if f1 > best_f1:\n",
        "        best_f1 = f1\n",
        "        best_threshold = t\n",
        "\n",
        "print(f\"Best Threshold Binary Logistic Regression = {best_threshold:.2f}, F1 Score = {best_f1:.4f}\")"
      ],
      "metadata": {
        "colab": {
          "base_uri": "https://localhost:8080/"
        },
        "id": "7Metq6eC8Nz-",
        "outputId": "a637a93f-37fd-49eb-a467-27384b9a585b"
      },
      "execution_count": 33,
      "outputs": [
        {
          "output_type": "stream",
          "name": "stdout",
          "text": [
            "Best Threshold Binary Logistic Regression = 0.85, F1 Score = 0.1509\n"
          ]
        }
      ]
    },
    {
      "cell_type": "markdown",
      "source": [
        "Output di atas dilakukan untuk menemukan ambang batas yang sesuai dalam melakukan prediksi."
      ],
      "metadata": {
        "id": "LE9sX3kr1Sw1"
      }
    },
    {
      "cell_type": "code",
      "source": [
        "y_pred_lr_adj = (y_pred_probs_lr >= best_threshold).astype(int)\n",
        "y_pred_lr_adj"
      ],
      "metadata": {
        "colab": {
          "base_uri": "https://localhost:8080/"
        },
        "id": "ecyYfG-S2oK9",
        "outputId": "660636f8-32ec-472c-a225-7785ecea54b7"
      },
      "execution_count": 34,
      "outputs": [
        {
          "output_type": "execute_result",
          "data": {
            "text/plain": [
              "array([0, 0, 0, ..., 0, 0, 0])"
            ]
          },
          "metadata": {},
          "execution_count": 34
        }
      ]
    },
    {
      "cell_type": "markdown",
      "source": [
        "Output di atas adalah hasil prediksi dari model yang terbentuk."
      ],
      "metadata": {
        "id": "HWAIdhEM1na8"
      }
    },
    {
      "cell_type": "code",
      "source": [
        "print(f'Accuracy:  {accuracy_score(y_test, y_pred_lr_adj)*100:.2f}%')\n",
        "print(f'Precision: {precision_score(y_test, y_pred_lr_adj)*100:.2f}%')\n",
        "print(f'Recall:    {recall_score(y_test, y_pred_lr_adj)*100:.2f}%')\n",
        "print(f'F1 Score:  {f1_score(y_test, y_pred_lr_adj)*100:.2f}%')"
      ],
      "metadata": {
        "colab": {
          "base_uri": "https://localhost:8080/"
        },
        "id": "K8GRG98yykeK",
        "outputId": "f4527f0e-fde1-4bc1-e209-77c426c67146"
      },
      "execution_count": 35,
      "outputs": [
        {
          "output_type": "stream",
          "name": "stdout",
          "text": [
            "Accuracy:  96.25%\n",
            "Precision: 10.53%\n",
            "Recall:    26.67%\n",
            "F1 Score:  15.09%\n"
          ]
        }
      ]
    },
    {
      "cell_type": "markdown",
      "source": [
        "Berdasarkan output evaluasi:\n",
        "\n",
        "- Dari 1200 data yang diprediksi, model mampu memprediksi 1155 data dengan benar, sehingga akurasi model adalah 96,25%. Ini berarti hanya 45 prediksi yang tidak sesuai dengan label yang sebenarnya.\n",
        "- Presisi model sebesar 10,53% menunjukkan bahwa dari semua prediksi yang dibuat untuk setiap kelas, hanya 10,53%% yang sesuai dengan kelas aslinya, sedangkan 89,47% tidak sesuai dengan kelas aslinya. Ini berarti bahwa model tersebut sering memberikan label yang salah (False Positive).\n",
        "- Recall model sebesar 26,67% menunjukkan bahwa dari semua data yang sebenarnya termasuk dalam setiap kelas, model hanya dapat mengidentifikasi dengan benar sekitar 26,67%, sedangkan 73,33% tidak dapat diidentifikasi. Ini berarti bahwa model sering melewatkan data yang seharusnya diidentifikasi (False Negative).\n",
        "- Dengan nilai F1 sebesar 15,09%, menunjukkan bahwa presisi dan recall tidak seimbang seimbang. Nilai rendah ini menunjukkan bahwa model kesulitan menyeimbangkan antara menghindari label yang salah dan mendeteksi default dengan akurat."
      ],
      "metadata": {
        "id": "rLqOb0gr15VP"
      }
    },
    {
      "cell_type": "code",
      "source": [
        "cm_lr = confusion_matrix(y_test, y_pred_lr_adj)\n",
        "sns.heatmap(cm_lr, annot=True, cmap='Blues', fmt='g')\n",
        "plt.xlabel('Predicted')\n",
        "plt.ylabel('Actual')\n",
        "plt.title('Confusion Matrix Binary Logistic Regression')\n",
        "plt.show()"
      ],
      "metadata": {
        "colab": {
          "base_uri": "https://localhost:8080/",
          "height": 472
        },
        "id": "K0JqAaAgyzBF",
        "outputId": "3d2bcbd2-e459-48cf-f37c-96d972e195aa"
      },
      "execution_count": 36,
      "outputs": [
        {
          "output_type": "display_data",
          "data": {
            "text/plain": [
              "<Figure size 640x480 with 2 Axes>"
            ],
            "image/png": "[encoded data removed]"
          },
          "metadata": {}
        }
      ]
    },
    {
      "cell_type": "markdown",
      "source": [
        "Berdasarkan plot konfusi matriks di atas:\n",
        "\n",
        "- Untuk kelas 0, model berhasil mengklasifikasikan 1151 dari 1185 data dengan benar dan hanya 34 data yang salah diklasifikasikan ke kelas lain, yaitu kelas 1. Selain itu, 11 data dari kelas 1 juga salah diprediksi sebagai kelas 0.\n",
        "- Untuk kelas 1, model berhasil mengklasifikasikan hanya 4 dari 15 data dengan benar dan 11 data salah diklasifikasikan ke kelas lain, yaitu kelas 0. Selain itu, 34 data data dari kelas 0 juga salah diprediksi sebagai kelas 1.\n",
        "\n",
        "Model terlalu condong ke kelas mayoritas (kelas 0)"
      ],
      "metadata": {
        "id": "CROTFdWV4Po5"
      }
    },
    {
      "cell_type": "code",
      "source": [
        "cr_lr = classification_report(y_test, y_pred_lr_adj)\n",
        "print(\"Classification Report Binary Logistic Regression:\\n\", cr_lr)"
      ],
      "metadata": {
        "colab": {
          "base_uri": "https://localhost:8080/"
        },
        "id": "KNRLTwOoy-4G",
        "outputId": "3626ae0b-4612-4fd2-c8d5-e6ce18b91bc6"
      },
      "execution_count": 37,
      "outputs": [
        {
          "output_type": "stream",
          "name": "stdout",
          "text": [
            "Classification Report Binary Logistic Regression:\n",
            "               precision    recall  f1-score   support\n",
            "\n",
            "           0       0.99      0.97      0.98      1185\n",
            "           1       0.11      0.27      0.15        15\n",
            "\n",
            "    accuracy                           0.96      1200\n",
            "   macro avg       0.55      0.62      0.57      1200\n",
            "weighted avg       0.98      0.96      0.97      1200\n",
            "\n"
          ]
        }
      ]
    },
    {
      "cell_type": "code",
      "source": [
        "lr_roc_auc = roc_auc_score(y_test, y_pred_probs_lr)\n",
        "print(f'ROC AUC Score: {lr_roc_auc*100:.2f}%')"
      ],
      "metadata": {
        "colab": {
          "base_uri": "https://localhost:8080/"
        },
        "id": "gorng2jxzEua",
        "outputId": "44a46a86-c0fd-4fa9-f250-32d2867afa37"
      },
      "execution_count": 38,
      "outputs": [
        {
          "output_type": "stream",
          "name": "stdout",
          "text": [
            "ROC AUC Score: 75.21%\n"
          ]
        }
      ]
    },
    {
      "cell_type": "markdown",
      "source": [
        "Model memiliki kemampuan yang baik dalam membedakan antar kelas. Dengan AUC sebesar 75,21%, kemungkinan besar prediksi model dapat membedakan data antar kategori dengan tingkat akurasi yang sangat tinggi."
      ],
      "metadata": {
        "id": "GkeGul9p6HhA"
      }
    },
    {
      "cell_type": "code",
      "source": [
        "fpr = {}\n",
        "tpr = {}\n",
        "roc_auc = {}\n",
        "\n",
        "for i in range(2):\n",
        "    fpr[i], tpr[i], _ = roc_curve(y_test, y_pred_probs_lr, pos_label=i)\n",
        "    roc_auc[i] = auc(fpr[i], tpr[i])\n",
        "\n",
        "# plot roc\n",
        "plt.figure()\n",
        "colors = ['blue', 'red']\n",
        "for i in range(2):\n",
        "    plt.plot(fpr[i], tpr[i], color=colors[i], lw=2, label=f'ROC curve (area = {roc_auc[i]*100:.2f}%)')\n",
        "\n",
        "plt.plot([0, 1], [0, 1], color='navy', lw=2, linestyle='--')\n",
        "plt.xlim([0.0, 1.0])\n",
        "plt.ylim([0.0, 1.05])\n",
        "plt.xlabel('False Positive Rate')\n",
        "plt.ylabel('True Positive Rate')\n",
        "plt.title('ROC Curve Binary Logistic Regression')\n",
        "plt.legend(loc=\"lower right\")\n",
        "plt.show()"
      ],
      "metadata": {
        "colab": {
          "base_uri": "https://localhost:8080/",
          "height": 472
        },
        "id": "E5zNFITRzZcy",
        "outputId": "de7546cc-e854-490d-c58d-8e75eba5f502"
      },
      "execution_count": 39,
      "outputs": [
        {
          "output_type": "display_data",
          "data": {
            "text/plain": [
              "<Figure size 640x480 with 1 Axes>"
            ],
            "image/png": "[encoded data removed]"
          },
          "metadata": {}
        }
      ]
    },
    {
      "cell_type": "markdown",
      "source": [
        "ROC AUC 75.21% (kurva merah) adalah metrik utama dan menunjukkan model sudah cukup baik dalam mengidentifikasi risiko kredit. Model mampu membedakan dengan baik antara \"Gagal Bayar\" (1) dan \"Tidak Gagal Bayar\" (0)."
      ],
      "metadata": {
        "id": "qTnyMLju7FAR"
      }
    },
    {
      "cell_type": "markdown",
      "source": [
        "## **Gradient Boosting Classifier**"
      ],
      "metadata": {
        "id": "U0ULQrELz-To"
      }
    },
    {
      "cell_type": "code",
      "source": [
        "y_pred_probs_gb = best_gb_model.predict_proba(X_test_scaled)[:, 1]\n",
        "y_pred_probs_gb"
      ],
      "metadata": {
        "colab": {
          "base_uri": "https://localhost:8080/"
        },
        "id": "Z8MPPOzL0Byt",
        "outputId": "b769719c-0c23-4512-865e-b983d71595f2"
      },
      "execution_count": 40,
      "outputs": [
        {
          "output_type": "execute_result",
          "data": {
            "text/plain": [
              "array([3.28395003e-09, 2.56891877e-06, 2.83471385e-09, ...,\n",
              "       1.77145664e-11, 9.99844932e-01, 1.19538919e-04])"
            ]
          },
          "metadata": {},
          "execution_count": 40
        }
      ]
    },
    {
      "cell_type": "markdown",
      "source": [
        "Output di atas adalah peluang setiap nasabah untuk masuk ke kategori tertentu. Semakin mendekati 1, maka nasabah tersebut lebih cocok masuk ke kategori tersebut. Sebaliknya, jika semakin mendekati 0 maka nasabah tersebut mustahil masuk ke kategori tersebut."
      ],
      "metadata": {
        "id": "6ymsimPj7dJD"
      }
    },
    {
      "cell_type": "code",
      "source": [
        "best_threshold = 0\n",
        "best_f1 = 0\n",
        "\n",
        "for t in np.arange(0.1, 0.9, 0.01):\n",
        "    y_pred_thresh_gb = (y_pred_probs_gb >= t).astype(int)\n",
        "    f1 = f1_score(y_test, y_pred_thresh_gb)\n",
        "    if f1 > best_f1:\n",
        "        best_f1 = f1\n",
        "        best_threshold = t\n",
        "\n",
        "print(f\"Best Threshold (GB) = {best_threshold:.2f}, F1 Score = {best_f1:.4f}\")"
      ],
      "metadata": {
        "colab": {
          "base_uri": "https://localhost:8080/"
        },
        "id": "wBFVxxN473Or",
        "outputId": "ffccaecf-cd44-4c5a-92a3-066c92ac315e"
      },
      "execution_count": 41,
      "outputs": [
        {
          "output_type": "stream",
          "name": "stdout",
          "text": [
            "Best Threshold (GB) = 0.19, F1 Score = 0.0455\n"
          ]
        }
      ]
    },
    {
      "cell_type": "markdown",
      "source": [
        "Output di atas dilakukan untuk menemukan ambang batas yang sesuai dalam melakukan prediksi."
      ],
      "metadata": {
        "id": "cqQof-j47hVk"
      }
    },
    {
      "cell_type": "code",
      "source": [
        "y_pred_gb_adj = (y_pred_probs_gb >= best_threshold).astype(int)\n",
        "y_pred_gb_adj"
      ],
      "metadata": {
        "colab": {
          "base_uri": "https://localhost:8080/"
        },
        "id": "ulgvQUpD_8nO",
        "outputId": "df88a85f-5fbe-40fe-ba70-67210f5cdfcc"
      },
      "execution_count": 42,
      "outputs": [
        {
          "output_type": "execute_result",
          "data": {
            "text/plain": [
              "array([0, 0, 0, ..., 0, 1, 0])"
            ]
          },
          "metadata": {},
          "execution_count": 42
        }
      ]
    },
    {
      "cell_type": "markdown",
      "source": [
        "Output di atas adalah hasil prediksi dari model yang terbentuk."
      ],
      "metadata": {
        "id": "nsgp_QAU7lxl"
      }
    },
    {
      "cell_type": "code",
      "source": [
        "print(f'Accuracy:  {accuracy_score(y_test, y_pred_gb_adj)*100:.2f}%')\n",
        "print(f'Precision: {precision_score(y_test, y_pred_gb_adj)*100:.2f}%')\n",
        "print(f'Recall:    {recall_score(y_test, y_pred_gb_adj)*100:.2f}%')\n",
        "print(f'F1 Score:  {f1_score(y_test, y_pred_gb_adj)*100:.2f}%')"
      ],
      "metadata": {
        "colab": {
          "base_uri": "https://localhost:8080/"
        },
        "id": "OfGV_waS0Kg4",
        "outputId": "a845ee22-c55d-4ed2-8c72-fe42de8a3675"
      },
      "execution_count": 43,
      "outputs": [
        {
          "output_type": "stream",
          "name": "stdout",
          "text": [
            "Accuracy:  96.50%\n",
            "Precision: 3.45%\n",
            "Recall:    6.67%\n",
            "F1 Score:  4.55%\n"
          ]
        }
      ]
    },
    {
      "cell_type": "markdown",
      "source": [
        "Berdasarkan output evaluasi:\n",
        "\n",
        "- Dari 1200 data yang diprediksi, model mampu memprediksi 1158 data dengan benar, sehingga akurasi model adalah 96,5%. Ini berarti hanya 42 prediksi yang tidak sesuai dengan label yang sebenarnya.\n",
        "- Presisi model sebesar 3,45% menunjukkan bahwa dari semua prediksi yang dibuat untuk setiap kelas, hanya 3,45%% yang sesuai dengan kelas aslinya, sedangkan 96,55% tidak sesuai dengan kelas aslinya. Ini berarti bahwa model tersebut sering memberikan label yang salah (False Positive).\n",
        "- Recall model sebesar 6,67% menunjukkan bahwa dari semua data yang sebenarnya termasuk dalam setiap kelas, model hanya dapat mengidentifikasi dengan benar sekitar 6,67%, sedangkan 93,33% tidak dapat diidentifikasi. Ini berarti bahwa model sering melewatkan data yang seharusnya diidentifikasi (False Negative).\n",
        "- Dengan nilai F1 sebesar 4,55%, menunjukkan bahwa presisi dan recall tidak seimbang seimbang. Nilai rendah ini menunjukkan bahwa model kesulitan menyeimbangkan antara menghindari label yang salah dan mendeteksi default dengan akurat."
      ],
      "metadata": {
        "id": "M6G4d6dj7yW9"
      }
    },
    {
      "cell_type": "code",
      "source": [
        "cm_gb = confusion_matrix(y_test, y_pred_gb_adj)\n",
        "sns.heatmap(cm_lr, annot=True, cmap='Blues', fmt='g')\n",
        "plt.xlabel('Predicted')\n",
        "plt.ylabel('Actual')\n",
        "plt.title('Confusion Matrix Gradient Boosting Classifier')\n",
        "plt.show()"
      ],
      "metadata": {
        "colab": {
          "base_uri": "https://localhost:8080/",
          "height": 472
        },
        "id": "dBS3JlqS0PSl",
        "outputId": "c7889702-7d1d-441b-8923-656a2bedc881"
      },
      "execution_count": 44,
      "outputs": [
        {
          "output_type": "display_data",
          "data": {
            "text/plain": [
              "<Figure size 640x480 with 2 Axes>"
            ],
            "image/png": "[encoded data removed]"
          },
          "metadata": {}
        }
      ]
    },
    {
      "cell_type": "markdown",
      "source": [
        "Berdasarkan plot konfusi matriks di atas:\n",
        "\n",
        "- Untuk kelas 0, model berhasil mengklasifikasikan 1151 dari 1185 data dengan benar dan hanya 34 data yang salah diklasifikasikan ke kelas lain, yaitu kelas 1. Selain itu, 11 data dari kelas 1 juga salah diprediksi sebagai kelas 0.\n",
        "- Untuk kelas 1, model berhasil mengklasifikasikan hanya 4 dari 15 data dengan benar dan 11 data salah diklasifikasikan ke kelas lain, yaitu kelas 0. Selain itu, 34 data data dari kelas 0 juga salah diprediksi sebagai kelas 1.\n",
        "Model terlalu condong ke kelas mayoritas (kelas 0)"
      ],
      "metadata": {
        "id": "VY1nf02b8Y2z"
      }
    },
    {
      "cell_type": "code",
      "source": [
        "cr_gb = classification_report(y_test, y_pred_gb_adj)\n",
        "print(\"Classification Report Gradient Boosting Classifier:\\n\", cr_lr)"
      ],
      "metadata": {
        "colab": {
          "base_uri": "https://localhost:8080/"
        },
        "id": "eVo-wuLi0S-3",
        "outputId": "add55785-b117-4114-ea38-087085aad066"
      },
      "execution_count": 45,
      "outputs": [
        {
          "output_type": "stream",
          "name": "stdout",
          "text": [
            "Classification Report Gradient Boosting Classifier:\n",
            "               precision    recall  f1-score   support\n",
            "\n",
            "           0       0.99      0.97      0.98      1185\n",
            "           1       0.11      0.27      0.15        15\n",
            "\n",
            "    accuracy                           0.96      1200\n",
            "   macro avg       0.55      0.62      0.57      1200\n",
            "weighted avg       0.98      0.96      0.97      1200\n",
            "\n"
          ]
        }
      ]
    },
    {
      "cell_type": "code",
      "source": [
        "gb_roc_auc = roc_auc_score(y_test, y_pred_probs_gb)\n",
        "print(f'ROC AUC Score: {gb_roc_auc*100:.2f}%')"
      ],
      "metadata": {
        "colab": {
          "base_uri": "https://localhost:8080/"
        },
        "id": "voT45ZU00Ysg",
        "outputId": "738cbac6-531a-4734-8a11-ad45af6bcdc3"
      },
      "execution_count": 46,
      "outputs": [
        {
          "output_type": "stream",
          "name": "stdout",
          "text": [
            "ROC AUC Score: 47.18%\n"
          ]
        }
      ]
    },
    {
      "cell_type": "markdown",
      "source": [
        "Model memiliki kemampuan yang buruk dalam membedakan antar kelas. Dengan AUC sebesar 47,18%, kemungkinan besar prediksi model kesulitan membedakan data antar kategori."
      ],
      "metadata": {
        "id": "dUcLRpVE8iIU"
      }
    },
    {
      "cell_type": "code",
      "source": [
        "fpr = {}\n",
        "tpr = {}\n",
        "roc_auc = {}\n",
        "\n",
        "for i in range(2):\n",
        "    fpr[i], tpr[i], _ = roc_curve(y_test, y_pred_probs_gb, pos_label=i)\n",
        "    roc_auc[i] = auc(fpr[i], tpr[i])\n",
        "\n",
        "# plot roc\n",
        "plt.figure()\n",
        "colors = ['blue', 'red']\n",
        "for i in range(2):\n",
        "    plt.plot(fpr[i], tpr[i], color=colors[i], lw=2, label=f'ROC curve (area = {roc_auc[i]*100:.2f}%)')\n",
        "plt.plot([0, 1], [0, 1], color='navy', lw=2, linestyle='--')\n",
        "plt.xlim([0.0, 1.0])\n",
        "plt.ylim([0.0, 1.05])\n",
        "plt.xlabel('False Positive Rate')\n",
        "plt.ylabel('True Positive Rate')\n",
        "plt.title('ROC Curve Gradient Boosting')\n",
        "plt.legend(loc=\"lower right\")\n",
        "plt.show()"
      ],
      "metadata": {
        "colab": {
          "base_uri": "https://localhost:8080/",
          "height": 472
        },
        "id": "5Yvt1AlG0b3N",
        "outputId": "74ba99ac-ff63-4bdb-a583-fd01569b7ae7"
      },
      "execution_count": 47,
      "outputs": [
        {
          "output_type": "display_data",
          "data": {
            "text/plain": [
              "<Figure size 640x480 with 1 Axes>"
            ],
            "image/png": "[encoded data removed]"
          },
          "metadata": {}
        }
      ]
    },
    {
      "cell_type": "markdown",
      "source": [
        "ROC AUC 47,18% (kurva merah) adalah metrik utama dan menunjukkan model kurang baik dalam mengidentifikasi risiko kredit. Model kesulitan membedakan dengan baik antara \"Gagal Bayar\" (1) dan \"Tidak Gagal Bayar\" (0)."
      ],
      "metadata": {
        "id": "k8fb1jXL8zdO"
      }
    },
    {
      "cell_type": "markdown",
      "source": [
        "## **Table Comparison**"
      ],
      "metadata": {
        "id": "3HTJeNqK1MVC"
      }
    },
    {
      "cell_type": "code",
      "source": [
        "score_comparison = pd.DataFrame({\n",
        "    'Model': ['Binary Logistic Regression', 'Gradient Boosting Classifier'],\n",
        "    'Accuracy': [accuracy_score(y_test, y_pred_lr_adj)*100, accuracy_score(y_test, y_pred_gb_adj)*100],\n",
        "    'Precision': [precision_score(y_test, y_pred_lr_adj)*100, precision_score(y_test, y_pred_gb_adj)*100],\n",
        "    'Recall': [recall_score(y_test, y_pred_lr_adj)*100, recall_score(y_test, y_pred_gb_adj)*100],\n",
        "    'F1 Score': [f1_score(y_test, y_pred_lr_adj)*100, f1_score(y_test, y_pred_gb_adj)*100],\n",
        "    'ROC AUC Score': [roc_auc_score(y_test, y_pred_probs_lr)*100, roc_auc_score(y_test, y_pred_probs_gb)*100]\n",
        "})\n",
        "score_comparison"
      ],
      "metadata": {
        "colab": {
          "base_uri": "https://localhost:8080/",
          "height": 125
        },
        "id": "rzkR9-0_1QGD",
        "outputId": "cebd367a-1e3f-444f-dcac-cb7e79d7099e"
      },
      "execution_count": 48,
      "outputs": [
        {
          "output_type": "execute_result",
          "data": {
            "text/plain": [
              "                          Model  Accuracy  Precision     Recall   F1 Score  \\\n",
              "0    Binary Logistic Regression     96.25  10.526316  26.666667  15.094340   \n",
              "1  Gradient Boosting Classifier     96.50   3.448276   6.666667   4.545455   \n",
              "\n",
              "   ROC AUC Score  \n",
              "0      75.212377  \n",
              "1      47.184248  "
            ],
            "text/html": [
              "\n",
              "  <div id=\"df-74d4d859-6623-426e-a0af-2160824febeb\" class=\"colab-df-container\">\n",
              "    <div>\n",
              "<style scoped>\n",
              "    .dataframe tbody tr th:only-of-type {\n",
              "        vertical-align: middle;\n",
              "    }\n",
              "\n",
              "    .dataframe tbody tr th {\n",
              "        vertical-align: top;\n",
              "    }\n",
              "\n",
              "    .dataframe thead th {\n",
              "        text-align: right;\n",
              "    }\n",
              "</style>\n",
              "<table border=\"1\" class=\"dataframe\">\n",
              "  <thead>\n",
              "    <tr style=\"text-align: right;\">\n",
              "      <th></th>\n",
              "      <th>Model</th>\n",
              "      <th>Accuracy</th>\n",
              "      <th>Precision</th>\n",
              "      <th>Recall</th>\n",
              "      <th>F1 Score</th>\n",
              "      <th>ROC AUC Score</th>\n",
              "    </tr>\n",
              "  </thead>\n",
              "  <tbody>\n",
              "    <tr>\n",
              "      <th>0</th>\n",
              "      <td>Binary Logistic Regression</td>\n",
              "      <td>96.25</td>\n",
              "      <td>10.526316</td>\n",
              "      <td>26.666667</td>\n",
              "      <td>15.094340</td>\n",
              "      <td>75.212377</td>\n",
              "    </tr>\n",
              "    <tr>\n",
              "      <th>1</th>\n",
              "      <td>Gradient Boosting Classifier</td>\n",
              "      <td>96.50</td>\n",
              "      <td>3.448276</td>\n",
              "      <td>6.666667</td>\n",
              "      <td>4.545455</td>\n",
              "      <td>47.184248</td>\n",
              "    </tr>\n",
              "  </tbody>\n",
              "</table>\n",
              "</div>\n",
              "    <div class=\"colab-df-buttons\">\n",
              "\n",
              "  <div class=\"colab-df-container\">\n",
              "    <button class=\"colab-df-convert\" onclick=\"convertToInteractive('df-74d4d859-6623-426e-a0af-2160824febeb')\"\n",
              "            title=\"Convert this dataframe to an interactive table.\"\n",
              "            style=\"display:none;\">\n",
              "\n",
              "  <svg xmlns=\"http://www.w3.org/2000/svg\" height=\"24px\" viewBox=\"0 -960 960 960\">\n",
              "    <path d=\"M120-120v-720h720v720H120Zm60-500h600v-160H180v160Zm220 220h160v-160H400v160Zm0 220h160v-160H400v160ZM180-400h160v-160H180v160Zm440 0h160v-160H620v160ZM180-180h160v-160H180v160Zm440 0h160v-160H620v160Z\"/>\n",
              "  </svg>\n",
              "    </button>\n",
              "\n",
              "  <style>\n",
              "    .colab-df-container {\n",
              "      display:flex;\n",
              "      gap: 12px;\n",
              "    }\n",
              "\n",
              "    .colab-df-convert {\n",
              "      background-color: #E8F0FE;\n",
              "      border: none;\n",
              "      border-radius: 50%;\n",
              "      cursor: pointer;\n",
              "      display: none;\n",
              "      fill: #1967D2;\n",
              "      height: 32px;\n",
              "      padding: 0 0 0 0;\n",
              "      width: 32px;\n",
              "    }\n",
              "\n",
              "    .colab-df-convert:hover {\n",
              "      background-color: #E2EBFA;\n",
              "      box-shadow: 0px 1px 2px rgba(60, 64, 67, 0.3), 0px 1px 3px 1px rgba(60, 64, 67, 0.15);\n",
              "      fill: #174EA6;\n",
              "    }\n",
              "\n",
              "    .colab-df-buttons div {\n",
              "      margin-bottom: 4px;\n",
              "    }\n",
              "\n",
              "    [theme=dark] .colab-df-convert {\n",
              "      background-color: #3B4455;\n",
              "      fill: #D2E3FC;\n",
              "    }\n",
              "\n",
              "    [theme=dark] .colab-df-convert:hover {\n",
              "      background-color: #434B5C;\n",
              "      box-shadow: 0px 1px 3px 1px rgba(0, 0, 0, 0.15);\n",
              "      filter: drop-shadow(0px 1px 2px rgba(0, 0, 0, 0.3));\n",
              "      fill: #FFFFFF;\n",
              "    }\n",
              "  </style>\n",
              "\n",
              "    <script>\n",
              "      const buttonEl =\n",
              "        document.querySelector('#df-74d4d859-6623-426e-a0af-2160824febeb button.colab-df-convert');\n",
              "      buttonEl.style.display =\n",
              "        google.colab.kernel.accessAllowed ? 'block' : 'none';\n",
              "\n",
              "      async function convertToInteractive(key) {\n",
              "        const element = document.querySelector('#df-74d4d859-6623-426e-a0af-2160824febeb');\n",
              "        const dataTable =\n",
              "          await google.colab.kernel.invokeFunction('convertToInteractive',\n",
              "                                                    [key], {});\n",
              "        if (!dataTable) return;\n",
              "\n",
              "        const docLinkHtml = 'Like what you see? Visit the ' +\n",
              "          '<a target=\"_blank\" href=https://colab.research.google.com/notebooks/data_table.ipynb>data table notebook</a>'\n",
              "          + ' to learn more about interactive tables.';\n",
              "        element.innerHTML = '';\n",
              "        dataTable['output_type'] = 'display_data';\n",
              "        await google.colab.output.renderOutput(dataTable, element);\n",
              "        const docLink = document.createElement('div');\n",
              "        docLink.innerHTML = docLinkHtml;\n",
              "        element.appendChild(docLink);\n",
              "      }\n",
              "    </script>\n",
              "  </div>\n",
              "\n",
              "\n",
              "    <div id=\"df-00005481-f308-4e24-9e0b-fc7c30db18d2\">\n",
              "      <button class=\"colab-df-quickchart\" onclick=\"quickchart('df-00005481-f308-4e24-9e0b-fc7c30db18d2')\"\n",
              "                title=\"Suggest charts\"\n",
              "                style=\"display:none;\">\n",
              "\n",
              "<svg xmlns=\"http://www.w3.org/2000/svg\" height=\"24px\"viewBox=\"0 0 24 24\"\n",
              "     width=\"24px\">\n",
              "    <g>\n",
              "        <path d=\"M19 3H5c-1.1 0-2 .9-2 2v14c0 1.1.9 2 2 2h14c1.1 0 2-.9 2-2V5c0-1.1-.9-2-2-2zM9 17H7v-7h2v7zm4 0h-2V7h2v10zm4 0h-2v-4h2v4z\"/>\n",
              "    </g>\n",
              "</svg>\n",
              "      </button>\n",
              "\n",
              "<style>\n",
              "  .colab-df-quickchart {\n",
              "      --bg-color: #E8F0FE;\n",
              "      --fill-color: #1967D2;\n",
              "      --hover-bg-color: #E2EBFA;\n",
              "      --hover-fill-color: #174EA6;\n",
              "      --disabled-fill-color: #AAA;\n",
              "      --disabled-bg-color: #DDD;\n",
              "  }\n",
              "\n",
              "  [theme=dark] .colab-df-quickchart {\n",
              "      --bg-color: #3B4455;\n",
              "      --fill-color: #D2E3FC;\n",
              "      --hover-bg-color: #434B5C;\n",
              "      --hover-fill-color: #FFFFFF;\n",
              "      --disabled-bg-color: #3B4455;\n",
              "      --disabled-fill-color: #666;\n",
              "  }\n",
              "\n",
              "  .colab-df-quickchart {\n",
              "    background-color: var(--bg-color);\n",
              "    border: none;\n",
              "    border-radius: 50%;\n",
              "    cursor: pointer;\n",
              "    display: none;\n",
              "    fill: var(--fill-color);\n",
              "    height: 32px;\n",
              "    padding: 0;\n",
              "    width: 32px;\n",
              "  }\n",
              "\n",
              "  .colab-df-quickchart:hover {\n",
              "    background-color: var(--hover-bg-color);\n",
              "    box-shadow: 0 1px 2px rgba(60, 64, 67, 0.3), 0 1px 3px 1px rgba(60, 64, 67, 0.15);\n",
              "    fill: var(--button-hover-fill-color);\n",
              "  }\n",
              "\n",
              "  .colab-df-quickchart-complete:disabled,\n",
              "  .colab-df-quickchart-complete:disabled:hover {\n",
              "    background-color: var(--disabled-bg-color);\n",
              "    fill: var(--disabled-fill-color);\n",
              "    box-shadow: none;\n",
              "  }\n",
              "\n",
              "  .colab-df-spinner {\n",
              "    border: 2px solid var(--fill-color);\n",
              "    border-color: transparent;\n",
              "    border-bottom-color: var(--fill-color);\n",
              "    animation:\n",
              "      spin 1s steps(1) infinite;\n",
              "  }\n",
              "\n",
              "  @keyframes spin {\n",
              "    0% {\n",
              "      border-color: transparent;\n",
              "      border-bottom-color: var(--fill-color);\n",
              "      border-left-color: var(--fill-color);\n",
              "    }\n",
              "    20% {\n",
              "      border-color: transparent;\n",
              "      border-left-color: var(--fill-color);\n",
              "      border-top-color: var(--fill-color);\n",
              "    }\n",
              "    30% {\n",
              "      border-color: transparent;\n",
              "      border-left-color: var(--fill-color);\n",
              "      border-top-color: var(--fill-color);\n",
              "      border-right-color: var(--fill-color);\n",
              "    }\n",
              "    40% {\n",
              "      border-color: transparent;\n",
              "      border-right-color: var(--fill-color);\n",
              "      border-top-color: var(--fill-color);\n",
              "    }\n",
              "    60% {\n",
              "      border-color: transparent;\n",
              "      border-right-color: var(--fill-color);\n",
              "    }\n",
              "    80% {\n",
              "      border-color: transparent;\n",
              "      border-right-color: var(--fill-color);\n",
              "      border-bottom-color: var(--fill-color);\n",
              "    }\n",
              "    90% {\n",
              "      border-color: transparent;\n",
              "      border-bottom-color: var(--fill-color);\n",
              "    }\n",
              "  }\n",
              "</style>\n",
              "\n",
              "      <script>\n",
              "        async function quickchart(key) {\n",
              "          const quickchartButtonEl =\n",
              "            document.querySelector('#' + key + ' button');\n",
              "          quickchartButtonEl.disabled = true;  // To prevent multiple clicks.\n",
              "          quickchartButtonEl.classList.add('colab-df-spinner');\n",
              "          try {\n",
              "            const charts = await google.colab.kernel.invokeFunction(\n",
              "                'suggestCharts', [key], {});\n",
              "          } catch (error) {\n",
              "            console.error('Error during call to suggestCharts:', error);\n",
              "          }\n",
              "          quickchartButtonEl.classList.remove('colab-df-spinner');\n",
              "          quickchartButtonEl.classList.add('colab-df-quickchart-complete');\n",
              "        }\n",
              "        (() => {\n",
              "          let quickchartButtonEl =\n",
              "            document.querySelector('#df-00005481-f308-4e24-9e0b-fc7c30db18d2 button');\n",
              "          quickchartButtonEl.style.display =\n",
              "            google.colab.kernel.accessAllowed ? 'block' : 'none';\n",
              "        })();\n",
              "      </script>\n",
              "    </div>\n",
              "\n",
              "  <div id=\"id_d8f71b0f-f35c-46b2-9ad0-894f4dd83459\">\n",
              "    <style>\n",
              "      .colab-df-generate {\n",
              "        background-color: #E8F0FE;\n",
              "        border: none;\n",
              "        border-radius: 50%;\n",
              "        cursor: pointer;\n",
              "        display: none;\n",
              "        fill: #1967D2;\n",
              "        height: 32px;\n",
              "        padding: 0 0 0 0;\n",
              "        width: 32px;\n",
              "      }\n",
              "\n",
              "      .colab-df-generate:hover {\n",
              "        background-color: #E2EBFA;\n",
              "        box-shadow: 0px 1px 2px rgba(60, 64, 67, 0.3), 0px 1px 3px 1px rgba(60, 64, 67, 0.15);\n",
              "        fill: #174EA6;\n",
              "      }\n",
              "\n",
              "      [theme=dark] .colab-df-generate {\n",
              "        background-color: #3B4455;\n",
              "        fill: #D2E3FC;\n",
              "      }\n",
              "\n",
              "      [theme=dark] .colab-df-generate:hover {\n",
              "        background-color: #434B5C;\n",
              "        box-shadow: 0px 1px 3px 1px rgba(0, 0, 0, 0.15);\n",
              "        filter: drop-shadow(0px 1px 2px rgba(0, 0, 0, 0.3));\n",
              "        fill: #FFFFFF;\n",
              "      }\n",
              "    </style>\n",
              "    <button class=\"colab-df-generate\" onclick=\"generateWithVariable('score_comparison')\"\n",
              "            title=\"Generate code using this dataframe.\"\n",
              "            style=\"display:none;\">\n",
              "\n",
              "  <svg xmlns=\"http://www.w3.org/2000/svg\" height=\"24px\"viewBox=\"0 0 24 24\"\n",
              "       width=\"24px\">\n",
              "    <path d=\"M7,19H8.4L18.45,9,17,7.55,7,17.6ZM5,21V16.75L18.45,3.32a2,2,0,0,1,2.83,0l1.4,1.43a1.91,1.91,0,0,1,.58,1.4,1.91,1.91,0,0,1-.58,1.4L9.25,21ZM18.45,9,17,7.55Zm-12,3A5.31,5.31,0,0,0,4.9,8.1,5.31,5.31,0,0,0,1,6.5,5.31,5.31,0,0,0,4.9,4.9,5.31,5.31,0,0,0,6.5,1,5.31,5.31,0,0,0,8.1,4.9,5.31,5.31,0,0,0,12,6.5,5.46,5.46,0,0,0,6.5,12Z\"/>\n",
              "  </svg>\n",
              "    </button>\n",
              "    <script>\n",
              "      (() => {\n",
              "      const buttonEl =\n",
              "        document.querySelector('#id_d8f71b0f-f35c-46b2-9ad0-894f4dd83459 button.colab-df-generate');\n",
              "      buttonEl.style.display =\n",
              "        google.colab.kernel.accessAllowed ? 'block' : 'none';\n",
              "\n",
              "      buttonEl.onclick = () => {\n",
              "        google.colab.notebook.generateWithVariable('score_comparison');\n",
              "      }\n",
              "      })();\n",
              "    </script>\n",
              "  </div>\n",
              "\n",
              "    </div>\n",
              "  </div>\n"
            ],
            "application/vnd.google.colaboratory.intrinsic+json": {
              "type": "dataframe",
              "variable_name": "score_comparison",
              "summary": "{\n  \"name\": \"score_comparison\",\n  \"rows\": 2,\n  \"fields\": [\n    {\n      \"column\": \"Model\",\n      \"properties\": {\n        \"dtype\": \"string\",\n        \"num_unique_values\": 2,\n        \"samples\": [\n          \"Gradient Boosting Classifier\",\n          \"Binary Logistic Regression\"\n        ],\n        \"semantic_type\": \"\",\n        \"description\": \"\"\n      }\n    },\n    {\n      \"column\": \"Accuracy\",\n      \"properties\": {\n        \"dtype\": \"number\",\n        \"std\": 0.1767766952966369,\n        \"min\": 96.25,\n        \"max\": 96.5,\n        \"num_unique_values\": 2,\n        \"samples\": [\n          96.5,\n          96.25\n        ],\n        \"semantic_type\": \"\",\n        \"description\": \"\"\n      }\n    },\n    {\n      \"column\": \"Precision\",\n      \"properties\": {\n        \"dtype\": \"number\",\n        \"std\": 5.0049300301770145,\n        \"min\": 3.4482758620689653,\n        \"max\": 10.526315789473683,\n        \"num_unique_values\": 2,\n        \"samples\": [\n          3.4482758620689653,\n          10.526315789473683\n        ],\n        \"semantic_type\": \"\",\n        \"description\": \"\"\n      }\n    },\n    {\n      \"column\": \"Recall\",\n      \"properties\": {\n        \"dtype\": \"number\",\n        \"std\": 14.142135623730951,\n        \"min\": 6.666666666666667,\n        \"max\": 26.666666666666668,\n        \"num_unique_values\": 2,\n        \"samples\": [\n          6.666666666666667,\n          26.666666666666668\n        ],\n        \"semantic_type\": \"\",\n        \"description\": \"\"\n      }\n    },\n    {\n      \"column\": \"F1 Score\",\n      \"properties\": {\n        \"dtype\": \"number\",\n        \"std\": 7.4591881720364785,\n        \"min\": 4.545454545454546,\n        \"max\": 15.09433962264151,\n        \"num_unique_values\": 2,\n        \"samples\": [\n          4.545454545454546,\n          15.09433962264151\n        ],\n        \"semantic_type\": \"\",\n        \"description\": \"\"\n      }\n    },\n    {\n      \"column\": \"ROC AUC Score\",\n      \"properties\": {\n        \"dtype\": \"number\",\n        \"std\": 19.818880359332663,\n        \"min\": 47.184247538677916,\n        \"max\": 75.21237693389592,\n        \"num_unique_values\": 2,\n        \"samples\": [\n          47.184247538677916,\n          75.21237693389592\n        ],\n        \"semantic_type\": \"\",\n        \"description\": \"\"\n      }\n    }\n  ]\n}"
            }
          },
          "metadata": {},
          "execution_count": 48
        }
      ]
    },
    {
      "cell_type": "markdown",
      "source": [
        "Berdasarkan output di atas, diketahui bahwa:\n",
        "- ROC AUC digunakan sebagai metrik utama dalam credit scoring karena mencerminkan kemampuan model membedakan risiko nasabah tanpa bergantung pada ambang batas (threshold) tertentu.\n",
        "- Model Regresi Logistik Biner dipilih untuk karena memiliki ROC AUC ≥ 70%, sehingga dianggap layak karena mampu mengurutkan risiko kredit secara efektif."
      ],
      "metadata": {
        "id": "UrO0A3bk9NcM"
      }
    },
    {
      "cell_type": "markdown",
      "source": [
        "# **MODEL FEASIBILITY**"
      ],
      "metadata": {
        "id": "WcIx8qEkx53X"
      }
    },
    {
      "cell_type": "code",
      "source": [
        "from scipy.stats import chi2"
      ],
      "metadata": {
        "id": "q6BSeCha6Gzv"
      },
      "execution_count": 72,
      "outputs": []
    },
    {
      "cell_type": "code",
      "source": [
        "def hosmer_lemeshow(y_true, y_prob, g=10):\n",
        "    data = pd.DataFrame({'y': y_true, 'prob': y_prob})\n",
        "    data['bin'] = pd.qcut(data['prob'], q=g, duplicates='drop')\n",
        "\n",
        "    obs = data.groupby('bin')['y'].agg(['sum', 'count'])\n",
        "    obs.columns = ['observed', 'total']\n",
        "    obs['expected'] = data.groupby('bin')['prob'].sum()\n",
        "    obs['not_observed'] = obs['total'] - obs['observed']\n",
        "    obs['not_expected'] = obs['total'] - obs['expected']\n",
        "\n",
        "    chi_stat = (((obs['observed'] - obs['expected']) ** 2) / obs['expected'] +\n",
        "                ((obs['not_observed'] - obs['not_expected']) ** 2) / obs['not_expected']).sum()\n",
        "\n",
        "    df = g - 2\n",
        "    p_value = 1 - chi2.cdf(chi_stat, df)\n",
        "\n",
        "    return chi_stat, p_value, df, obs"
      ],
      "metadata": {
        "id": "bOzrhZbH6JyR"
      },
      "execution_count": 73,
      "outputs": []
    },
    {
      "cell_type": "code",
      "source": [
        "chi2_stat, pval, df, table = hosmer_lemeshow(actual_values, fitted_values, g=10)\n",
        "\n",
        "print(f\"Hosmer-Lemeshow Chi² = {chi2_stat:.3f}\")\n",
        "print(f\"df = {df}, p-value = {pval:.4f}\")\n",
        "print(table)"
      ],
      "metadata": {
        "colab": {
          "base_uri": "https://localhost:8080/"
        },
        "id": "aFRmFFDY6Rnc",
        "outputId": "ca03e08c-ed29-4f58-ae32-76c3e0deb537"
      },
      "execution_count": 74,
      "outputs": [
        {
          "output_type": "stream",
          "name": "stdout",
          "text": [
            "Hosmer-Lemeshow Chi² = 383.836\n",
            "df = 8, p-value = 0.0000\n",
            "               observed  total  expected  not_observed  not_expected\n",
            "bin                                                                 \n",
            "(-0.001, 1.0]        15   1200       313          1185           887\n"
          ]
        }
      ]
    },
    {
      "cell_type": "code",
      "source": [
        "from sklearn.calibration import calibration_curve\n",
        "import matplotlib.pyplot as plt\n",
        "\n",
        "prob_true, prob_pred = calibration_curve(actual_values, fitted_values, n_bins=10)\n",
        "\n",
        "plt.plot(prob_pred, prob_true, marker='o', label='Model')\n",
        "plt.plot([0, 1], [0, 1], linestyle='--', label='Perfectly calibrated')\n",
        "plt.xlabel('Predicted probability')\n",
        "plt.ylabel('Observed probability')\n",
        "plt.title('Calibration Curve')\n",
        "plt.legend()\n",
        "plt.grid()\n",
        "plt.show()"
      ],
      "metadata": {
        "colab": {
          "base_uri": "https://localhost:8080/",
          "height": 472
        },
        "id": "eZJppo8m6cgu",
        "outputId": "aff5c9db-d48f-4f12-c3fa-5861c9366595"
      },
      "execution_count": 75,
      "outputs": [
        {
          "output_type": "display_data",
          "data": {
            "text/plain": [
              "<Figure size 640x480 with 1 Axes>"
            ],
            "image/png": "[encoded data removed]"
          },
          "metadata": {}
        }
      ]
    },
    {
      "cell_type": "code",
      "source": [
        "cutoff = 0.05\n",
        "safe_group = fitted_values <= cutoff\n",
        "default_risk_group = fitted_values > cutoff\n",
        "\n",
        "print(f\"Total data dengan risiko default <= 5%: {safe_group.sum()}\")\n",
        "print(f\"Actual default rate dalam grup: {actual_values[safe_group].mean():.4f}\")"
      ],
      "metadata": {
        "colab": {
          "base_uri": "https://localhost:8080/"
        },
        "id": "55i8jt81644B",
        "outputId": "1ba9446b-32a5-41e6-9af4-b0e32674c06e"
      },
      "execution_count": 77,
      "outputs": [
        {
          "output_type": "stream",
          "name": "stdout",
          "text": [
            "Total data dengan risiko default <= 5%: 887\n",
            "Actual default rate dalam grup: 0.0068\n"
          ]
        }
      ]
    },
    {
      "cell_type": "markdown",
      "source": [
        "# **PREDICTION**"
      ],
      "metadata": {
        "id": "vCXQCEXv_cDs"
      }
    },
    {
      "cell_type": "code",
      "source": [
        "# Fitted Values\n",
        "fitted_values = best_lr_model.predict(X_test_scaled)\n",
        "fitted_values"
      ],
      "metadata": {
        "colab": {
          "base_uri": "https://localhost:8080/"
        },
        "id": "MLd_GDPy_eic",
        "outputId": "ec44b247-c480-4470-e6ca-fa6b1e028240"
      },
      "execution_count": 49,
      "outputs": [
        {
          "output_type": "execute_result",
          "data": {
            "text/plain": [
              "array([0, 1, 0, ..., 0, 0, 1])"
            ]
          },
          "metadata": {},
          "execution_count": 49
        }
      ]
    },
    {
      "cell_type": "code",
      "source": [
        "actual_values = y_test\n",
        "actual_values"
      ],
      "metadata": {
        "colab": {
          "base_uri": "https://localhost:8080/",
          "height": 458
        },
        "id": "U2t3Np07_rb8",
        "outputId": "f54735e6-ef50-4ed8-c4ef-ef55544d6cc7"
      },
      "execution_count": 50,
      "outputs": [
        {
          "output_type": "execute_result",
          "data": {
            "text/plain": [
              "730     0\n",
              "4541    0\n",
              "4065    0\n",
              "1030    0\n",
              "2346    0\n",
              "       ..\n",
              "516     0\n",
              "3335    0\n",
              "965     0\n",
              "5468    0\n",
              "933     0\n",
              "Name: default, Length: 1200, dtype: int64"
            ],
            "text/html": [
              "<div>\n",
              "<style scoped>\n",
              "    .dataframe tbody tr th:only-of-type {\n",
              "        vertical-align: middle;\n",
              "    }\n",
              "\n",
              "    .dataframe tbody tr th {\n",
              "        vertical-align: top;\n",
              "    }\n",
              "\n",
              "    .dataframe thead th {\n",
              "        text-align: right;\n",
              "    }\n",
              "</style>\n",
              "<table border=\"1\" class=\"dataframe\">\n",
              "  <thead>\n",
              "    <tr style=\"text-align: right;\">\n",
              "      <th></th>\n",
              "      <th>default</th>\n",
              "    </tr>\n",
              "  </thead>\n",
              "  <tbody>\n",
              "    <tr>\n",
              "      <th>730</th>\n",
              "      <td>0</td>\n",
              "    </tr>\n",
              "    <tr>\n",
              "      <th>4541</th>\n",
              "      <td>0</td>\n",
              "    </tr>\n",
              "    <tr>\n",
              "      <th>4065</th>\n",
              "      <td>0</td>\n",
              "    </tr>\n",
              "    <tr>\n",
              "      <th>1030</th>\n",
              "      <td>0</td>\n",
              "    </tr>\n",
              "    <tr>\n",
              "      <th>2346</th>\n",
              "      <td>0</td>\n",
              "    </tr>\n",
              "    <tr>\n",
              "      <th>...</th>\n",
              "      <td>...</td>\n",
              "    </tr>\n",
              "    <tr>\n",
              "      <th>516</th>\n",
              "      <td>0</td>\n",
              "    </tr>\n",
              "    <tr>\n",
              "      <th>3335</th>\n",
              "      <td>0</td>\n",
              "    </tr>\n",
              "    <tr>\n",
              "      <th>965</th>\n",
              "      <td>0</td>\n",
              "    </tr>\n",
              "    <tr>\n",
              "      <th>5468</th>\n",
              "      <td>0</td>\n",
              "    </tr>\n",
              "    <tr>\n",
              "      <th>933</th>\n",
              "      <td>0</td>\n",
              "    </tr>\n",
              "  </tbody>\n",
              "</table>\n",
              "<p>1200 rows × 1 columns</p>\n",
              "</div><br><label><b>dtype:</b> int64</label>"
            ]
          },
          "metadata": {},
          "execution_count": 50
        }
      ]
    },
    {
      "cell_type": "code",
      "source": [
        "# Save to csv\n",
        "pd.DataFrame({'Actual': actual_values, 'Fitted': fitted_values}).to_csv('prediction.csv', index=False)"
      ],
      "metadata": {
        "id": "qJOqENND_v51"
      },
      "execution_count": null,
      "outputs": []
    },
    {
      "cell_type": "markdown",
      "source": [
        "# **SCORECARD**"
      ],
      "metadata": {
        "id": "wwUvE_teDAZ4"
      }
    },
    {
      "cell_type": "code",
      "source": [
        "y_pred_probs_lr"
      ],
      "metadata": {
        "id": "dw0Ip9YlDD8w",
        "colab": {
          "base_uri": "https://localhost:8080/"
        },
        "outputId": "e5734370-36aa-4c58-caa5-e2821cf75674"
      },
      "execution_count": 51,
      "outputs": [
        {
          "output_type": "execute_result",
          "data": {
            "text/plain": [
              "array([0.21192213, 0.54709773, 0.0172011 , ..., 0.34173508, 0.48891594,\n",
              "       0.84720115])"
            ]
          },
          "metadata": {},
          "execution_count": 51
        }
      ]
    },
    {
      "cell_type": "code",
      "source": [
        "# convert to score\n",
        "def convert_to_score(y_pred_probs_lr, base_score = 300, score_range = 850):\n",
        "    score = base_score + (1 - y_pred_probs_lr) * score_range\n",
        "    return score\n",
        "\n",
        "# Show credit score\n",
        "credit_scores = convert_to_score(y_pred_probs_lr)\n",
        "credit_scores"
      ],
      "metadata": {
        "colab": {
          "base_uri": "https://localhost:8080/"
        },
        "id": "IHns0sxYDYRg",
        "outputId": "a57f2981-6cea-4d31-91b4-0ad5fa77be4a"
      },
      "execution_count": 52,
      "outputs": [
        {
          "output_type": "execute_result",
          "data": {
            "text/plain": [
              "array([ 969.86618894,  684.96693304, 1135.37906858, ...,  859.52518299,\n",
              "        734.42145358,  429.87902164])"
            ]
          },
          "metadata": {},
          "execution_count": 52
        }
      ]
    },
    {
      "cell_type": "markdown",
      "source": [
        "Output di atas, menunjukkan skor kredit dari hasil konversi peluang setiap nasabah dikategorikan ke dalam kelas tertentu, ke dalam skala 300 - 850 (sesuai referensi industri).\n",
        "\n",
        "Semakin kecil skor kredit, maka semakin besar risiko nasabah Gagal Bayar, sebaliknya apabila semakin besar skor kredit maka semakin kecil risiko nasabah Gagal Bayar."
      ],
      "metadata": {
        "id": "vaah6jq_plDV"
      }
    },
    {
      "cell_type": "code",
      "source": [
        "# Histogram for credit scoring\n",
        "plt.figure(figsize=(10, 6))\n",
        "plt.hist(credit_scores, bins=30, edgecolor='k')\n",
        "plt.xlabel('Credit Score')\n",
        "plt.ylabel('Frequency')\n",
        "plt.title('Distribution of Credit Scores')\n",
        "plt.grid(True)\n",
        "plt.show()"
      ],
      "metadata": {
        "colab": {
          "base_uri": "https://localhost:8080/",
          "height": 564
        },
        "id": "EKmRc_4_EJiv",
        "outputId": "36b80db2-8e32-4621-ae91-9040d1b1151c"
      },
      "execution_count": 53,
      "outputs": [
        {
          "output_type": "display_data",
          "data": {
            "text/plain": [
              "<Figure size 1000x600 with 1 Axes>"
            ],
            "image/png": "[encoded data removed]"
          },
          "metadata": {}
        }
      ]
    },
    {
      "cell_type": "markdown",
      "source": [
        "Berdasarkan plot histogram di atas:\n",
        "- Sebagian besar nasabah skor kredit disekitar 700 - 800. Artinya sebagian besar dari nasabah memiliki risiko Gagal Bayar yang rendah (Aman untuk diberi pinjaman).\n"
      ],
      "metadata": {
        "id": "S0z0G25Tqymt"
      }
    },
    {
      "cell_type": "markdown",
      "source": [
        "# **SHAP TOP FEATURES**"
      ],
      "metadata": {
        "id": "BiCT1Pz4E668"
      }
    },
    {
      "cell_type": "code",
      "source": [
        "!pip install shap"
      ],
      "metadata": {
        "colab": {
          "base_uri": "https://localhost:8080/"
        },
        "id": "DWlzZa4LFA6b",
        "outputId": "22b71e0b-22b8-4773-a737-857a1e76e183"
      },
      "execution_count": null,
      "outputs": [
        {
          "output_type": "stream",
          "name": "stdout",
          "text": [
            "Requirement already satisfied: shap in /usr/local/lib/python3.11/dist-packages (0.48.0)\n",
            "Requirement already satisfied: numpy in /usr/local/lib/python3.11/dist-packages (from shap) (2.0.2)\n",
            "Requirement already satisfied: scipy in /usr/local/lib/python3.11/dist-packages (from shap) (1.15.3)\n",
            "Requirement already satisfied: scikit-learn in /usr/local/lib/python3.11/dist-packages (from shap) (1.6.1)\n",
            "Requirement already satisfied: pandas in /usr/local/lib/python3.11/dist-packages (from shap) (2.2.2)\n",
            "Requirement already satisfied: tqdm>=4.27.0 in /usr/local/lib/python3.11/dist-packages (from shap) (4.67.1)\n",
            "Requirement already satisfied: packaging>20.9 in /usr/local/lib/python3.11/dist-packages (from shap) (24.2)\n",
            "Requirement already satisfied: slicer==0.0.8 in /usr/local/lib/python3.11/dist-packages (from shap) (0.0.8)\n",
            "Requirement already satisfied: numba>=0.54 in /usr/local/lib/python3.11/dist-packages (from shap) (0.60.0)\n",
            "Requirement already satisfied: cloudpickle in /usr/local/lib/python3.11/dist-packages (from shap) (3.1.1)\n",
            "Requirement already satisfied: typing-extensions in /usr/local/lib/python3.11/dist-packages (from shap) (4.14.0)\n",
            "Requirement already satisfied: llvmlite<0.44,>=0.43.0dev0 in /usr/local/lib/python3.11/dist-packages (from numba>=0.54->shap) (0.43.0)\n",
            "Requirement already satisfied: python-dateutil>=2.8.2 in /usr/local/lib/python3.11/dist-packages (from pandas->shap) (2.9.0.post0)\n",
            "Requirement already satisfied: pytz>=2020.1 in /usr/local/lib/python3.11/dist-packages (from pandas->shap) (2025.2)\n",
            "Requirement already satisfied: tzdata>=2022.7 in /usr/local/lib/python3.11/dist-packages (from pandas->shap) (2025.2)\n",
            "Requirement already satisfied: joblib>=1.2.0 in /usr/local/lib/python3.11/dist-packages (from scikit-learn->shap) (1.5.1)\n",
            "Requirement already satisfied: threadpoolctl>=3.1.0 in /usr/local/lib/python3.11/dist-packages (from scikit-learn->shap) (3.6.0)\n",
            "Requirement already satisfied: six>=1.5 in /usr/local/lib/python3.11/dist-packages (from python-dateutil>=2.8.2->pandas->shap) (1.17.0)\n"
          ]
        }
      ]
    },
    {
      "cell_type": "code",
      "source": [
        "import shap"
      ],
      "metadata": {
        "id": "v_Per15JFG4O"
      },
      "execution_count": 54,
      "outputs": []
    },
    {
      "cell_type": "code",
      "source": [
        "# Initialize explainer\n",
        "explainer = shap.Explainer(best_lr_model.predict_proba, X_train_scaled)\n",
        "\n",
        "# Shap values\n",
        "shap_values = explainer(X_test_scaled)"
      ],
      "metadata": {
        "id": "GMx7eKDGFKiv"
      },
      "execution_count": 55,
      "outputs": []
    },
    {
      "cell_type": "markdown",
      "source": [
        "Nilai shap digunakan untuk membuat baseline expectation. Nilai ini akan menghitung berapa kontribusi masing-masing fitur terhadap probabilitas default untuk setiap nasabah"
      ],
      "metadata": {
        "id": "_4Si0RgesbRa"
      }
    },
    {
      "cell_type": "code",
      "source": [
        "# Plot for top features\n",
        "plt.figure(figsize=(10, 6))\n",
        "shap.plots.bar(shap_values[:, :, 1], show=False)\n",
        "plt.title(\"Top Feature Importance - SHAP (Binary Logistic Regression)\")\n",
        "plt.tight_layout()\n",
        "plt.savefig(\"top_shap_lr.png\", dpi=300)\n",
        "plt.show()"
      ],
      "metadata": {
        "colab": {
          "base_uri": "https://localhost:8080/",
          "height": 407
        },
        "id": "fnOMKW9JF6Dn",
        "outputId": "f3ff576a-295b-42bd-edc5-d62d36573880"
      },
      "execution_count": 56,
      "outputs": [
        {
          "output_type": "display_data",
          "data": {
            "text/plain": [
              "<Figure size 800x400 with 1 Axes>"
            ],
            "image/png": "[encoded data removed]"
          },
          "metadata": {}
        }
      ]
    },
    {
      "cell_type": "markdown",
      "source": [
        "Berdasarkan output di atas, diketahui bahwa:\n",
        "- Urutan variabel yang paling berpengaruh terhadap keputusan nasabah untuk membayar pinjaman adalah credit score, loan amount, monthly income, dan previous defaults. Sementara itu, variabel age tidak berkontribusi signifikan terhadap keputusan.\n",
        "- Model mengandalkan skor kredit dan jumlah pinjaman sebagai indikator utama untuk memprediksi risiko."
      ],
      "metadata": {
        "id": "PV5afSB-s3N1"
      }
    },
    {
      "cell_type": "markdown",
      "source": [
        "# **DECISION**"
      ],
      "metadata": {
        "id": "f6FOf02QGlFB"
      }
    },
    {
      "cell_type": "code",
      "source": [
        "# Set specific customer (i.e. 42)\n",
        "applicant_idx = 42\n",
        "\n",
        "# Probability for customer\n",
        "proba_default = y_pred_probs_lr[applicant_idx]\n",
        "print(f\"Probability of Default: {proba_default:.2f}\")\n",
        "\n",
        "# Customer score\n",
        "score = convert_to_score(np.array([proba_default]))[0]\n",
        "print(f\"Credit Score: {score:.2f}\")"
      ],
      "metadata": {
        "id": "OD50S67hGnlQ",
        "colab": {
          "base_uri": "https://localhost:8080/"
        },
        "outputId": "7bd2b497-abab-422a-b54f-439d12d2c26a"
      },
      "execution_count": 57,
      "outputs": [
        {
          "output_type": "stream",
          "name": "stdout",
          "text": [
            "Probability of Default: 0.21\n",
            "Credit Score: 970.43\n"
          ]
        }
      ]
    },
    {
      "cell_type": "code",
      "source": [
        "X_test_scaled.iloc[42]"
      ],
      "metadata": {
        "colab": {
          "base_uri": "https://localhost:8080/",
          "height": 240
        },
        "id": "ru9tHR93uN76",
        "outputId": "6475998b-62e4-4bfb-891b-104091ada7a6"
      },
      "execution_count": 62,
      "outputs": [
        {
          "output_type": "execute_result",
          "data": {
            "text/plain": [
              "age                 -1.264573\n",
              "monthly_income       1.020319\n",
              "loan_amount          1.327931\n",
              "previous_defaults   -0.501123\n",
              "credit_score         0.785588\n",
              "Name: 1261, dtype: float64"
            ],
            "text/html": [
              "<div>\n",
              "<style scoped>\n",
              "    .dataframe tbody tr th:only-of-type {\n",
              "        vertical-align: middle;\n",
              "    }\n",
              "\n",
              "    .dataframe tbody tr th {\n",
              "        vertical-align: top;\n",
              "    }\n",
              "\n",
              "    .dataframe thead th {\n",
              "        text-align: right;\n",
              "    }\n",
              "</style>\n",
              "<table border=\"1\" class=\"dataframe\">\n",
              "  <thead>\n",
              "    <tr style=\"text-align: right;\">\n",
              "      <th></th>\n",
              "      <th>1261</th>\n",
              "    </tr>\n",
              "  </thead>\n",
              "  <tbody>\n",
              "    <tr>\n",
              "      <th>age</th>\n",
              "      <td>-1.264573</td>\n",
              "    </tr>\n",
              "    <tr>\n",
              "      <th>monthly_income</th>\n",
              "      <td>1.020319</td>\n",
              "    </tr>\n",
              "    <tr>\n",
              "      <th>loan_amount</th>\n",
              "      <td>1.327931</td>\n",
              "    </tr>\n",
              "    <tr>\n",
              "      <th>previous_defaults</th>\n",
              "      <td>-0.501123</td>\n",
              "    </tr>\n",
              "    <tr>\n",
              "      <th>credit_score</th>\n",
              "      <td>0.785588</td>\n",
              "    </tr>\n",
              "  </tbody>\n",
              "</table>\n",
              "</div><br><label><b>dtype:</b> float64</label>"
            ]
          },
          "metadata": {},
          "execution_count": 62
        }
      ]
    },
    {
      "cell_type": "markdown",
      "source": [
        "Simulasi menggunakan sampel no 42"
      ],
      "metadata": {
        "id": "GNQXd4sttoDL"
      }
    },
    {
      "cell_type": "code",
      "source": [
        "# Extract shap values\n",
        "shap_values_app = shap_values[applicant_idx, :, 1]\n",
        "\n",
        "# Shap plot\n",
        "shap.plots.waterfall(shap_values_app, max_display=10, show=False)\n",
        "plt.title(\"SHAP Waterfall - Top Feature Impacts\")\n",
        "plt.tight_layout()\n",
        "plt.savefig(\"shap_waterfall_applicant.png\", dpi=300)\n",
        "plt.show()"
      ],
      "metadata": {
        "colab": {
          "base_uri": "https://localhost:8080/",
          "height": 407
        },
        "id": "WGkztsV3G0_6",
        "outputId": "9a4d0c08-01e3-45b4-f217-a5f35bf699c5"
      },
      "execution_count": 63,
      "outputs": [
        {
          "output_type": "display_data",
          "data": {
            "text/plain": [
              "<Figure size 800x400 with 3 Axes>"
            ],
            "image/png": "[encoded data removed]"
          },
          "metadata": {}
        }
      ]
    },
    {
      "cell_type": "code",
      "source": [
        "shap_values_app"
      ],
      "metadata": {
        "colab": {
          "base_uri": "https://localhost:8080/"
        },
        "id": "am6wIt_BwdJl",
        "outputId": "e4aab30a-08fc-4a62-c94f-8ec039b1fa7a"
      },
      "execution_count": 64,
      "outputs": [
        {
          "output_type": "execute_result",
          "data": {
            "text/plain": [
              ".values =\n",
              "array([-0.00383013, -0.13040352,  0.16742709, -0.02930164, -0.13189585])\n",
              "\n",
              ".base_values =\n",
              "np.float64(0.33925868287710165)\n",
              "\n",
              ".data =\n",
              "array([-1.26457278,  1.02031867,  1.32793117, -0.50112306,  0.78558765])"
            ]
          },
          "metadata": {},
          "execution_count": 64
        }
      ]
    },
    {
      "cell_type": "markdown",
      "source": [
        "Berdasarkan output di atas, nasabah ke-42 yang digunakan sebagai sampel untuk memprediksi risiko Gagal Bayar atau Tidak Gagal Bayar.\n",
        "- Faktor yang meningkatkan risiko membayar pinjaman adalah \"loan_amount\". Fitur ini menaikkan skor prediksi sebesar 0,17.\n",
        "- Faktor yang menurunkan risiko membayar pinjaman adalah \"credit score\" dan \"monthly income\". Kedua fitur ini menurunkan skor prediksi sebesar 0,13.\n",
        "\n",
        "- Nasabah ke-42 diprediksi memiliki risiko rendah untuk Gagal Bayar pinjaman.\n",
        "- Jumlah pinjaman yang diajukan cukup besar, sehingga ini meningkatkan risiko gagal bayar.\n",
        "- Namun, nasabah ini memiliki skor kredit yang tinggi dan penghasilan bulanan yang besar. Kedua hal ini membuat model menilai nasabah lebih mampu membayar pinjamannya tepat waktu."
      ],
      "metadata": {
        "id": "J3MAr5kftzTE"
      }
    },
    {
      "cell_type": "code",
      "source": [
        "# Customer Data\n",
        "credit_score = 786\n",
        "loan_amount = 5000000\n",
        "monthly_income = 10000000\n",
        "previous_defaults = 0\n",
        "age = 30"
      ],
      "metadata": {
        "id": "aqQxWAMNBHqR"
      },
      "execution_count": 68,
      "outputs": []
    },
    {
      "cell_type": "code",
      "source": [
        "# Model Results\n",
        "predicted_risk = 0.211\n",
        "baseline_risk = 0.339"
      ],
      "metadata": {
        "id": "n4WgJyPwBO4w"
      },
      "execution_count": 69,
      "outputs": []
    },
    {
      "cell_type": "code",
      "source": [
        "# Shap values for each features\n",
        "shap_values = {\n",
        "    'Loan Amount': +0.17,\n",
        "    'Credit Score': -0.13,\n",
        "    'Monthly Income': -0.13,\n",
        "    'Previous Defaults': -0.01,\n",
        "    'Age': 0.00\n",
        "}"
      ],
      "metadata": {
        "id": "AK7QssVHBa5z"
      },
      "execution_count": 70,
      "outputs": []
    },
    {
      "cell_type": "code",
      "source": [
        "# Slide Decision\n",
        "fig, ax = plt.subplots(figsize=(12, 7))\n",
        "plt.axis('off')\n",
        "\n",
        "# Title\n",
        "plt.text(0, 1.00, 'Decision Slide: Evaluation of IDR 5 Million Credit Application',\n",
        "         fontsize=16, fontweight='bold')\n",
        "\n",
        "# Section 1 - Customer Profile\n",
        "profile_y = 0.90\n",
        "profile_lines = [\n",
        "    \"Customer Profile:\",\n",
        "    f\"- Credit Score: {credit_score}\",\n",
        "    f\"- Loan Amount: IDR {loan_amount:,}\",\n",
        "    f\"- Monthly Income: IDR {monthly_income:,}\",\n",
        "    \"- Previous Defaults: Nothing\",\n",
        "    f\"- Age: {age} Y.O\"\n",
        "]\n",
        "for i, line in enumerate(profile_lines):\n",
        "    plt.text(0, profile_y - i*0.04, line, fontsize=12, va='top')\n",
        "\n",
        "# Section 2 - Model Prediction\n",
        "analisis_y = profile_y - len(profile_lines)*0.04 - 0.06\n",
        "analisis_lines = [\n",
        "    \"Model Prediction:\",\n",
        "    f\"- Predicted Default Risk: {predicted_risk*100:.1f}%\",\n",
        "    f\"- Baseline Risk: {baseline_risk*100:.1f}%\",\n",
        "    \"➡️ Customer risk is lower than the general population\"\n",
        "]\n",
        "for i, line in enumerate(analisis_lines):\n",
        "    plt.text(0, analisis_y - i*0.04, line, fontsize=12, va='top')\n",
        "\n",
        "# Section 3 - SHAP\n",
        "shap_y = analisis_y - len(analisis_lines)*0.04 - 0.06\n",
        "plt.text(0, shap_y, 'Main Factor (SHAP):', fontsize=12, fontweight='bold')\n",
        "for i, (k, v) in enumerate(shap_values.items()):\n",
        "    sign = \"+\" if v > 0 else \"−\"\n",
        "    impact = '(increase risk)' if v > 0 else '(reduce risk)'\n",
        "    line = f\"- {k}: {sign}{abs(v)*100:.0f}% {impact}\"\n",
        "    plt.text(0, shap_y - (i+1)*0.035, line, fontsize=11, va='top')\n",
        "\n",
        "# Section 4 - Decision\n",
        "decision_y = shap_y - (len(shap_values)+1)*0.035 - 0.06\n",
        "plt.text(0, decision_y, 'Decision: APPROVED',\n",
        "         fontsize=14, fontweight='bold', color='green')\n",
        "plt.text(0, decision_y - 0.045,\n",
        "         'Reason: Low Risk, High Credit Score, and Sufficient Income',\n",
        "         fontsize=11, va='top')\n",
        "\n",
        "# Save the slide as an image\n",
        "plt.savefig('decision_slide.png', dpi=300)\n",
        "\n",
        "plt.tight_layout()\n",
        "plt.show()"
      ],
      "metadata": {
        "colab": {
          "base_uri": "https://localhost:8080/",
          "height": 621
        },
        "id": "brOmBG4LBoxa",
        "outputId": "74477dd8-b1e3-4e93-b185-62746f714b14"
      },
      "execution_count": 71,
      "outputs": [
        {
          "output_type": "display_data",
          "data": {
            "text/plain": [
              "<Figure size 1200x700 with 1 Axes>"
            ],
            "image/png": "[encoded data removed]"
          },
          "metadata": {}
        }
      ]
    }
  ]
}